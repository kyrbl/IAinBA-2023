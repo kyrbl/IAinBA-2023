{
  "nbformat": 4,
  "nbformat_minor": 0,
  "metadata": {
    "colab": {
      "name": "КП№1_Основи_Python (1).ipynb",
      "provenance": [],
      "collapsed_sections": []
    },
    "kernelspec": {
      "name": "python3",
      "display_name": "Python 3"
    }
  },
  "cells": [
    {
      "cell_type": "markdown",
      "metadata": {
        "id": "4jLE0nxT_P19"
      },
      "source": [
        "\n",
        "<center><font size=\"6\"><b>Комп'ютерний практикум 1.\n",
        "\n",
        " Основи Python</b></font></center>\n",
        "\n",
        "\n",
        "***"
      ]
    },
    {
      "cell_type": "markdown",
      "metadata": {
        "id": "nb_WlwqB8hrg"
      },
      "source": [
        "> Для запуску коду в Python обираємо комбінацію <kbd>Ctrl</kbd> + <kbd>Enter</kbd> або натискаємо стрілку, що з'являється на квадратних дужках [ ]  \n",
        "\n",
        "> Для виводу результату використовується функція <code>print()</code>, аргумент якої записується в дужках. Якщо аргументів декілька, вони вказуються через кому."
      ]
    },
    {
      "cell_type": "markdown",
      "metadata": {
        "id": "97rJQSzw61Hk"
      },
      "source": [
        "Базові *типи даних* в Python є:\n",
        "\n",
        "\n",
        "| Тип | Приклад | функція в Python |\n",
        "|:-:|:-:|:-:|\n",
        "| Цілі числа (integers) | 1, 10, 42 | `int()`\n",
        "| Дійсні числа (floating-point numbers) | 1.0, 20.65, 12e5 | `float()`\n",
        "|Комплексні числа (complex numbers) | (4+8j) | `complex(re, im)`\n",
        "| Строковий (strings) | “Hello, Python!”, “Data Science” | `str()`\n",
        "| Логічний (Boolean) | True, False | `bool()`\n",
        "\n",
        "> Функція <code>type()</code> виводить тип даних"
      ]
    },
    {
      "cell_type": "markdown",
      "metadata": {
        "id": "Sq8Nkqkk7tdm"
      },
      "source": [
        "### <i> Наприклад </i>"
      ]
    },
    {
      "cell_type": "code",
      "metadata": {
        "id": "tgYEg7Pl7g7A"
      },
      "source": [
        "x = 2\n",
        "print(x, type(x))\n",
        "\n",
        "x = 42.42\n",
        "print(x, type(x))\n",
        "\n",
        "x = complex(1,5)\n",
        "print(x, type(x))\n",
        "\n",
        "x = 'Hello, Python!'\n",
        "print(x, type(x))\n",
        "\n",
        "x = True\n",
        "print(x, type(x))"
      ],
      "execution_count": null,
      "outputs": []
    },
    {
      "cell_type": "markdown",
      "metadata": {
        "id": "MHZ9JQ5w-RKf"
      },
      "source": [
        "> <code>sys</code> це модуль, який містить низку системних параметрів та функцій, включаючи поточну версію Python. Для використання цього модуля, його необхідно імпортувати, що забезпечує команда <code>import</code>."
      ]
    },
    {
      "cell_type": "code",
      "metadata": {
        "id": "8r6bYJSB-klj"
      },
      "source": [
        "# Перевіримо версію Python\n",
        "\n",
        "import sys\n",
        "print(sys.version)"
      ],
      "execution_count": null,
      "outputs": []
    },
    {
      "cell_type": "markdown",
      "metadata": {
        "id": "BU2tJIv8E2f-"
      },
      "source": [
        "### Алгебраїчні операції:\n",
        "\n",
        "| Operation | Note |\n",
        "|:-:|:-:|\n",
        "| x + y | сума  x та y |\n",
        "| x - y | різниця x та y |\n",
        "| x * y | добуток x та y |\n",
        "| x / y | частка x та y |\n",
        "| x // y | ділення без остачі x та y |\n",
        "| x % y | залишок від ділення x / y |\n",
        "| -x | протилежне до x  |\n",
        "| abs(x) | модуль x |\n",
        "| pow(x, y) | x в степені y |\n",
        "| x ** y | x в степені y |"
      ]
    },
    {
      "cell_type": "markdown",
      "metadata": {
        "id": "nDI9VURQGqW8"
      },
      "source": [
        "### <i> Наприклад </i>"
      ]
    },
    {
      "cell_type": "code",
      "metadata": {
        "id": "mUzyKlWFGK58"
      },
      "source": [
        "-5**3"
      ],
      "execution_count": null,
      "outputs": []
    },
    {
      "cell_type": "code",
      "metadata": {
        "id": "26FqJETCGVqO"
      },
      "source": [
        "x = 7\n",
        "y = 3\n",
        "print('залишок від {} / {} є {}'.format(x, y, x % y))\n",
        "\n",
        "x = 4\n",
        "y = 5\n",
        "print('{} в степені {} є {}'.format(x, y, pow(x, y)))"
      ],
      "execution_count": null,
      "outputs": []
    },
    {
      "cell_type": "markdown",
      "metadata": {
        "id": "IUwJrZIaG4Qg"
      },
      "source": [
        "### Логічні оператори та оператори порівняння:\n",
        "\n",
        "| Оператори | Пояснення |\n",
        "|:-:|:-:|\n",
        "| x or y | True, якщо хочаб одне значення True |\n",
        "| x and y | False, якщо хочаб одне значення False|\n",
        "| not x | True, якщо х False |\n",
        "|x > y| x більше за у|\n",
        "|x < y| х менше за у |\n",
        "|x >= y|х більше або рівне у|\n",
        "|x <= y|х менше або рівне у|\n",
        "|x == y|х рівне у|\n",
        "|x!= y|х не рівне у|\n",
        "|||\n"
      ]
    },
    {
      "cell_type": "markdown",
      "metadata": {
        "id": "gvkX8BGSdcl4"
      },
      "source": [
        "### <i> Наприклад </i>"
      ]
    },
    {
      "cell_type": "code",
      "metadata": {
        "id": "EnZkwpMidS4c"
      },
      "source": [
        "x, y = True, False\n",
        "print(not y)"
      ],
      "execution_count": null,
      "outputs": []
    },
    {
      "cell_type": "code",
      "metadata": {
        "id": "1oxGe7nXdhH7"
      },
      "source": [
        "8 < 14"
      ],
      "execution_count": null,
      "outputs": []
    },
    {
      "cell_type": "code",
      "metadata": {
        "id": "lFIfXzxhdoJ2"
      },
      "source": [
        "'man' is not 'woman'"
      ],
      "execution_count": null,
      "outputs": []
    },
    {
      "cell_type": "code",
      "metadata": {
        "id": "qishRTVcdrF0"
      },
      "source": [
        "10 == 10"
      ],
      "execution_count": null,
      "outputs": []
    },
    {
      "cell_type": "markdown",
      "metadata": {
        "id": "FtCgnbuIeHoq"
      },
      "source": [
        "### Рядки (Strings) \n",
        "\n",
        "__Рядки__ - це послідовність символів в Unicode."
      ]
    },
    {
      "cell_type": "code",
      "metadata": {
        "id": "JWFqTAV8ef2p"
      },
      "source": [
        "raw_string = \"Привіт!\"\n",
        "print(raw_string)"
      ],
      "execution_count": null,
      "outputs": []
    },
    {
      "cell_type": "code",
      "metadata": {
        "id": "lezXGWboegp_"
      },
      "source": [
        "print(\"Ти \" + \"можеш \" + \"додавати \" + \"рядки!\")\n",
        "print(\"та множити! \"*7)\n",
        "print(\"Довжина рядка 'Рядочок' = \" ,len(\"Рядочок\"))"
      ],
      "execution_count": null,
      "outputs": []
    },
    {
      "cell_type": "markdown",
      "metadata": {
        "id": "H_gyEuJterjr"
      },
      "source": [
        "# Python дозволяє викликати частину тексту\n",
        "\n",
        "```python\n",
        "string[start:end:step]\n",
        "```\n",
        "\n",
        "* `start` - індекс, де ти хочешь почати виклик (включно)\n",
        "* `end` - індекс, де ти хочеш закінчити виклик (не включно)\n",
        "* `step` - крок включення (наприклад, кожне друге значення)"
      ]
    },
    {
      "cell_type": "code",
      "metadata": {
        "id": "o2LH8mVde8DO"
      },
      "source": [
        "my_string = \"Методи інтелектуального аналізу економічних даних\"\n",
        "\n",
        "print(my_string[0:23])\n",
        "print(my_string[:6])\n",
        "print(my_string[::2])\n",
        "print(my_string[::-1])"
      ],
      "execution_count": null,
      "outputs": []
    },
    {
      "cell_type": "markdown",
      "metadata": {
        "id": "HnCsHqgyewO0"
      },
      "source": [
        "> Можна перевірити чи входять одні строкові дані в інші оператором `in`. "
      ]
    },
    {
      "cell_type": "code",
      "metadata": {
        "id": "Q5ghMWqueggC"
      },
      "source": [
        "print('Методи' not in my_string)\n",
        "print('дані' in my_string)"
      ],
      "execution_count": null,
      "outputs": []
    },
    {
      "cell_type": "code",
      "metadata": {
        "id": "yoUNxCmffRam"
      },
      "source": [
        "s = 'Великі дані'\n"
      ],
      "execution_count": null,
      "outputs": []
    },
    {
      "cell_type": "markdown",
      "metadata": {
        "id": "viK6NEOtBPGV"
      },
      "source": [
        "### Базові методи роботи з рядками\n",
        "\n",
        "* `s.lower()`  повертає рядок в нижньому регістрі 'великі дані'\n",
        "\n",
        "* `s.upper()` повертає рядок у верхньому регістрі 'ВЕЛИКІ ДАНІ'\n",
        "\n",
        "* `s.startswith('Великі')` повертає True, якщо рядок починається з вказаного фрагменту\n",
        "\n",
        "* `s.endswith('дані')` повертає True, якщо рядок закінчується вказаним фрагментом\n",
        "\n",
        "* `s.isdigit()` повертає True якщо кожна позиція в рядку цифрова (False)\n",
        "\n",
        "* `s.find('дані')` повертає індекс першого входження (7)\n",
        "\n",
        "* `s.find('масив')` повертає -1 якщо не знаходить\n",
        "\n",
        "* `s.replace('Великі','Малі')` заміняє всі входження першого фрагменту на другий ('Великі' на 'малі')\n",
        "* `s.count('s1')` рахує кількість входжень фрагменту `s1` в рядок `s`"
      ]
    },
    {
      "cell_type": "code",
      "metadata": {
        "id": "_mEQrp6zfVh-"
      },
      "source": [
        "s.replace('Великі','Малі')"
      ],
      "execution_count": null,
      "outputs": []
    },
    {
      "cell_type": "markdown",
      "metadata": {
        "id": "bAz5ALWHfcBW"
      },
      "source": [
        "#### Форматування рядків"
      ]
    },
    {
      "cell_type": "code",
      "metadata": {
        "id": "bCkp0Xajfbo-"
      },
      "source": [
        "# Варіант №1\n",
        "my_string = \"Привіт, Моє ім'я {}. Я з університету {}.\".format('Маша', 'КПІ')\n",
        "print(my_string)\n",
        "\n",
        "# Варіант №2\n",
        "my_string = \"Привіт, Моє ім'я {name}. Я з університету {univer}.\".format(univer='КНУ', name='Аня')\n",
        "print(my_string)\n",
        "\n",
        "# Варіант №3: f-strings (for python >= 3.6)\n",
        "name = 'Вітя'\n",
        "univer = 'НаУКМА'\n",
        "my_string = f\"Привіт, Моє ім'я {name}. Я з університету {univer}.\"\n",
        "print(my_string)"
      ],
      "execution_count": null,
      "outputs": []
    },
    {
      "cell_type": "markdown",
      "metadata": {
        "id": "X83fTbkRf003"
      },
      "source": [
        "### Списки (Lists)\n",
        "\n",
        "__Список__ - це впорядкований набір, який можна змінювати, в ньому можлива наявність повторних значень\n",
        "\n",
        "<img src=\"https://cf-courses-data.s3.us.cloud-object-storage.appdomain.cloud/IBMDeveloperSkillsNetwork-PY0101EN-SkillsNetwork/labs/Module%202/images/ListsIndex.png\" width=\"500\" />\n",
        "\n",
        "> Створюється список переліком елементів в квадратних дужках `[ ]` через кому.\n",
        "\n",
        "> Список може містити елементи різних типів."
      ]
    },
    {
      "cell_type": "code",
      "metadata": {
        "id": "f_al0DMqf14M"
      },
      "source": [
        "# lists\n",
        "my_list = [1, 2, 3, 4, 5, 6, 7]\n",
        "print(my_list, type(my_list))\n",
        "\n",
        "# вивести останній елемент списку (перший з кінця)\n",
        "print(my_list[-1])\n",
        "\n",
        "# надрукувати список в зворотньому порядку\n",
        "print(my_list[::-1])\n",
        "\n",
        "# видалення другого з кінця елемента списку\n",
        "del my_list[-5]\n",
        "print(my_list)\n",
        "\n",
        "# заміна першого елементу списку на 100\n",
        "my_list[0] = 100\n",
        "\n",
        "# вивід відсортованого списку\n",
        "print(sorted(my_list))"
      ],
      "execution_count": null,
      "outputs": []
    },
    {
      "cell_type": "code",
      "metadata": {
        "id": "LaatSzK0f_49"
      },
      "source": [
        "# вивести довжину списку\n",
        "print(len(my_list))\n",
        "\n",
        "# вивести мінімальний елемент списку\n",
        "print(min(my_list))\n",
        "\n",
        "# вивести максимальний елемент списку\n",
        "print(max(my_list))\n",
        "\n",
        "# вивести суму всих елементів списку\n",
        "print(sum(my_list))"
      ],
      "execution_count": null,
      "outputs": []
    },
    {
      "cell_type": "code",
      "metadata": {
        "id": "I5WO899kGwII"
      },
      "source": [
        "# створюємо список\n",
        "universities = ['KPI', 'KNU', 'NAU']\n",
        "universities"
      ],
      "execution_count": null,
      "outputs": []
    },
    {
      "cell_type": "markdown",
      "metadata": {
        "id": "cFtJWJwgq263"
      },
      "source": [
        "###Деякі команди для модифікації списку"
      ]
    },
    {
      "cell_type": "code",
      "metadata": {
        "id": "KjBlmk0uga0E"
      },
      "source": [
        "#додавання елементу в список (останнім)\n",
        "universities.append('KNUCA')\n",
        "print(universities) \n",
        "\n",
        "#додавання декількох елементів в список (останніми)\n",
        "universities.extend(['KNEU', 'UKMA']) \n",
        "print(universities)\n",
        "\n",
        "#додавання елементу в список в певне місце за індексом (наприклад, першим - з індексом 0)\n",
        "universities.insert(0, 'KNUTE') \n",
        "print(universities)\n",
        "\n",
        "#видалення елементу за першим входженням\n",
        "universities.remove('UKMA') \n",
        "print(universities)\n",
        "\n",
        "#видалення елементу за індексом\n",
        "universities.pop(0) \n",
        "print(universities)\n",
        "\n",
        "#кількість входжень елемнту в список\n",
        "print(universities.count('KNEU'))\n",
        "\n",
        "#повертає індекс першого входження\n",
        "print(universities.index('KNEU')) # returns index of first instance"
      ],
      "execution_count": null,
      "outputs": []
    },
    {
      "cell_type": "markdown",
      "metadata": {
        "id": "fpvSDuegg2oX"
      },
      "source": [
        "### Кортежі (Tuples)\n",
        "\n",
        "__Кортежі__ - впорядковані незміні списки, в яких можливі повтори елементів."
      ]
    },
    {
      "cell_type": "code",
      "metadata": {
        "id": "HtiM5Ml0gkbo"
      },
      "source": [
        "# tuples\n",
        "my_tuple = (\"KPI\", \"KNU\", \"KNEU\")\n",
        "print(my_tuple, type(my_tuple))"
      ],
      "execution_count": null,
      "outputs": []
    },
    {
      "cell_type": "markdown",
      "metadata": {
        "id": "ieO5dh1AkC1I"
      },
      "source": [
        "***Увага!***\n",
        "\n",
        ">Не можна змінювати елементи кортежу"
      ]
    },
    {
      "cell_type": "code",
      "metadata": {
        "id": "T1oYjoBGkCZt"
      },
      "source": [
        "my_tuple[0] = \"KNTU\""
      ],
      "execution_count": null,
      "outputs": []
    },
    {
      "cell_type": "markdown",
      "metadata": {
        "id": "qpbYv-oKhAjB"
      },
      "source": [
        "### Множини (Sets)\n",
        "\n",
        "__Множина__ - це набір невпорядкованих елементів, в якому не допускається повторювань.\n"
      ]
    },
    {
      "cell_type": "code",
      "metadata": {
        "id": "3BRP20wKg4eC"
      },
      "source": [
        "# створюємо множину (set)\n",
        "my_set = {\"KPI\", \"KNU\", \"KNEU\"}\n",
        "print(my_set, type(my_set))\n",
        "\n",
        "#перевіряємо чи входить елемент в список\n",
        "print('KPI' in my_set)"
      ],
      "execution_count": null,
      "outputs": []
    },
    {
      "cell_type": "code",
      "metadata": {
        "id": "2kVHwExZhFJT"
      },
      "source": [
        "#додаємо елемент в список\n",
        "my_set.add(\"KNTU\")\n",
        "my_set"
      ],
      "execution_count": null,
      "outputs": []
    },
    {
      "cell_type": "markdown",
      "metadata": {
        "id": "56e4z2Q3q3R5"
      },
      "source": [
        "###Створюємо множину\n",
        "<img src=\"https://s3-api.us-geo.objectstorage.softlayer.net/cf-courses-data/CognitiveClass/PY0101EN/Chapter%202/Images/SetsUnique.png\" width=\"500\" />\n",
        "\n",
        "> якщо є дублікати елементів при створенні множини, в множину елемент буде входити лише один раз"
      ]
    },
    {
      "cell_type": "code",
      "metadata": {
        "id": "Ixun1OREhJNM"
      },
      "source": [
        "# створюємо списки\n",
        "languages = {'python', 'r', 'java'}"
      ],
      "execution_count": null,
      "outputs": []
    },
    {
      "cell_type": "markdown",
      "metadata": {
        "id": "TwJ_fUpMr3as"
      },
      "source": [
        "> створюємо множину за допомогою команди `set` зі списку\n"
      ]
    },
    {
      "cell_type": "code",
      "metadata": {
        "id": "Q-guosZhr4JR"
      },
      "source": [
        "snakes = set(['cobra', 'viper', 'python', 'python'])"
      ],
      "execution_count": null,
      "outputs": []
    },
    {
      "cell_type": "code",
      "metadata": {
        "id": "K8JNJQgShNNh"
      },
      "source": [
        "snakes"
      ],
      "execution_count": null,
      "outputs": []
    },
    {
      "cell_type": "markdown",
      "metadata": {
        "id": "oImx_nBrgCQu"
      },
      "source": [
        "### Операції з множинами\n",
        "\n",
        "\n",
        "*   `len(set)` - кількість елементів в множині (розмірнісь множини).\n",
        "\n",
        "* `element in set` - True, якщо `element` належить множині `set`.\n",
        "* `set1.isdisjoint(set2)` - True, якщо `set1` та `set2` не мають спільних елементів\n",
        "* `set1 == set2` - рівність множин `set1` та `set2`.\n",
        "* `set1.issubset(set2)` або `set1 <= set2` - всі елементи `set1` належать `set2`.\n",
        "* `set1.issuperset(set2)` або `set1 >= set2` - аналогічно.\n",
        "* `set1.union(set2, ...)` або `set1 | set2 | ...` - об'єднання множин.\n",
        "* `set1.intersection(set2, ...)` або `set1 & set2 & ...` - перетин множин.\n",
        "* `set1.difference(ser2, ...)` або `set1 - set2 - ...` - множина зі всих елементів `set1`, які не належать жодному з `set_і ...`.\n",
        "* `set1.symmetric_difference(set2)`; `set1 ^ set2 `- множина з елементів, які зустрічаються в одній множині, проте не містяться в обох одночасно.\n",
        "* `set.copy()` - копія множини `set`. "
      ]
    },
    {
      "cell_type": "markdown",
      "metadata": {
        "id": "V1vzBIwPvzre"
      },
      "source": [
        "### <i> Наприклад </i>"
      ]
    },
    {
      "cell_type": "code",
      "metadata": {
        "id": "_ON-1j-Avqaj"
      },
      "source": [
        "len(languages)"
      ],
      "execution_count": null,
      "outputs": []
    },
    {
      "cell_type": "code",
      "metadata": {
        "id": "JGeh534fv_0k"
      },
      "source": [
        "languages.isdisjoint(snakes)"
      ],
      "execution_count": null,
      "outputs": []
    },
    {
      "cell_type": "code",
      "metadata": {
        "id": "efM_qPiIwVNP"
      },
      "source": [
        "SET = languages.union(snakes)\n",
        "print(SET)"
      ],
      "execution_count": null,
      "outputs": []
    },
    {
      "cell_type": "code",
      "metadata": {
        "id": "iUKHHHPmwhXM"
      },
      "source": [
        "SET = languages.intersection(snakes)\n",
        "print(SET)"
      ],
      "execution_count": null,
      "outputs": []
    },
    {
      "cell_type": "code",
      "metadata": {
        "id": "ToxsTTqdws6B"
      },
      "source": [
        "SET1 = languages.difference(snakes)\n",
        "print(SET1)\n",
        "\n",
        "SET2 = snakes - languages\n",
        "print(SET2) "
      ],
      "execution_count": null,
      "outputs": []
    },
    {
      "cell_type": "code",
      "metadata": {
        "id": "kwsfm6c1xQ7I"
      },
      "source": [
        "SET = languages ^ snakes\n",
        "print(SET)"
      ],
      "execution_count": null,
      "outputs": []
    },
    {
      "cell_type": "markdown",
      "metadata": {
        "id": "IwRISPPS17_-"
      },
      "source": [
        "### Словники (Dictionaries)\n",
        "\n",
        "__Словники__ - це невпорядковані набори довільних об'єктів різного типу, доступ до яких відбувається не за індексом, а за унікальним ключем, який також може бути різного типу даних.\n",
        "\n",
        "> створювати словники можна різними способами, але обов'язкова прив'язка до ключа `key:value`\n",
        "\n",
        "<img src=\"https://cf-courses-data.s3.us.cloud-object-storage.appdomain.cloud/IBMDeveloperSkillsNetwork-PY0101EN-SkillsNetwork/labs/Module%202/images/DictsList.png\" width=\"500\" />"
      ]
    },
    {
      "cell_type": "code",
      "metadata": {
        "id": "JvTEFyIHK9Fu"
      },
      "source": [
        "# створення словника (dictionaries)\n",
        "my_dict = {\n",
        "    'name': 'Masha',\n",
        "    'university': 'KPI',\n",
        "    'age': 19\n",
        "}\n",
        "print(my_dict, type(my_dict))\n",
        "print(my_dict['name'])\n",
        "\n",
        "my_dict2=dict(name = 'Max', university = 'KNU', age = '21')\n",
        "print(my_dict2)"
      ],
      "execution_count": null,
      "outputs": []
    },
    {
      "cell_type": "markdown",
      "metadata": {
        "id": "ql53JvxG0jYe"
      },
      "source": [
        "###Функції словника\n",
        "* `dict.clear()` - очищає словник.\n",
        "\n",
        "* `dict.copy()` - повертає копію словника.\n",
        "\n",
        "* `classmethod dict.fromkeys(seq[, value])` - створює  словник з ключами з `seq` та значеннями `value` (по замовчуванню `None`).\n",
        "\n",
        "* `dict.get(key[, default])` - повертає значення ключа, якщо відсутній, то повертає `default` (по замовчуванню `None`).\n",
        "\n",
        "* `dict.items()` - повертає пари (ключ, значення).\n",
        "\n",
        "* `dict.keys()` - повертає ключі в словнику.\n",
        "\n",
        "* `dict.pop(key[, default])` - видаляє ключ і повертає значення. Якщо ключа немає, повертає `default`.\n",
        "\n",
        "* `dict.popitem()` - видаляє та повертає пару (ключ, значення). Якщо словник пустий, виводить `KeyError`. \n",
        "\n",
        "* `dict.update([other])` - оновлює словник, додає пари (ключ, значення) з `other`. Існуючі ключі перезаписуються. Повертає `None` (не новий словник!)\n",
        "\n",
        "* `dict.values()` - повертає значення словника."
      ]
    },
    {
      "cell_type": "code",
      "metadata": {
        "id": "TILcyXXQLiy7"
      },
      "source": [
        "print(my_dict['last_name']) #намагаємось знайти рядок з прізвищем,"
      ],
      "execution_count": null,
      "outputs": []
    },
    {
      "cell_type": "code",
      "metadata": {
        "id": "x5Ijpq5NLqQ2"
      },
      "source": [
        "my_dict['last_name'] = 'Ivanenko' #додаємо новий рядок в словник\n",
        "del my_dict['age'] #видаляємо вік зі словника\n",
        "print(my_dict)"
      ],
      "execution_count": null,
      "outputs": []
    },
    {
      "cell_type": "code",
      "metadata": {
        "id": "8gjICeDTIivL"
      },
      "source": [
        "my_dict.pop('last_name')\n",
        "my_dict"
      ],
      "execution_count": null,
      "outputs": []
    },
    {
      "cell_type": "code",
      "metadata": {
        "id": "leqaUaMBIpgs"
      },
      "source": [
        "my_dict.update({'last_name': 'Ivanenko', 'age': 19})\n",
        "my_dict"
      ],
      "execution_count": null,
      "outputs": []
    },
    {
      "cell_type": "code",
      "metadata": {
        "id": "7nF_4jzrL2xg"
      },
      "source": [
        "my_dict.items()"
      ],
      "execution_count": null,
      "outputs": []
    },
    {
      "cell_type": "code",
      "metadata": {
        "id": "p7kYn2zvI0IQ"
      },
      "source": [
        "my_dict.keys()"
      ],
      "execution_count": null,
      "outputs": []
    },
    {
      "cell_type": "code",
      "metadata": {
        "id": "3v3nfb5vUyII"
      },
      "source": [
        "my_dict.values()"
      ],
      "execution_count": null,
      "outputs": []
    },
    {
      "cell_type": "markdown",
      "metadata": {
        "id": "z0vqDFdl7mZx"
      },
      "source": [
        "##<center>__Самостійні завдання__</center>\n",
        "\n",
        "> Скопіювати блок самостійних завдань в окремий файл ***LastName_CP1.ipynb***"
      ]
    },
    {
      "cell_type": "markdown",
      "metadata": {
        "id": "OflG6K-YVWbw"
      },
      "source": [
        "### Завдання №1\n",
        "\n",
        "1. Створити цілочисельну змінну `x`. \n",
        "2. Змінити тип даних змінної `x` на дійсний.\n",
        "3. Створити нову числову змінну `y`. \n",
        "4. Піднести змінну `x` до степеня `y` і зберегти результат як змінну `z`. (двома способами)\n",
        "5. Вивести значення змінної `z` та її тип."
      ]
    },
    {
      "cell_type": "code",
      "metadata": {
        "id": "2vu87JoBTOfH"
      },
      "source": [
        "# МІСЦЕ ДЛЯ КОДУ\n",
        "\n"
      ],
      "execution_count": null,
      "outputs": []
    },
    {
      "cell_type": "markdown",
      "metadata": {
        "id": "LirTJrM7W-cg"
      },
      "source": [
        "### Завдання №2\n",
        "\n",
        "1. Вивести запис: **\"{X} в степені {Y} дорівнює {Z}.\"**, використовуючи рядковий запис де X, Y та Z значення змінних.\n",
        "2. Перетворіть рядок так, щоб можна було прочитати лише **\"X в степені\"**, с заду наперед.\n",
        "\n",
        "> Очікуваний результат:\n",
        "```python\n",
        "x = 2\n",
        "y = 3\n",
        "\"2 в степені 3 дорівнює 8.\"\n",
        "\"інепетс в 2\"\n",
        "```"
      ]
    },
    {
      "cell_type": "code",
      "metadata": {
        "id": "8R4pqDIyW96X"
      },
      "source": [
        "# МІСЦЕ ДЛЯ КОДУ\n",
        "\n"
      ],
      "execution_count": null,
      "outputs": []
    },
    {
      "cell_type": "markdown",
      "metadata": {
        "id": "TnzAtVsKZkjc"
      },
      "source": [
        "### Завдання №3\n",
        "\n",
        "1. Створіть новий список `my_list`, який містить 5 кольорів.\n",
        "2. Перевірте чи є в вашому списку колір `\"бузковий\"`. Якщо немає, то додайте його використовуючи команду `append`.\n",
        "3. Змініть перший елемент списку на `\"рожевий\"`.\n",
        "4. Видаліть другий елемент списку та виведіть результат на екран."
      ]
    },
    {
      "cell_type": "code",
      "metadata": {
        "id": "royz-qkJZmQ8"
      },
      "source": [
        "# МІСЦЕ ДЛЯ КОДУ\n",
        "\n"
      ],
      "execution_count": null,
      "outputs": []
    },
    {
      "cell_type": "markdown",
      "metadata": {
        "id": "bjIBnKjHceq4"
      },
      "source": [
        "### Завдання №4\n",
        "\n",
        "1. Створіть словник з країнами та їх столицями (країна - ключ, столиця - значення): Німеччина, Франція, Україна, США, Румунія, Італія. Виведіть результа.\n",
        "2. Додайте столицю Бельгії.\n",
        "3. Виведіть лише столиці."
      ]
    },
    {
      "cell_type": "code",
      "metadata": {
        "id": "A9WZujmvd3pd"
      },
      "source": [
        "# МІСЦЕ ДЛЯ КОДУ\n",
        "\n"
      ],
      "execution_count": null,
      "outputs": []
    },
    {
      "cell_type": "markdown",
      "metadata": {
        "id": "2QuFFg1KTP-t"
      },
      "source": [
        "### Завдання №5\n",
        "\n",
        "Виведіть значення списку_1, що не містяться в списку_2.\n",
        "\n",
        "> Очікуваний результат:\n",
        "```python\n",
        "[1,4,6,7]\n",
        "```"
      ]
    },
    {
      "cell_type": "code",
      "metadata": {
        "id": "spnHiR02TdSL"
      },
      "source": [
        "list_1 = [1,2,3,4,5,6,7]\n",
        "list_2 = [2,5,3]\n",
        "# МІСЦЕ ДЛЯ КОДУ\n"
      ],
      "execution_count": null,
      "outputs": []
    },
    {
      "cell_type": "markdown",
      "metadata": {
        "id": "5uXdDpjET7eA"
      },
      "source": [
        "### Завдання №6\n",
        "\n",
        "порахуйте всі входження слова \"Наука\" в рядок, без урахування регістру\n",
        "\n",
        "> Очікуваний результат:\n",
        "```python\n",
        "3\n",
        "```"
      ]
    },
    {
      "cell_type": "code",
      "metadata": {
        "id": "-yLtDPyVTdrG"
      },
      "source": [
        "string = \"Наука про дані – це наука про методи аналізу даних і вилучення\\\n",
        " з них цінної інформації та знань. Вона тісно пов’язана з такими галузями, \\\n",
        " як машинне навчання, наука про мислення, а також з технологіями для роботи \\\n",
        " з великими даними.\"\n",
        "\n",
        "# МІСЦЕ ДЛЯ КОДУ\n",
        "\n",
        "\n"
      ],
      "execution_count": null,
      "outputs": []
    },
    {
      "cell_type": "markdown",
      "metadata": {
        "id": "lORkhbauVchI"
      },
      "source": [
        "### Завдання №7\n",
        "\n",
        "Видаліть повтори зі списку та створіть кортеж. Знайдіть мінімальне та максимальне значення."
      ]
    },
    {
      "cell_type": "code",
      "metadata": {
        "id": "57Gp1maMWDWh"
      },
      "source": [
        "my_list = [1, 4, 5, 10, 1, 3, 30, 100, 5]\n",
        "\n",
        "# МІСЦЕ ДЛЯ КОДУ\n",
        "\n"
      ],
      "execution_count": null,
      "outputs": []
    },
    {
      "cell_type": "markdown",
      "metadata": {
        "id": "alRgo8HIWg14"
      },
      "source": [
        "### Завдання №8\n",
        "\n",
        "Дано дві множини  \n",
        "1. перевірити чи є перша множина підмножиною другої\n",
        "2. знайти об'єднання, перетин, різницю та симетричну різницю цих множин\n"
      ]
    },
    {
      "cell_type": "code",
      "metadata": {
        "id": "RxfbsbqsW8Up"
      },
      "source": [
        "set_1 = {57, 83, 29}\n",
        "set_2 = {67, 73, 43, 48, 83, 57, 29}\n",
        "\n",
        "# МІСЦЕ ДЛЯ КОДУ\n",
        "\n",
        "\n"
      ],
      "execution_count": null,
      "outputs": []
    },
    {
      "cell_type": "markdown",
      "metadata": {
        "id": "5HlthU73XbMO"
      },
      "source": [
        "### Завдання №9\n",
        "\n",
        "Дано рядок `string`, порахувати кількість входжень літер \"а\", \"д\" та \"н\" та створити словник з цих літер та кількістю їх входжень. Вивести пари ключ-значення на екран\n",
        "\n",
        "> Очікуваний результат:\n",
        "```python\n",
        "dict_items([('а', 24), ('д', 5), ('н', 25)])\n",
        "```"
      ]
    },
    {
      "cell_type": "code",
      "metadata": {
        "id": "fbzuRDZujnhF"
      },
      "source": [
        "string = \"Наука про дані – це наука про методи аналізу даних і вилучення\\\n",
        " з них цінної інформації та знань. Вона тісно пов’язана з такими галузями, \\\n",
        " як машинне навчання, наука про мислення, а також з технологіями для роботи \\\n",
        " з великими даними.\"\n",
        "\n",
        "# МІСЦЕ ДЛЯ КОДУ\n",
        "\n"
      ],
      "execution_count": null,
      "outputs": []
    },
    {
      "cell_type": "markdown",
      "metadata": {
        "id": "frXoXi52twFQ"
      },
      "source": [
        "### Завдання №10\n",
        "\n",
        "Знайти суму всих елеменів словника\n",
        "\n",
        "> використайте функцію `map()`, яка використовується для застосування функції до кожного елементу итеруючого об'єкту (наприклад, списку чи словника) та повернення нового ітератора для отримання результів.\n",
        "\n",
        "> Функция `map()` имеет следующий синтаксис:\n",
        "```\n",
        "map(function, iterable, [iterable 2, iterable 3, ...])\n",
        "\n",
        "> Очікуваний результат\n",
        "```python\n",
        "390\n",
        "```"
      ]
    },
    {
      "cell_type": "code",
      "metadata": {
        "id": "JH7g50AbfVp-"
      },
      "source": [
        "my_dict = {'a': [10, 20, 30, 40],\n",
        "           'b': [22, 11, 33, 44],\n",
        "           'c': [12, 34, 56, 78]}\n",
        "\n",
        "# МІСЦЕ ДЛЯ КОДУ\n"
      ],
      "execution_count": null,
      "outputs": []
    },
    {
      "cell_type": "markdown",
      "metadata": {
        "id": "pvVHWUF4gSm8"
      },
      "source": [
        "### Завдання №11\n",
        "\n",
        "Знайдіть друге найменше та друге найбільше значення в списку та виведіть на екран такий запис:\n",
        "\n",
        "```python\n",
        "\"Друге найменше значення - 1 та друге найбільше значення - 398.\"\n",
        "```"
      ]
    },
    {
      "cell_type": "code",
      "metadata": {
        "id": "HFL0NALUf2RG"
      },
      "source": [
        "my_list = [1,200, 34, 65, 499, 11, -4, 42, 398, 12, 3, 100]\n",
        "\n",
        "# МІСЦЕ ДЛЯ КОДУ\n",
        "\n"
      ],
      "execution_count": null,
      "outputs": []
    },
    {
      "cell_type": "markdown",
      "metadata": {
        "id": "yK8b3Mf0guPD"
      },
      "source": [
        "### Завдання №12\n",
        "\n",
        "Об'єднайте наступні словники в один.\n",
        "\n",
        "> Очікуваний результат:\n",
        "```python\n",
        "{1: 10, 2: 20, 3: 30, 4: 40, 5: 50, 6: 60}\n",
        "```"
      ]
    },
    {
      "cell_type": "code",
      "metadata": {
        "id": "NCTujRJdg6n_"
      },
      "source": [
        "dic1 = {1:10, 2:20}\n",
        "dic2 = {3:30, 4:40}\n",
        "dic3 = {5:50, 6:60}\n",
        "\n",
        "# МІСЦЕ ДЛЯ КОДУ\n",
        "\n"
      ],
      "execution_count": null,
      "outputs": []
    },
    {
      "cell_type": "markdown",
      "metadata": {
        "id": "32h8Qu3ShOVM"
      },
      "source": [
        "### Завдання №13\n",
        "Створіть словник з наступних списків. Використайте функцію`zip()`\n",
        "\n",
        ">Функція `zip(a, b)` створює об'єкт-ітератор, з якого при кожному обороті циклу створюється кортеж - впорядкована пара $(a_i, b_i)$ \n",
        "\n",
        ">Очікуваний результат:\n",
        "```python\n",
        "{'червоний': '#FF0000', 'зелений': '#008000', 'синій': '#0000FF'} \n",
        "```"
      ]
    },
    {
      "cell_type": "code",
      "metadata": {
        "id": "ZBbgGomchYa3"
      },
      "source": [
        "keys = ['червоний', 'зелений', 'синій']\n",
        "values = ['#FF0000','#008000', '#0000FF']\n",
        "\n",
        "# МІСЦЕ ДЛЯ КОДУ\n"
      ],
      "execution_count": null,
      "outputs": []
    }
  ]
}