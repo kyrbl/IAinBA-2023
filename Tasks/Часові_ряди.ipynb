{
  "nbformat": 4,
  "nbformat_minor": 0,
  "metadata": {
    "colab": {
      "provenance": [],
      "collapsed_sections": [
        "wpjg_1PvVTua"
      ]
    },
    "kernelspec": {
      "name": "python3",
      "display_name": "Python 3"
    },
    "language_info": {
      "name": "python"
    }
  },
  "cells": [
    {
      "cell_type": "markdown",
      "metadata": {
        "id": "wNhBviOWN-YW"
      },
      "source": [
        "<center><font size=\"6\"><b>\n",
        "\n",
        "Часові ряди (Time Series)</b></font></center>"
      ]
    },
    {
      "cell_type": "markdown",
      "metadata": {
        "id": "M-Z8UiiZP9Ya"
      },
      "source": [
        ">__Часовим рядом__ називається послідовність значень фактору $y$, який вимірюється через сталі часові інтервали \n",
        "$$y_1, ..., y_T, ..., y_t\\in \\mathbb{R}$$\n",
        "\n",
        "<img src=\"https://photos1.blogger.com/blogger/2799/1927/1600/airline1_web.0.jpg\" width=\"600\">\n",
        "\n",
        "###__Компоненти часових рядів__\n",
        "* __Тренд__ — поступова довгострокова зміна рівня ряду. \n",
        "* __Сезонність__ — циклічна зміна рівня ряду зі сталим періодом.\n",
        "* __Цикл__ — зміна рівня ряду зі змінним періодом (В економіці виділяють цикли довжиною 4−5років, 7−11 років,45−50 років і т. д.\n",
        "* __Помилка__ — непрогнозована випадкова компонента ряду. До неї входять всі ті характеристики часового ряду, які важко виміряти.\n"
      ]
    },
    {
      "cell_type": "markdown",
      "metadata": {
        "id": "BwPLy52Kruit"
      },
      "source": [
        ">Працюючи з часовими рядами, необхідно позбутися нестаціонарності часового ряду:\n",
        "* Сезонності\n",
        "* Тренду\n",
        "* Гетероскедастичності\n",
        "\n"
      ]
    },
    {
      "cell_type": "markdown",
      "metadata": {
        "id": "Wh1ejstumaR0"
      },
      "source": [
        "##__Моделі для часових рядів__\n",
        "\n",
        "Моделі для часових рядів - це прогнозні моделі\n",
        "$$y_{T+d}\\approx f_T(y_1,..., y_T, d),$$\n",
        "де $d\\in\\{1,..., D\\}$ - зсув прогнозу, $D$ - горизонт прогнозування\n",
        "\n",
        "Моделі для часових рядів можна поділити на: \n",
        "\n",
        "1. Моделі експоненційного згладжування\n",
        "  * просте експоненці́йне згладжування\n",
        "  * модель Хольта\n",
        "  * модель Хольта-Вінтерса\n",
        "2. Моделі ковзного середнього\n",
        "  * просте ковзне середнє та авторегресійні моделі\n",
        "  * ковзне середнє з сезонністю\n",
        "  * ARMA, ARIMA, SARMA, SARIMA\n",
        "3. Трендові моделі\n",
        "  * простий тренд: лінійний, логарифмічний, поліноміальний, експоненційний\n",
        "  * тренд з сезонністю \n",
        "4. Bootstrapping"
      ]
    },
    {
      "cell_type": "code",
      "metadata": {
        "id": "HSxaxbOfQT9K"
      },
      "source": [
        "#імпортуємо необхідні бібліотеки\n",
        "%pylab inline\n",
        "import pandas as pd\n",
        "from scipy import stats\n",
        "import statsmodels.api as sm #R-формули\n",
        "import matplotlib.pyplot as plt\n",
        "from statsmodels.iolib.table import SimpleTable\n",
        "from itertools import product"
      ],
      "execution_count": null,
      "outputs": []
    },
    {
      "cell_type": "markdown",
      "metadata": {
        "id": "Z46MKNyerwZz"
      },
      "source": [
        "\n",
        "##__Завантажимо датасет__\n",
        "Щомісячні продажі австралійського вина в тисячах літрів відомі з січня 1980 року по липень 1995 року, необхідно скласти прогноз на найближчі три роки."
      ]
    },
    {
      "cell_type": "code",
      "metadata": {
        "id": "6fwRvv_3Np1f"
      },
      "source": [
        "#завантажимо csv-file з локального сховища на вашому диску\n",
        "from google.colab import files\n",
        "uploaded = files.upload()"
      ],
      "execution_count": null,
      "outputs": []
    },
    {
      "cell_type": "code",
      "metadata": {
        "id": "u5sK1KaAuhnx"
      },
      "source": [
        "# перевіримо, чи завантажився файл в каталог\n",
        "!ls"
      ],
      "execution_count": null,
      "outputs": []
    },
    {
      "cell_type": "code",
      "metadata": {
        "id": "69x1FVADuzxQ"
      },
      "source": [
        "# завантажимо датасет з файлу та побудуємо графік часового ряду\n",
        "wine = pd.read_csv('Monthly-australian-wine-sales.csv',',', index_col=['month'], parse_dates=['month'], dayfirst=True)\n",
        "plt.figure(figsize(15,7))\n",
        "wine.sales.plot()\n",
        "plt.ylabel('Wine sales')\n",
        "pylab.show()"
      ],
      "execution_count": null,
      "outputs": []
    },
    {
      "cell_type": "code",
      "metadata": {
        "id": "oHV2bVFe4Awr"
      },
      "source": [
        "wine.head()"
      ],
      "execution_count": null,
      "outputs": []
    },
    {
      "cell_type": "markdown",
      "metadata": {
        "id": "hrmtMmnrqmHk"
      },
      "source": [
        "##__Автокореляція__\n",
        ">__Автокореляція__ - це кореляція Пірсона, застосовна до самого ряду (кореляція ряду з самим собою зі зміщенням на лаг).\n",
        "\n",
        "Автокореляція є однією  основних характеристик часового ряду.\n",
        "\n"
      ]
    },
    {
      "cell_type": "markdown",
      "metadata": {
        "id": "ZqlN4A8orVK7"
      },
      "source": [
        "Розглянемо залежність значень об'єму продаж вина в сусідні місяці $y_{t+1}$ та $y_t$"
      ]
    },
    {
      "cell_type": "code",
      "metadata": {
        "id": "tqef0kh5rvdH"
      },
      "source": [
        "wine['sales_shift_1']=wine.sales.shift(1)\n",
        "wine.plot(kind='scatter', x='sales_shift_1', y='sales', figsize=(10, 6), color='darkblue')\n",
        "plt.xlabel('y_t')\n",
        "plt.ylabel('y_t+1')\n",
        "pylab.show()\n"
      ],
      "execution_count": null,
      "outputs": []
    },
    {
      "cell_type": "code",
      "metadata": {
        "id": "hadGfQB-zYbY"
      },
      "source": [
        "wine['sales_shift_2']=wine.sales.shift(2)\n",
        "wine['sales_shift_3']=wine.sales.shift(3)\n",
        "wine['sales_shift_S']=wine.sales.shift(12)\n",
        "\n",
        "fig = plt.figure() \n",
        "\n",
        "ac1 = fig.add_subplot(2, 2, 1) \n",
        "ac2 = fig.add_subplot(2, 2, 2) \n",
        "ac3 = fig.add_subplot(2, 2, 3) \n",
        "ac12 = fig.add_subplot(2, 2, 4) \n",
        "\n",
        "# 1 місяць\n",
        "wine.plot(kind='scatter', x='sales_shift_1', y='sales', figsize=(10, 6), color='darkblue',ax=ac1)\n",
        "ac1.set_title(\"зв'язок продаж вина в сусідніх місяцях\")\n",
        "ac1.set_xlabel('y_t')\n",
        "ac1.set_ylabel('y_t+1')\n",
        "\n",
        "# 2 місяці\n",
        "wine.plot(kind='scatter', x='sales_shift_2', y='sales', figsize=(10, 6), color='darkblue',ax=ac2)\n",
        "ac2.set_title(\"зв'язок продаж вина через місяць\")\n",
        "ac2.set_xlabel('y_t')\n",
        "ac2.set_ylabel('y_t+2')\n",
        "\n",
        "# 3 місяці\n",
        "wine.plot(kind='scatter', x='sales_shift_3', y='sales', figsize=(10, 6), color='darkblue',ax=ac3)\n",
        "ac3.set_title(\"зв'язок продаж вина через 2 місяці\")\n",
        "ac3.set_xlabel('y_t')\n",
        "ac3.set_ylabel('y_t+3')\n",
        "\n",
        "# 4 місяці\n",
        "wine.plot(kind='scatter', x='sales_shift_S', y='sales', figsize=(10, 6), color='darkblue',ax=ac12)\n",
        "ac12.set_title(\"зв'язок продаж вина через сезон\")\n",
        "ac12.set_xlabel('y_t')\n",
        "ac12.set_ylabel('y_t+S')\n",
        "\n",
        "plt.show()\n"
      ],
      "execution_count": null,
      "outputs": []
    },
    {
      "cell_type": "markdown",
      "metadata": {
        "id": "A87LhuAHaD8n"
      },
      "source": [
        "##**Стаціонарність ряду даних**\n",
        "\n",
        "> Часовий ряд $1, . . . , y_T$ називається __стаціонарим__ якщо $s$ (ширина вікна) розподілу $y_t, . . . , y_{t+s}$ не залежить від $t$, тобто його властивості не залежать від часу.\n",
        "\n",
        "> Ряди, в яких присутній тренд, нестаціонарні, в залежності від розташування вікна змінюється середній рівень ряду.\n",
        "\n",
        "> Нестаціонарні ряди можуть мати сезонність: якщо ширина вікна менша за сезонний період, то розподіл ряду буде різним, в залежності від положення вікна.\n",
        "\n",
        "<img src=\"http://www.seanabu.com/img/Mean_nonstationary.png\" width=\"600\">\n",
        "\n",
        ">Ряд повинен бути гомоскедастичним, тобто дисперсія має бути сталою, а не залежати від часу\n",
        "\n",
        "<img src=\"http://www.seanabu.com/img/Var_nonstationary.png\" width=\"600\">\n",
        "\n",
        "> Коваріація $i$-го  та $(i + m)$-го доданка також не повинна залежати від часу. \n",
        "\n",
        "<img src=\"http://www.seanabu.com/img/Cov_nonstationary.png\" width=\"600\">"
      ]
    },
    {
      "cell_type": "markdown",
      "metadata": {
        "id": "MMiwPAwKQ2eU"
      },
      "source": [
        "Можна розглянути два способи перевірки стаціонарності часового ряду. Перший - це перегляд даних. За допомогою візуалізації даних має бути легко визначити змінне середнє значення або варіацію даних. Для більш точної оцінки існує тест Дікі-Фуллера.\n",
        "\n",
        "##**Тест Дікі-Фуллера**\n",
        "\n",
        "> У статистиці тест Діккі – Фуллера перевіряє нульову гіпотезу про наявність одиничного кореня в авторегресійній моделі. Альтернативна гіпотеза відрізняється залежно від того, яка версія тесту використовується, але зазвичай означає наявність стаціонарності або тренд-стаціонарності.\n",
        "\n",
        "Тест перевіряє чи  $\\phi=0$ в такій моделі даних:\n",
        "$$y_t=\\alpha+\\beta t+\\phi y_{t-1}+\\epsilon_t$$\n",
        "яка записується наступним чином\n",
        "$$Δy_t=y_t-y_{t-1}=\\alpha+\\beta t+\\gamma y_{t-1}+\\epsilon_t$$\n",
        "де  $y_t$  наші дані. Цей запис дає можливість застосувати лінійну регресію до   $Δy_t$ відносно  $t$  та  $y_{t−1}$   та перевірити чи  $γ$ відрізняється від $0$. Якщо $γ=0$, тоді ми маємо довільний процес. Якщо ж ні та  $−1<1+γ<1$, тоді ми маємо стаціонарний ряд.\n"
      ]
    },
    {
      "cell_type": "code",
      "metadata": {
        "id": "Wx8IoNNva86d"
      },
      "source": [
        "test = sm.tsa.adfuller(wine.sales)\n",
        "print ('adf: ', test[0] )\n",
        "print ('p-value: ', test[1])\n",
        "print('Критичні значення: ', test[4])\n",
        "if test[0]> test[4]['5%']: \n",
        "    print ('є одиничний корінь, ряд нестаціонарний')\n",
        "else:\n",
        "    print ('відсутній одиничний корінь, ряд стаціонарний')"
      ],
      "execution_count": null,
      "outputs": []
    },
    {
      "cell_type": "markdown",
      "metadata": {
        "id": "yuYIx4WF4SDj"
      },
      "source": [
        "##__Зведення даних до стаціонарного вигляду__"
      ]
    },
    {
      "cell_type": "markdown",
      "metadata": {
        "id": "8pLDBqb9SAsV"
      },
      "source": [
        "> __STL-декомпозиція__ (Seasonal Transformation using LOESS - \"STL\") - \n",
        "це метод оцінки нелінійних зв’язків, розбиває часові ряди на компоненти тренду, сезонності та залишків."
      ]
    },
    {
      "cell_type": "code",
      "metadata": {
        "id": "_a9QgG7VRnPD"
      },
      "source": [
        "plt.figure(figsize(15,10))\n",
        "sm.tsa.seasonal_decompose(wine.sales).plot()\n",
        "print()"
      ],
      "execution_count": null,
      "outputs": []
    },
    {
      "cell_type": "markdown",
      "metadata": {
        "id": "X1IEO1SMS6r2"
      },
      "source": [
        "### **Перетворення Бокса-Кокса**\n",
        "\n",
        ">Перетворення Бокса-Кокса - це спосіб перетворення змінних без нормального розподілу у нормальну форму. Нормальність розподілу є важливим припущенням для багатьох статистичних методів; якщо ваші дані не є нормальнорозподіленими, застосування перетворення Бокса-Кокса означає, що можна в подальшому використовувати більше тестів.\n",
        "\n",
        "Таке перетворення вводиться для стабілізації дисперсії\n",
        "\n",
        "В основі перетворення Бокса-Кокса лежить експоненційна змінна, *лямбда* $(\\lambda )$, яка змінюється від $-5$ до $5$. Усі значення $\\lambda$ враховуються і вибирається оптимальне значення для ваших даних.\n",
        "\n",
        "\"Оптимальне значення\" - це те, що дає найкраще наближення нормальної кривої розподілу. Перетворення $y$ має вигляд:\n",
        "$$y(\\lambda)=\\left\\{\\begin{array}{ll}\\frac{y^\\lambda-1}{\\lambda} & \\textrm{якщо } \\lambda\\ne 0\\textrm{,}\\\\ \\ln(y) & \\textrm{якщо } \\lambda=0\\textrm{.}\\end{array} \\right. $$\n",
        "\n",
        "\n",
        "Тест працює лише для додатніх даних, що зумовлено процесом логарифмування. Якщо вихідні дані мають від'ємні значення, то перетворення має наступний вигляд:\n",
        "$$y(\\lambda)=\\left\\{\\begin{array}{ll}\\frac{(y+c)^\\lambda-1}{\\lambda} & \\textrm{якщо } \\lambda\\ne 0\\textrm{,}\\\\ \\ln(y+c) & \\textrm{якщо } \\lambda=0\\textrm{.}\\end{array} \\right. , \\textrm{ де } c - \\textrm{ величина зміщення} $$\n",
        "\n"
      ]
    },
    {
      "cell_type": "code",
      "metadata": {
        "id": "qUSuxiKoS7i1"
      },
      "source": [
        "wine['sales_box'], lmbda = stats.boxcox(wine.sales)\n",
        "plt.figure(figsize(15,7))\n",
        "wine.sales_box.plot()\n",
        "plt.ylabel(u'Перетворені wine sales')\n",
        "print(\"Оптимальний параметр перетворення Бокса-Кокса: %f\" % lmbda)\n",
        "print(\"Критерій Дікі-Фуллера: p=%f\" % sm.tsa.stattools.adfuller(wine.sales_box)[1])"
      ],
      "execution_count": null,
      "outputs": []
    },
    {
      "cell_type": "code",
      "metadata": {
        "id": "_NkrMd7JWv2K"
      },
      "source": [
        "wine['sales_box_diff'] = wine.sales_box - wine.sales_box.shift(12)\n",
        "plt.figure(figsize(15,10))\n",
        "sm.tsa.seasonal_decompose(wine.sales_box_diff[12:]).plot()\n",
        "print(\"Критерій Дікі-Фуллера: p=%f\" % sm.tsa.stattools.adfuller(wine.sales_box_diff[12:])[1])"
      ],
      "execution_count": null,
      "outputs": []
    },
    {
      "cell_type": "code",
      "metadata": {
        "id": "__Kq3vwp-XI7"
      },
      "source": [
        "wine.sales_box_diff[12:]"
      ],
      "execution_count": null,
      "outputs": []
    },
    {
      "cell_type": "code",
      "metadata": {
        "id": "hPQ2ls9E-Yn0"
      },
      "source": [
        "wine['sales_box_diff2'] = wine.sales_box_diff - wine.sales_box_diff.shift(1)\n",
        "plt.figure(figsize(15,10))\n",
        "sm.tsa.seasonal_decompose(wine.sales_box_diff2[13:]).plot()   \n",
        "print(\"Критерій Дікі-Фуллера: p=%f\" % sm.tsa.stattools.adfuller(wine.sales_box_diff2[13:])[1])"
      ],
      "execution_count": null,
      "outputs": []
    },
    {
      "cell_type": "markdown",
      "metadata": {
        "id": "Fgxlh_GlbNuh"
      },
      "source": [
        "##__Діаграми кореляції (коррелограмми)__\n",
        " \n",
        " Зручно аналізувати кореляцію по коррелограммах, де по осі $0x$ відкладаються часовий лаг, а по осі $0y$ - значення автокореляції.\n",
        "\n",
        " На кореллограмах є синій коридор навколо осі абсцис - це коридор значимості автокореляції, відмінної від $0$. Значимість стандартно обчислюється за двустороннім критерієм Стьюдента, щоб враховувати і додатню і від'ємну автокореляцію.\n",
        "\n",
        "**ACF**\n",
        "\n",
        ">Діаграма автокореляції часового ряду з лагом називається __функцією автокореляції__ або абревіатурою ACF. Цей графік іноді називають _коррелограмою_ або _графіком автокореляції_.\n",
        "\n",
        "**PACF**\n",
        "\n",
        "> __Часткова автокореляція__ - це узагальнення взаємозв’язку між спостереженням у часовому ряді зі спостереженнями на попередньому часовому кроці з вилученими зв’язками проміжних спостережень.\n",
        " "
      ]
    },
    {
      "cell_type": "code",
      "metadata": {
        "id": "24MGi3aRFC20"
      },
      "source": [
        "plt.figure(figsize(15,8))\n",
        "ax = plt.subplot(211)\n",
        "sm.graphics.tsa.plot_acf(wine.sales_box_diff2[13:].values.squeeze(), lags=162, ax=ax)\n",
        "pylab.show()\n",
        "ax = plt.subplot(212)\n",
        "sm.graphics.tsa.plot_pacf(wine.sales_box_diff2[13:].values.squeeze(), lags=48, ax=ax)\n",
        "pylab.show()"
      ],
      "execution_count": null,
      "outputs": []
    },
    {
      "cell_type": "markdown",
      "metadata": {
        "id": "SVy4LSrcXo7-"
      },
      "source": [
        "## **Моделювання**\n",
        "\n",
        "### **Модель ARIMA**\n",
        "\n",
        "__Модель ARIMA__ (Auto Regressive Integrated Moving Average) - це авторегресійна модель певного порядку, яка комбінується з моделлю ковзного середнього та можливістю диференціювання.\n",
        "\n",
        "Будь-який \"несезонний\" часовий ряд, який не є випадковим білим шумом, можна моделювати за допомогою моделей ARIMA.\n",
        "\n",
        "Модель ARIMA ($p, d, q$) характеризується трьома показниками: $p, d, q$, \n",
        "\n",
        "де\n",
        "\n",
        "$p$ - порядок терміна AR (авторегресія)\n",
        "\n",
        "$q$ - порядок члена MA (ковзне середнє)\n",
        "\n",
        "$d$ - необхідна кількість диференціювання для стаціонарності часового ряду\n",
        "\n",
        "**$AR(p)$**\n",
        "\n",
        "$$y_t=α+φ_1y_{t−1}+φ_2y_{t−2}+···+φ_py_{t−p}+ε_t$$\n",
        "\n",
        " **$MA(q)$**\n",
        " \n",
        "$$y_t=α+ε_t+θ_1ε_{t−1}+θ_2ε_{t−2}+···+θ_qε_{t−q}$$\n",
        "\n",
        "### **Модель SARIMA**\n",
        "\n",
        "Якщо у часовому ряді присутня сезонність, необхідно перейти до моделі SARIMA, яка враховує сезонне диференціювання.\n",
        "\n",
        "Сезонне диференціювання схоже на звичайне диференціювання, але замість віднімання послідовних термінів ви віднімаєте значення з попереднього сезону.\n",
        "\n",
        "Отже, модель буде представлена у вигляді SARIMA $(p, d, q) \\times (P, D, Q)$,\n",
        "\n",
        "де\n",
        "\n",
        "$P$ - авторегресійна компонента з урахуванням сезонності ($S$)\n",
        "\n",
        "$Q$ - компонента ковзного середнього з сезонним кроком $S$\n",
        "\n",
        "$D$ - порядок сезонного диференціювання \n",
        "\n",
        "\n",
        "\n",
        "**$SAR(P)$** $$+φ_Sy_{t−S}+φ_{2S}y_{t−2S}+···+φ_{PS}y_{t−PS}$$\n",
        "\n",
        "**$SMA(Q)$** $$+θ_Sε_{t−S}+θ_{2S}ε_{t−2S}+···+θ_{PS}ε_{t−QS}$$\n",
        "\n"
      ]
    },
    {
      "cell_type": "code",
      "metadata": {
        "id": "INKX7v52FJYH"
      },
      "source": [
        "pip install pmdarima\n"
      ],
      "execution_count": null,
      "outputs": []
    },
    {
      "cell_type": "code",
      "metadata": {
        "id": "AJiNSPGJFS-T"
      },
      "source": [
        "import pmdarima as pm"
      ],
      "execution_count": null,
      "outputs": []
    },
    {
      "cell_type": "markdown",
      "metadata": {
        "id": "wOTjdGi9JVy4"
      },
      "source": [
        "###__Початкове наближення__\n",
        "\n",
        "$Q=1, q=2, P=1, p=4, D=1, d=1$\n",
        "\n",
        "Початкове наближення можна визначити з коррелограмм та кількості проведених дифернціювань, необхідних для стаціонарності ряду.\n",
        "\n",
        "Значення $q$ та $Q$ визначаємо з коррелограмми ___ACF___, а $p$ та $P$ значення - з ___PACF___, як номер спостереження останнього значимого коефіцієнта кореляції (за межами синьої зони) для несезонних (з лагом в $1$) та сезонних (з лагом в сезон, наприклад $12$ для року) спостережень, якщо спостерігати від $0$-го спостереження, нехтуючи можливими значимими викидами після незначимих.\n",
        "\n",
        "Значення $d$ та $D$ визначаються, як порядок несезонного (з лагом в $1$) та сезонного (з лагом в сезон) диференціювання відповідно.\n",
        "\n"
      ]
    },
    {
      "cell_type": "code",
      "metadata": {
        "id": "Rv5CCqv-ceHH"
      },
      "source": [
        "stepwise_fit = pm.auto_arima(wine.sales_box, start_p=4, start_q=2, max_p=5, max_q=3, m=12,\n",
        "                             start_P=1,start_Q=1, seasonal=True, d=1, D=1, trace=True,\n",
        "                             error_action='ignore',  # don't want to know if an order does not work\n",
        "                             suppress_warnings=True,  # don't want convergence warnings\n",
        "                             stepwise=True)  # set to stepwise\n",
        "\n",
        "stepwise_fit.summary()"
      ],
      "execution_count": null,
      "outputs": []
    },
    {
      "cell_type": "code",
      "metadata": {
        "id": "X2mgJiWwFeSn"
      },
      "source": [
        " model=sm.tsa.statespace.SARIMAX(wine.sales_box, order=(0, 1, 1), \n",
        "                                        seasonal_order=(1, 1, 1, 12)).fit()\n"
      ],
      "execution_count": null,
      "outputs": []
    },
    {
      "cell_type": "markdown",
      "metadata": {
        "id": "T9La3NhXpm9S"
      },
      "source": [
        "**Залишки моделі**\n",
        "\n",
        "Перевіримо залишки моделі на:\n",
        "\n",
        "* незміщенність (___критерій Стьюдента___)\n",
        "* стаціонарність (___критерій Дікі-Фуллера___)\n",
        "* неавтокорельованість (___коррелограмма___)"
      ]
    },
    {
      "cell_type": "code",
      "metadata": {
        "id": "xVtZZOLhqI39"
      },
      "source": [
        "plt.figure(figsize(15,8))\n",
        "plt.subplot(211)\n",
        "model.resid[13:].plot()\n",
        "plt.ylabel(u'Залишки')\n",
        "\n",
        "ax = plt.subplot(212)\n",
        "sm.graphics.tsa.plot_acf(model.resid[13:].values.squeeze(), lags=48, ax=ax)\n",
        "\n",
        "print(\"T-тест Стьюдента: p=%f\" % stats.ttest_1samp(model.resid[13:], 0)[1])\n",
        "print(\"Критерій Дікі-Фуллера: p=%f\" % sm.tsa.stattools.adfuller(model.resid[13:])[1])"
      ],
      "execution_count": null,
      "outputs": []
    },
    {
      "cell_type": "markdown",
      "metadata": {
        "id": "H8scI99sLkmm"
      },
      "source": [
        ">Зробимо обернене перетворення Бокса-Кокса, щоб повернутися у початкову розмірність "
      ]
    },
    {
      "cell_type": "code",
      "metadata": {
        "id": "TwANPIVhFzOg"
      },
      "source": [
        "def invboxcox(y,lmbda):\n",
        "   if lmbda == 0:\n",
        "      return(np.exp(y))\n",
        "   else:\n",
        "      return(np.exp(np.log(lmbda*y+1)/lmbda))\n",
        "wine['model'] =invboxcox(model.fittedvalues, lmbda)\n",
        "plt.figure(figsize(15,7))\n",
        "wine.sales.plot()\n",
        "wine.model[13:].plot(color='r')\n",
        "plt.ylabel('Wine sales')\n",
        "pylab.show()"
      ],
      "execution_count": null,
      "outputs": []
    },
    {
      "cell_type": "markdown",
      "metadata": {
        "id": "s5Uz0amJF3-Q"
      },
      "source": [
        "## **Прогноз**"
      ]
    },
    {
      "cell_type": "code",
      "metadata": {
        "id": "PxSiGJRkF3oR"
      },
      "source": [
        "wine2 = wine[['sales']]\n",
        "date_list = [datetime.datetime.strptime(\"1994-09-01\", \"%Y-%m-%d\") + relativedelta(months=x) for x in range(0,36)]\n",
        "future = pd.DataFrame(index=date_list, columns= wine2.columns)\n",
        "wine2 = pd.concat([wine2, future])\n",
        "wine2['forecast'] = invboxcox(model.predict(start=176, end=211), lmbda)\n",
        "\n",
        "plt.figure(figsize(15,7))\n",
        "wine2.sales.plot()\n",
        "wine2.forecast.plot(color='r')\n",
        "plt.ylabel('Wine sales')\n",
        "pylab.show()"
      ],
      "execution_count": null,
      "outputs": []
    }
  ]
}