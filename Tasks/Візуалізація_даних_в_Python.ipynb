{
  "nbformat": 4,
  "nbformat_minor": 0,
  "metadata": {
    "colab": {
      "provenance": [],
      "collapsed_sections": [
        "IJjqJFCG0sDF"
      ]
    },
    "kernelspec": {
      "name": "python3",
      "display_name": "Python 3"
    },
    "language_info": {
      "name": "python"
    }
  },
  "cells": [
    {
      "cell_type": "markdown",
      "metadata": {
        "id": "ntseETa82Mi-"
      },
      "source": [
        "\n",
        "\n",
        "Робота з наборами даних та<br>\n",
        "візуалізація даних в Python</b></font></center>\n",
        "\n"
      ]
    },
    {
      "cell_type": "markdown",
      "metadata": {
        "id": "wFQoL-pM4jYC"
      },
      "source": [
        "#___Завантаження даних___\n",
        "\n",
        "Використаємо набір даних у форматі XLSX (значення, розділені комами).\n",
        "\n",
        "*Джерело даних*: [International migration flows to and from selected countries - The 2015 revision](http://www.un.org/en/development/desa/population/migration/data/empirical2/migrationflows.shtml?utm_medium=Exinfluencer&utm_source=Exinfluencer&utm_content=000026UJ&utm_term=10006555&utm_id=NA-SkillsNetwork-Channel-SkillsNetworkCoursesIBMDeveloperSkillsNetworkDV0101ENSkillsNetwork20297740-2021-01-01).\n",
        "\n",
        "Файл можна завантажити <a href=\"https://cf-courses-data.s3.us.cloud-object-storage.appdomain.cloud/IBMDeveloperSkillsNetwork-DV0101EN-SkillsNetwork/Data%20Files/Canada.xlsx?utm_medium=Exinfluencer&utm_source=Exinfluencer&utm_content=000026UJ&utm_term=10006555&utm_id=NA-SkillsNetwork-Channel-SkillsNetworkCoursesIBMDeveloperSkillsNetworkDV0101ENSkillsNetwork20297740-2021-01-01\">тут</a>.\n",
        "\n",
        "Бібліотека `pandas` - це корисний інструмент, який дозволяє нам читати та аналізувати дані\n",
        "\n",
        "Використоємо функцію `pandas.read_excel()` для зчитування xlsx-файлу. В дужках вказується в лапках шлях до файлу. Шлях до файлу може бути як локальною адресою файлу так і URL-адресою.\n",
        "\n",
        "Для спрощення роботи з даними, необхідно призначити змінну для даного набору завантажених даних, наприклад `df` (`dataframe`).\n",
        "\n",
        "<h3>Команди для зчитування інших форматів</h3>\n",
        "\n",
        "| Формат |        Команда      |   \n",
        "| ------------ | :---------------: | \n",
        "| csv          |  `pd.read_csv()`  | \n",
        "| json         |  `pd.read_json()` | \n",
        "| excel        | `pd.read_excel()` | \n",
        "| hdf          |  `pd.read_hdf()`  | \n",
        "| sql          |  `pd.read_sql()`  | \n",
        "| ...          |        ...        | "
      ]
    },
    {
      "cell_type": "code",
      "metadata": {
        "id": "rYg2Mj0g2Lg-"
      },
      "source": [
        "# Імпорт бібліотеки pandas \n",
        "import pandas as pd\n",
        "\n",
        "# зчитування даних і запис в змінну \"df\"\n",
        "path_to_file = 'https://cf-courses-data.s3.us.cloud-object-storage.appdomain.cloud/IBMDeveloperSkillsNetwork-DV0101EN-SkillsNetwork/Data%20Files/Canada.xlsx'\n",
        "df = pd.read_excel(path_to_file, sheet_name='Canada by Citizenship', \n",
        "    skiprows=range(20),\n",
        "    skipfooter=2)\n",
        "# skiprows, skipfooter ігнорує певну кількість рядків з початку та кінця таблиці, де містяться дані, які не потрібні для аналізу\n",
        "   \n"
      ],
      "execution_count": null,
      "outputs": []
    },
    {
      "cell_type": "markdown",
      "metadata": {
        "id": "r-vuwnN-IO7x"
      },
      "source": [
        "Для виводу перших n рядків таблиці з даними використовують команду `dataframe.head(n)`, де n - ціле число. Для виводу останніх n рядків використовують команду `dataframe.tail(n)`.\n",
        "\n",
        "Якщо залишити аргумент пустим, по замовчуванню виводится 5 рядків."
      ]
    },
    {
      "cell_type": "code",
      "metadata": {
        "id": "2PQqDYTOJGmt"
      },
      "source": [
        "# Перші 5 рядків таблиці з даними\n",
        "df.head()"
      ],
      "execution_count": null,
      "outputs": []
    },
    {
      "cell_type": "code",
      "metadata": {
        "id": "lYpWebVvJdjr"
      },
      "source": [
        "# Останні 10 рядків таблиці з даними\n",
        "df.tail(10)"
      ],
      "execution_count": null,
      "outputs": []
    },
    {
      "cell_type": "markdown",
      "metadata": {
        "id": "CXLSQMhBMPJ_"
      },
      "source": [
        ">якщо є пропущені дані у вигляді `?` в таблиці з даними їх можна замінити на `NaN` (Not a Number). Для цього нам необхідно імпортувати бібліотеку `numpy`."
      ]
    },
    {
      "cell_type": "code",
      "metadata": {
        "id": "55SR_87TMOEe"
      },
      "source": [
        "import numpy as np\n",
        "df1=df.replace('?',np.NaN)\n"
      ],
      "execution_count": null,
      "outputs": []
    },
    {
      "cell_type": "markdown",
      "metadata": {
        "id": "raN6dUZqPxL7"
      },
      "source": [
        "__Опис набору даних__\n",
        "\n",
        "Інформацію про дані, які містяться в наборі можна дістати за допомогою команд `describe()` та `info()`.\n",
        "\n",
        ">`describe()` дає статистичну інформацію про числові дані (кількість, середнє, середньоквадратичне, мінімум, максимум та персентилі)\n",
        "\n",
        ">`info()` дає інформацію про кількість факторів, спостережень, кількість заповнених значень, типи даних \n"
      ]
    },
    {
      "cell_type": "code",
      "metadata": {
        "id": "E9vgUXvRYBCV"
      },
      "source": [
        "df.describe()"
      ],
      "execution_count": null,
      "outputs": []
    },
    {
      "cell_type": "code",
      "metadata": {
        "id": "rbTfyq4fXF6u"
      },
      "source": [
        "df.info()"
      ],
      "execution_count": null,
      "outputs": []
    },
    {
      "cell_type": "code",
      "metadata": {
        "id": "DyKpfSnjiVl1"
      },
      "source": [
        "# Назви стовпців таблиці\n",
        "df.columns"
      ],
      "execution_count": null,
      "outputs": []
    },
    {
      "cell_type": "code",
      "metadata": {
        "id": "8kF0HdTjilKG"
      },
      "source": [
        "# діапазон рядків (спостереження)\n",
        "df.index"
      ],
      "execution_count": null,
      "outputs": []
    },
    {
      "cell_type": "code",
      "metadata": {
        "id": "UP5gVlDbjAVs"
      },
      "source": [
        "# розмір таблиці (кількість рядків, кількість стовпців)\n",
        "df.shape    "
      ],
      "execution_count": null,
      "outputs": []
    },
    {
      "cell_type": "markdown",
      "metadata": {
        "id": "W93DSvMjjUgJ"
      },
      "source": [
        ">Перетворимо таблицю, видаливши деякі зайві стовпці, використавши команду `drop()`:\n"
      ]
    },
    {
      "cell_type": "code",
      "metadata": {
        "id": "uy--vIG8jtC2"
      },
      "source": [
        "# в pandas axis=0 означає рядки (по замовчуванню) та axis=1 означає стовпці, inplace=True означає перезапис змін в поточну змінну df\n",
        "df.drop(['AREA','REG','DEV','Type','Coverage'], axis=1, inplace=True)\n",
        "df.head(2)"
      ],
      "execution_count": null,
      "outputs": []
    },
    {
      "cell_type": "markdown",
      "metadata": {
        "id": "HHAfKwG8jUSx"
      },
      "source": [
        "> Для того, щоб змінити назву стовпців використаємо команду `rename()`:\n",
        "\n",
        "\n",
        "```\n",
        "rename(columns={'OldName_1':'NewName_1', 'OldName_2':'NewName_2',..., 'OldName_N':'NewName_N'}, inplace=True)\n",
        "```\n",
        "\n"
      ]
    },
    {
      "cell_type": "code",
      "metadata": {
        "id": "u37Cv3zAjTqE"
      },
      "source": [
        "df.rename(columns={'OdName':'Country', 'AreaName':'Continent', 'RegName':'Region'}, inplace=True)\n",
        "df.columns"
      ],
      "execution_count": null,
      "outputs": []
    },
    {
      "cell_type": "markdown",
      "metadata": {
        "id": "EORTVhpRlxnx"
      },
      "source": [
        ">Для перевірки кількості пропущених значень використовують команду `isnull()` та `sum()`:\n"
      ]
    },
    {
      "cell_type": "code",
      "metadata": {
        "id": "2arN6LVEmIbh"
      },
      "source": [
        "df.isnull().sum()"
      ],
      "execution_count": null,
      "outputs": []
    },
    {
      "cell_type": "markdown",
      "metadata": {
        "id": "MmGkPu2umczm"
      },
      "source": [
        "## __Індексація та вибір частини даних в *pandas*__"
      ]
    },
    {
      "cell_type": "markdown",
      "metadata": {
        "id": "YAMOpAT6mo0A"
      },
      "source": [
        "***\n",
        "### Вибір стопців\n",
        "\n",
        "Спосіб 1: спрацьовує для випадку, коли в назвах стовпців немає пробілів та спец.символів.\n",
        "\n",
        "```python\n",
        "    df.column_name               # повертає об'єкт series \n",
        "```\n",
        "\n",
        "Спосіб 2: є можливість вибору декількох стовпців.\n",
        "\n",
        "```python\n",
        "    df['column']                  # повертає об'єкт series \n",
        "```\n",
        "\n",
        "```python\n",
        "    df[['column 1', 'column 2']]  # повертає об'єкт dataframe\n",
        "```\n",
        "\n",
        "***\n"
      ]
    },
    {
      "cell_type": "code",
      "metadata": {
        "id": "u4Uh6YAQoLWe"
      },
      "source": [
        "df.Country"
      ],
      "execution_count": null,
      "outputs": []
    },
    {
      "cell_type": "code",
      "metadata": {
        "id": "aSDi59jSoXQL"
      },
      "source": [
        "df[['Country', 1980, 1981, 1982, 1983, 1984, 1985]]"
      ],
      "execution_count": null,
      "outputs": []
    },
    {
      "cell_type": "markdown",
      "metadata": {
        "id": "D8aGlTNAoeEA"
      },
      "source": [
        "***\n",
        "### Вибір рядків\n",
        "\n",
        "```python\n",
        "    df.loc[label]    # фільтрує за мітками стовпця\n",
        "    df.iloc[index]   # фільтрує за позиціями стовпця\n",
        "```\n",
        "***\n",
        "\n",
        ">В нашому наборі даних індекс по замовчуванню - це цілі числа від 0 до 194. Це достатньо незручно, тому краще прив'язати мітку до назви країни, це можна зробити за допомогою команди `set_index()`\n",
        "\n",
        "Для того, щоб зкинути зміни використовується команда `df.index.name = None`\n"
      ]
    },
    {
      "cell_type": "code",
      "metadata": {
        "id": "13SRMrysp-2o"
      },
      "source": [
        "df.set_index('Country', inplace=True)\n",
        "df.head()"
      ],
      "execution_count": null,
      "outputs": []
    },
    {
      "cell_type": "code",
      "metadata": {
        "id": "O_UyBwveqKj1"
      },
      "source": [
        "df.head()"
      ],
      "execution_count": null,
      "outputs": []
    },
    {
      "cell_type": "code",
      "metadata": {
        "id": "7IklsFpWqKVy"
      },
      "source": [
        "# дані по всим стовпцям для Японіі\n",
        "df.loc['Japan']"
      ],
      "execution_count": null,
      "outputs": []
    },
    {
      "cell_type": "code",
      "metadata": {
        "id": "hHhVfx1aqwyI"
      },
      "source": [
        "# альтернативний спосіб\n",
        "df.iloc[87]"
      ],
      "execution_count": null,
      "outputs": []
    },
    {
      "cell_type": "code",
      "metadata": {
        "id": "J7hiY2EWq1_O"
      },
      "source": [
        "# частина таблиці для індексу \"Японія\"\n",
        "df[df.index == 'Japan']"
      ],
      "execution_count": null,
      "outputs": []
    },
    {
      "cell_type": "code",
      "metadata": {
        "id": "Gau9onR4q1pg"
      },
      "source": [
        "# значення для Японії за 2013 рік\n",
        "df.loc['Japan', 2013]"
      ],
      "execution_count": null,
      "outputs": []
    },
    {
      "cell_type": "code",
      "metadata": {
        "id": "CVWzooBErPEB"
      },
      "source": [
        "# значення для Японіїї з 1980 по 1985\n",
        "df.loc['Japan', [1980, 1981, 1982, 1983, 1984, 1984]]"
      ],
      "execution_count": null,
      "outputs": []
    },
    {
      "cell_type": "markdown",
      "metadata": {
        "id": "e4D4Bh5AtaX-"
      },
      "source": [
        "### Фільтр за критерієм\n",
        "\n",
        "Для фільтрації даних за певною умовою необхідно представити умову як вектор логічного типу."
      ]
    },
    {
      "cell_type": "code",
      "metadata": {
        "button": false,
        "new_sheet": false,
        "run_control": {
          "read_only": false
        },
        "scrolled": true,
        "id": "6sBreT5J0sDD"
      },
      "source": [
        "# сформуємо вектор-умову\n",
        "condition = df['Continent'] == 'Asia'\n",
        "print(condition)"
      ],
      "execution_count": null,
      "outputs": []
    },
    {
      "cell_type": "code",
      "metadata": {
        "button": false,
        "new_sheet": false,
        "run_control": {
          "read_only": false
        },
        "id": "rC4lflQp0sDD"
      },
      "source": [
        "# застосуємо умову до фрейму даних\n",
        "df[condition]"
      ],
      "execution_count": null,
      "outputs": []
    },
    {
      "cell_type": "code",
      "metadata": {
        "button": false,
        "new_sheet": false,
        "run_control": {
          "read_only": false
        },
        "id": "JAzxS0OC0sDD"
      },
      "source": [
        "# можна поєднувати умову\n",
        "\n",
        "df[(df['Continent']=='Asia') & (df['Region']=='Southern Asia')]\n",
        "\n",
        "# замість логічних операцій 'і' та 'або' в pandas можна використовувати '&' та '|' відповідно\n",
        "# не забувайте записувати умови між логічними зв'язками в круглих дужках "
      ],
      "execution_count": null,
      "outputs": []
    },
    {
      "cell_type": "markdown",
      "metadata": {
        "id": "nL2H16YLb26Y"
      },
      "source": [
        "#__Методи візуалізації даних (Data Visualization) з використанням Matplotlib__"
      ]
    },
    {
      "cell_type": "markdown",
      "metadata": {
        "button": false,
        "new_sheet": false,
        "run_control": {
          "read_only": false
        },
        "id": "cRmoOe3V0sDE"
      },
      "source": [
        "## Matplotlib: бібліотека Python для візуалізації даних\n",
        "\n",
        "\n",
        "Білше про [Matplotlib](http://matplotlib.org/?utm_medium=Exinfluencer&utm_source=Exinfluencer&utm_content=000026UJ&utm_term=10006555&utm_id=NA-SkillsNetwork-Channel-SkillsNetworkCoursesIBMDeveloperSkillsNetworkDV0101ENSkillsNetwork20297740-2021-01-01). \n",
        "\n",
        "> Модуль `pyplot`дозволяє робити візуальне форматування графічних зображень"
      ]
    },
    {
      "cell_type": "code",
      "metadata": {
        "button": false,
        "new_sheet": false,
        "run_control": {
          "read_only": false
        },
        "id": "B4u2aDkY0sDE"
      },
      "source": [
        "# inline дозволяє відображати графічне зображення в поточній оболонці як зображення\n",
        "%matplotlib inline \n",
        "\n",
        "# імпортуємо бібліотеку matplotlib та модуль pyplot\n",
        "import matplotlib as mpl\n",
        "import matplotlib.pyplot as plt"
      ],
      "execution_count": null,
      "outputs": []
    },
    {
      "cell_type": "code",
      "metadata": {
        "button": false,
        "new_sheet": false,
        "run_control": {
          "read_only": false
        },
        "id": "7uFC1-TD0sDF"
      },
      "source": [
        "\n",
        "print(plt.style.available)\n",
        "mpl.style.use(['ggplot']) # ggplot як стиль"
      ],
      "execution_count": null,
      "outputs": []
    },
    {
      "cell_type": "markdown",
      "metadata": {
        "button": false,
        "new_sheet": false,
        "run_control": {
          "read_only": false
        },
        "id": "IJjqJFCG0sDF"
      },
      "source": [
        "### Графік в *pandas*\n",
        "\n",
        "> pandas має функцію `.plot()` для побудови графічних зображень для series та dataframe.\n",
        "\n",
        "Документація:\n",
        "\n",
        "*   [Plotting with Series](http://pandas.pydata.org/pandas-docs/stable/api.html?utm_medium=Exinfluencer&utm_source=Exinfluencer&utm_content=000026UJ&utm_term=10006555&utm_id=NA-SkillsNetwork-Channel-SkillsNetworkCoursesIBMDeveloperSkillsNetworkDV0101ENSkillsNetwork20297740-2021-01-01#plotting)<br>\n",
        "*   [Plotting with Dataframes](http://pandas.pydata.org/pandas-docs/stable/api.html?utm_medium=Exinfluencer&utm_source=Exinfluencer&utm_content=000026UJ&utm_term=10006555&utm_id=NA-SkillsNetwork-Channel-SkillsNetworkCoursesIBMDeveloperSkillsNetworkDV0101ENSkillsNetwork20297740-2021-01-01#api-dataframe-plotting)\n"
      ]
    },
    {
      "cell_type": "markdown",
      "metadata": {
        "button": false,
        "new_sheet": false,
        "run_control": {
          "read_only": false
        },
        "id": "ua7-eP3n0sDF"
      },
      "source": [
        "## Лінійний графік (Line Pots)\n"
      ]
    },
    {
      "cell_type": "code",
      "metadata": {
        "id": "9p_oADa-8QJT"
      },
      "source": [
        "# запишемо список з років в таблиці як нову змінну\n",
        "years = list(map(int, range(1980, 2014)))\n",
        "years"
      ],
      "execution_count": null,
      "outputs": []
    },
    {
      "cell_type": "code",
      "metadata": {
        "button": false,
        "new_sheet": false,
        "run_control": {
          "read_only": false
        },
        "id": "qCEFYPiA0sDF"
      },
      "source": [
        "# виокремимо дані про Гаїті\n",
        "haiti = df.loc['Haiti', years] \n",
        "haiti.head()"
      ],
      "execution_count": null,
      "outputs": []
    },
    {
      "cell_type": "code",
      "metadata": {
        "button": false,
        "new_sheet": false,
        "run_control": {
          "read_only": false
        },
        "id": "KkQBSkNE0sDG"
      },
      "source": [
        "# побудуємо графік міграції з Гаїті\n",
        "haiti.plot()"
      ],
      "execution_count": null,
      "outputs": []
    },
    {
      "cell_type": "markdown",
      "metadata": {
        "button": false,
        "new_sheet": false,
        "run_control": {
          "read_only": false
        },
        "id": "ZWtuDMOU0sDG"
      },
      "source": [
        "*pandas* автоматично ввжає стовпчик індексів (років) як вісь $x$, а популяцію - як вісь $y$. \n",
        "Для того щоб додати підписи заголовків осей та графіку використовують команди:\n",
        " `plt.title()`, `plt.ylabel()` та `plt.xlabel()`:\n"
      ]
    },
    {
      "cell_type": "code",
      "metadata": {
        "button": false,
        "new_sheet": false,
        "run_control": {
          "read_only": false
        },
        "scrolled": true,
        "id": "X8uqKfn40sDG"
      },
      "source": [
        "# тип графіки line\n",
        "haiti.plot(kind='line')\n",
        "\n",
        "# заголовки \n",
        "plt.title('Immigration from Haiti')\n",
        "plt.ylabel('Number of immigrants')\n",
        "plt.xlabel('Years')\n",
        "\n",
        "# команда show() дає можливість показати оновлення на графічному зображенні\n",
        "plt.show()"
      ],
      "execution_count": null,
      "outputs": []
    },
    {
      "cell_type": "code",
      "metadata": {
        "button": false,
        "new_sheet": false,
        "run_control": {
          "read_only": false
        },
        "id": "vfLJm-2B0sDG"
      },
      "source": [
        "haiti.plot(kind='line')\n",
        "\n",
        "plt.title('Immigration from Haiti')\n",
        "plt.ylabel('Number of Immigrants')\n",
        "plt.xlabel('Years')\n",
        "\n",
        "# можна додавати текстові аннотації на графік. \n",
        "# синтаксис: plt.text(x, y, label) (координати та підпис)\n",
        "plt.text(2000, 6000, '2010 Earthquake') \n",
        "\n",
        "plt.show() "
      ],
      "execution_count": null,
      "outputs": []
    },
    {
      "cell_type": "markdown",
      "metadata": {
        "button": false,
        "new_sheet": false,
        "run_control": {
          "read_only": false
        },
        "id": "vrGl52BJBiYh"
      },
      "source": [
        "## Кругова діаграма (Pie Charts)\n",
        "\n",
        ">Кругова діаграма `pie chart` дає можливість відображати числові дані як частину цілого у відсотках. Ми можемо створити таку діаграму в Matplotlib через аргумент `kind=pie`.\n"
      ]
    },
    {
      "cell_type": "markdown",
      "metadata": {
        "button": false,
        "new_sheet": false,
        "run_control": {
          "read_only": false
        },
        "id": "hAniFKGiBiYh"
      },
      "source": [
        "В *pandas* є модуль `groupby` для зведення даних:\n",
        "\n",
        "1.  Розділяємо дані за критерієм.\n",
        "2.  Обираємо функцію для групи:\n",
        "   ```\n",
        "    .sum()\n",
        "    .count()\n",
        "    .mean()\n",
        "    .std()\n",
        "    .aggregate()\n",
        "    .apply()\n",
        "    .etc..\n",
        "    ```\n",
        "3.  Комбінуємо результат в структуру даних.\n"
      ]
    },
    {
      "cell_type": "markdown",
      "metadata": {
        "button": false,
        "new_sheet": false,
        "run_control": {
          "read_only": false
        },
        "id": "tM1akM33BiYi"
      },
      "source": [
        "<img src=\"https://cf-courses-data.s3.us.cloud-object-storage.appdomain.cloud/IBMDeveloperSkillsNetwork-DV0101EN-SkillsNetwork/labs/Module%203/images/Mod3Fig4SplitApplyCombine.png\" height=200 align=\"center\">\n"
      ]
    },
    {
      "cell_type": "code",
      "metadata": {
        "button": false,
        "jupyter": {
          "outputs_hidden": false
        },
        "new_sheet": false,
        "run_control": {
          "read_only": false
        },
        "id": "Dd9b4dotBiYi"
      },
      "source": [
        "# додаємо стовпчик з сумарною кількістю мігрантів за всі роки, що розглядаються\n",
        "df['Total'] = df.sum(axis=1)\n",
        "# групуємо дані за континентом та знаходимо суму мігрантів по континенту\n",
        "df_continents = df.groupby('Continent', axis=0).sum()\n",
        "\n",
        "df_continents.tail()"
      ],
      "execution_count": null,
      "outputs": []
    },
    {
      "cell_type": "markdown",
      "metadata": {
        "button": false,
        "new_sheet": false,
        "run_control": {
          "read_only": false
        },
        "id": "fG7bhWQJBiYi"
      },
      "source": [
        "Будуємо графік даних з аргументом `kind = 'pie'` та додатковими параметрами: \n",
        "*   `autopct` -  додає мітку на сектор у вигляді числового значення.\n",
        "*   `startangle` - повертає початковий сектор на кут проти годинникової стрілки від вісі $x$.\n",
        "*   `shadow` - додає тіньовий ефект.\n"
      ]
    },
    {
      "cell_type": "code",
      "metadata": {
        "id": "cKYCb19Y7UvB"
      },
      "source": [
        "df_continents['Total'].plot(kind='pie',\n",
        "                            figsize=(5, 6),\n",
        "                            autopct='%1.1f%%', # додаємо вивід підписів у % , маска яка виводить цілу частину, \".\", дробова частина з точністю до 1 знака після коми\n",
        "                            startangle=90,     # починаємо з кута 90° (Africa)\n",
        "                            shadow=True,       # додаємо тінь   \n",
        "                            )\n",
        "\n",
        "plt.title('Immigration to Canada by Continent [1980 - 2013]')\n",
        "plt.axis('equal') # вигляд діаграми - кругова\n",
        "\n",
        "plt.show()"
      ],
      "execution_count": null,
      "outputs": []
    },
    {
      "cell_type": "code",
      "metadata": {
        "button": false,
        "jupyter": {
          "outputs_hidden": false
        },
        "new_sheet": false,
        "run_control": {
          "read_only": false
        },
        "id": "iD4sULyTBiYj"
      },
      "source": [
        "# перетворимо попереднє зображення на більш наглядне\n",
        "\n",
        "#створимо список кольорів\n",
        "colors_list = ['gold', 'yellowgreen', 'lightcoral', 'lightskyblue', 'lightgreen', 'pink']\n",
        "\n",
        "#створимо список зсуву секторів від центру кола\n",
        "explode_list = [0.1, 0, 0, 0, 0.1, 0.1] \n",
        "\n",
        "df_continents['Total'].plot(kind='pie',\n",
        "                            figsize=(15, 6),\n",
        "                            autopct='%1.1f%%', \n",
        "                            startangle=90,    \n",
        "                            shadow=True,       \n",
        "                            labels=None,         # вимикаємо вивід підписів секторів на них\n",
        "                            pctdistance=1.12,    # відстань між центром сектору та початком підпису значення цього сектору \n",
        "                            colors=colors_list,  # додаємо кольори зі списку\n",
        "                            explode=explode_list # підключаємо відстані секторів від центру зі списку\n",
        "                            )\n",
        "\n",
        "# розташовуємо підпис діаграми вище на 12%\n",
        "plt.title('Immigration to Canada by Continent [1980 - 2013]', y=1.12) \n",
        "\n",
        "plt.axis('equal') \n",
        "\n",
        "# додаємо легенду зліва зверху\n",
        "plt.legend(labels=df_continents.index, loc='upper left') \n",
        "\n",
        "plt.show()"
      ],
      "execution_count": null,
      "outputs": []
    },
    {
      "cell_type": "markdown",
      "metadata": {
        "button": false,
        "new_sheet": false,
        "run_control": {
          "read_only": false
        },
        "id": "QK7aIcJ2BiYk"
      },
      "source": [
        " ## Діаграма розмаху. Ящик з вусами (Box Plots)\n",
        "\n",
        "Діаграма `box plot` це візуалізація статистичного розподілу за п'яти вимірами:\n",
        "\n",
        "*   **Мінімум:** Найменше значення, не включаючи викиди.\n",
        "*   **Перший квартиль:** 25%.\n",
        "*   **Другий квартиль (Медіана):** 50% Середина відсортованого набору даних.\n",
        "*   **Третій квартиль:** 75%.\n",
        "*   **Максимум:** Найбільше значення, не включаючи викиди.\n"
      ]
    },
    {
      "cell_type": "markdown",
      "metadata": {
        "button": false,
        "new_sheet": false,
        "run_control": {
          "read_only": false
        },
        "id": "ABtdMmaLBiYl"
      },
      "source": [
        "<img src=\"https://cf-courses-data.s3.us.cloud-object-storage.appdomain.cloud/IBMDeveloperSkillsNetwork-DV0101EN-SkillsNetwork/labs/Module%203/images/boxplot_complete.png\" width=440, align=\"center\">\n"
      ]
    },
    {
      "cell_type": "markdown",
      "metadata": {
        "button": false,
        "new_sheet": false,
        "run_control": {
          "read_only": false
        },
        "id": "A0quj4EyBiYl"
      },
      "source": [
        "Створити `boxplot`, можна за допомогою параметру `kind=box` функції `plot()`.\n"
      ]
    },
    {
      "cell_type": "code",
      "metadata": {
        "button": false,
        "jupyter": {
          "outputs_hidden": false
        },
        "new_sheet": false,
        "run_control": {
          "read_only": false
        },
        "id": "gqTWiwTSBiYl"
      },
      "source": [
        "# сформуємо новий набір даних для Японіїї.\n",
        "df_japan = df.loc[['Japan'], years].transpose()\n",
        "df_japan.head()"
      ],
      "execution_count": null,
      "outputs": []
    },
    {
      "cell_type": "code",
      "metadata": {
        "button": false,
        "jupyter": {
          "outputs_hidden": false
        },
        "new_sheet": false,
        "run_control": {
          "read_only": false
        },
        "id": "FUf3wqDtBiYl"
      },
      "source": [
        "# Будуємо графік\n",
        "df_japan.plot(kind='box', figsize=(8, 6))\n",
        "\n",
        "plt.title('Box plot of Japanese Immigrants from 1980 - 2013')\n",
        "plt.ylabel('Number of Immigrants')\n",
        "\n",
        "plt.show()"
      ],
      "execution_count": null,
      "outputs": []
    },
    {
      "cell_type": "code",
      "metadata": {
        "button": false,
        "jupyter": {
          "outputs_hidden": false
        },
        "new_sheet": false,
        "run_control": {
          "read_only": false
        },
        "id": "1UQvrhIKBiYm"
      },
      "source": [
        "# Порівняємо результат з функцією describe()\n",
        "df_japan.describe()"
      ],
      "execution_count": null,
      "outputs": []
    },
    {
      "cell_type": "code",
      "metadata": {
        "button": false,
        "jupyter": {
          "outputs_hidden": false
        },
        "new_sheet": false,
        "run_control": {
          "read_only": false
        },
        "id": "ikOiJqv4BiYp"
      },
      "source": [
        "# горизонтальний box plots\n",
        "# додаємо колір лінії та встановлюємо атрибут vert=False для горизонтального вирівнювання\n",
        "df_japan.plot(kind='box', figsize=(10, 7), color='blue', vert=False)\n",
        "                                                                    \n",
        "plt.title('Box plot of Japanese Immigrants from 1980 - 2013')\n",
        "plt.xlabel('Number of Immigrants')\n",
        "\n",
        "plt.show()"
      ],
      "execution_count": null,
      "outputs": []
    },
    {
      "cell_type": "markdown",
      "metadata": {
        "button": false,
        "new_sheet": false,
        "run_control": {
          "read_only": false
        },
        "id": "0q_jhDEfBiYp"
      },
      "source": [
        "**Області на діаграмі (Subplots)**\n",
        "\n",
        "При необхідності можна виводити в одному вікні декілька графіків.\n",
        "\n",
        "Для такої візуалізації створюється фігура  **`figure`** яка поділяється на області  **`subplots`**, кожна з яких містить графік.\n",
        "\n",
        "Синтаксис : <br>\n",
        "\n",
        "```python\n",
        "    fig = plt.figure() # створюємо фігуру\n",
        "    ax = fig.add_subplot(nrows, ncols, plot_number) # створюємо області\n",
        "```\n",
        "\n",
        "де\n",
        "\n",
        "*   `nrows` та `ncols` ділять фігуру на (`nrows` \\* `ncols`) областей,\n",
        "*   `plot_number` ідентифікує область\n",
        "<img src=\"https://cf-courses-data.s3.us.cloud-object-storage.appdomain.cloud/IBMDeveloperSkillsNetwork-DV0101EN-SkillsNetwork/labs/Module%203/images/Mod3Fig5Subplots_V2.png\" width=400 align=\"center\">\n"
      ]
    },
    {
      "cell_type": "code",
      "metadata": {
        "button": false,
        "jupyter": {
          "outputs_hidden": false
        },
        "new_sheet": false,
        "run_control": {
          "read_only": false
        },
        "id": "4iRHXO3nBiYq"
      },
      "source": [
        "fig = plt.figure() # створюємо фігуру\n",
        "\n",
        "ax0 = fig.add_subplot(1, 2, 1) # додаємо область 1 (1 рядок, 2 стовпчики, перший графік)\n",
        "ax1 = fig.add_subplot(1, 2, 2) # додаємо область 2 (1 рядок, 2 стовпчики, другий графік)\n",
        "\n",
        "# область 1: Box plot\n",
        "df_japan.plot(kind='box', color='blue', vert=False, figsize=(20, 6), ax=ax0) # додаємо першу область\n",
        "ax0.set_title('Box Plots of Immigrants from Japanese')\n",
        "ax0.set_xlabel('Number of Immigrants')\n",
        "ax0.set_ylabel('Countries')\n",
        "\n",
        "# Область 2: Line plot\n",
        "df_japan.plot(kind='line', figsize=(20, 6), ax=ax1) # додаємо дрругу область\n",
        "ax1.set_title ('Line Plots of Immigrants from Japanese')\n",
        "ax1.set_ylabel('Number of Immigrants')\n",
        "ax1.set_xlabel('Years')\n",
        "\n",
        "plt.show()"
      ],
      "execution_count": null,
      "outputs": []
    },
    {
      "cell_type": "markdown",
      "metadata": {
        "button": false,
        "new_sheet": false,
        "run_control": {
          "read_only": false
        },
        "id": "NeGZ1b2CBiYx"
      },
      "source": [
        "## Діаграма розсіювання. Точкова діаграма (Scatter Plots)\n",
        "\n",
        "Діаграма `scatter plot` (2D) це вид точкової діаграми, значення для якої обираються покоординатно за допомогою параметру `kind='scatter'`"
      ]
    },
    {
      "cell_type": "code",
      "metadata": {
        "button": false,
        "jupyter": {
          "outputs_hidden": false
        },
        "new_sheet": false,
        "run_control": {
          "read_only": false
        },
        "id": "uQ0jBqbxBiYx"
      },
      "source": [
        "# використаємо функцію sum() для знаходження сумарної міграції по рокам\n",
        "df_tot = pd.DataFrame(df[years].sum(axis=0))\n",
        "\n",
        "# змінимо на числові значення індекси\n",
        "df_tot.index = map(int, df_tot.index)\n",
        "\n",
        "# зробимо зброс індексів\n",
        "df_tot.reset_index(inplace = True)\n",
        "\n",
        "# переіменуємо стовпці\n",
        "df_tot.columns = ['year', 'total']\n",
        "\n",
        "df_tot.head()"
      ],
      "execution_count": null,
      "outputs": []
    },
    {
      "cell_type": "code",
      "metadata": {
        "button": false,
        "jupyter": {
          "outputs_hidden": false
        },
        "new_sheet": false,
        "run_control": {
          "read_only": false
        },
        "id": "x-GByJ_MBiYx"
      },
      "source": [
        "df_tot.plot(kind='scatter', x='year', y='total', figsize=(10, 6), color='darkblue')\n",
        "\n",
        "plt.title('Total Immigration to Canada from 1980 - 2013')\n",
        "plt.xlabel('Year')\n",
        "plt.ylabel('Number of Immigrants')\n",
        "\n",
        "plt.show()"
      ],
      "execution_count": null,
      "outputs": []
    },
    {
      "cell_type": "markdown",
      "metadata": {
        "button": false,
        "new_sheet": false,
        "run_control": {
          "read_only": false
        },
        "id": "MMX5HfgDBiYz"
      },
      "source": [
        "## Бульбашкова діаграма (Bubble Plots)\n",
        "\n",
        "Діаграма `bubble plot` це тривимірна діаграма (x, y, z), де розмір бульбашки - це третій вимір `z`. Вид графіку, як і у випадку 2D - `kind='scatter'`\n"
      ]
    },
    {
      "cell_type": "code",
      "metadata": {
        "button": false,
        "jupyter": {
          "outputs_hidden": false
        },
        "new_sheet": false,
        "run_control": {
          "read_only": false
        },
        "scrolled": true,
        "id": "5JBLwk5RBiYz"
      },
      "source": [
        "# транспонуємо дані\n",
        "df_t = df[years].transpose()\n",
        "\n",
        "# Позначимо x. Цей стовпчик автоматично буде стовпчиком імен після збросу індексів\n",
        "df_t.index.name = 'Year'\n",
        "\n",
        "# Зкидаємо індекси\n",
        "df_t.reset_index(inplace=True)\n",
        "\n",
        "df_t.head()"
      ],
      "execution_count": null,
      "outputs": []
    },
    {
      "cell_type": "markdown",
      "metadata": {
        "button": false,
        "new_sheet": false,
        "run_control": {
          "read_only": false
        },
        "id": "hdvPSEm4BiYz"
      },
      "source": [
        "__Нормалізуємо  ваги__ (третя змінна)\n",
        "\n",
        "Використаємо мінімаксну нормалізацію, та зведемо ваги в проміжок $[0, 1]$. Загальна формула:\n",
        "\n",
        "<img src=\"https://cf-courses-data.s3.us.cloud-object-storage.appdomain.cloud/IBMDeveloperSkillsNetwork-DV0101EN-SkillsNetwork/labs/Module%203/images/Mod3Fig3FeatureScaling.png\" align=\"center\">\n",
        "\n",
        "де $X$ початкове значення, $X'$ відповідне нормалізоване значення."
      ]
    },
    {
      "cell_type": "code",
      "metadata": {
        "button": false,
        "jupyter": {
          "outputs_hidden": false
        },
        "new_sheet": false,
        "run_control": {
          "read_only": false
        },
        "scrolled": true,
        "id": "4stD9eHFBiYz"
      },
      "source": [
        "# Нормалізуємо дані по Бразилії\n",
        "norm_brazil = (df_t['Brazil'] - df_t['Brazil'].min()) / (df_t['Brazil'].max() - df_t['Brazil'].min())\n",
        "\n",
        "# Нормалізуємо дані по Аргентині\n",
        "norm_argentina = (df_t['Argentina'] - df_t['Argentina'].min()) / (df_t['Argentina'].max() - df_t['Argentina'].min())"
      ],
      "execution_count": null,
      "outputs": []
    },
    {
      "cell_type": "code",
      "metadata": {
        "button": false,
        "jupyter": {
          "outputs_hidden": false
        },
        "new_sheet": false,
        "run_control": {
          "read_only": false
        },
        "id": "7JHfSO8rBiYz"
      },
      "source": [
        "# Графік для Бразилії\n",
        "ax0 = df_t.plot(kind='scatter',\n",
        "                    x='Year',\n",
        "                    y='Brazil',\n",
        "                    figsize=(14, 8),\n",
        "                    alpha=0.5,  # прозорість\n",
        "                    color='green',\n",
        "                    s=norm_brazil * 1000,  # перетворюємо ваги для наглядності\n",
        "                    xlim=(1975, 2015) # межі для вісі х\n",
        "                    )\n",
        "\n",
        "# Графік для Аргентини\n",
        "ax1 = df_t.plot(kind='scatter',\n",
        "                    x='Year',\n",
        "                    y='Argentina',\n",
        "                    alpha=0.5,\n",
        "                    color=\"blue\",\n",
        "                    s=norm_argentina * 1000,\n",
        "                    ax=ax0            #вивід графіку на тій же осі\n",
        "                    )\n",
        "\n",
        "ax0.set_ylabel('Number of Immigrants')\n",
        "ax0.set_title('Immigration from Brazil and Argentina from 1980 to 2013')\n",
        "ax0.legend(['Brazil', 'Argentina'], loc='upper left', fontsize='x-large')"
      ],
      "execution_count": null,
      "outputs": []
    },
    {
      "cell_type": "markdown",
      "metadata": {
        "button": false,
        "new_sheet": false,
        "run_control": {
          "read_only": false
        },
        "id": "EgUgWI8s1Dql"
      },
      "source": [
        "## Гістограми (Histograms)\n",
        "\n",
        "Вид діаграми для зображення порівняння кількості або частоти появи даних певної категорії. Для побудови частот використаємо пакет `numpy` функцію `histrogram ()`, а для побудови графіку параметр `kind=hist`."
      ]
    },
    {
      "cell_type": "code",
      "metadata": {
        "button": false,
        "new_sheet": false,
        "run_control": {
          "read_only": false
        },
        "id": "QrWXmkSp1Dql"
      },
      "source": [
        "# будемо використовувати міграційні дані за 2013 рік \n",
        "df[2013].head()"
      ],
      "execution_count": null,
      "outputs": []
    },
    {
      "cell_type": "code",
      "metadata": {
        "button": false,
        "new_sheet": false,
        "run_control": {
          "read_only": false
        },
        "id": "6DStDeh71Dql"
      },
      "source": [
        "#відсортуємо дані по колонці 'Total' за спаданням \n",
        "df.sort_values(['Total'], ascending=False, axis=0, inplace=True)\n",
        "\n",
        "# np.histogram повертає 2 набори значень\n",
        "count, bin_edges = np.histogram(df[2013])\n",
        "\n",
        "print(count) # підрахунок частоти\n",
        "print(bin_edges) # діапазони комірок, по замовчуванню 10"
      ],
      "execution_count": null,
      "outputs": []
    },
    {
      "cell_type": "code",
      "metadata": {
        "id": "uu4RANBADSgi"
      },
      "source": [
        "df[2013].head()"
      ],
      "execution_count": null,
      "outputs": []
    },
    {
      "cell_type": "code",
      "metadata": {
        "button": false,
        "new_sheet": false,
        "run_control": {
          "read_only": false
        },
        "id": "l2N8EGh21Dqm"
      },
      "source": [
        "#будуємо гістограму\n",
        "df[2013].plot(kind='hist', figsize=(8, 5))\n",
        "\n",
        "# назва діаграми\n",
        "plt.title('Histogram of Immigration from 195 Countries in 2013')\n",
        "# назва осі у\n",
        "plt.ylabel('Number of Countries')\n",
        "# назва осі х\n",
        "plt.xlabel('Number of Immigrants')\n",
        "\n",
        "plt.show()"
      ],
      "execution_count": null,
      "outputs": []
    },
    {
      "cell_type": "code",
      "metadata": {
        "button": false,
        "new_sheet": false,
        "run_control": {
          "read_only": false
        },
        "id": "YJ-22NLx1Dqm"
      },
      "source": [
        "# використаємо 'bin_edges' для розбивки інтервалів на осі х\n",
        "count, bin_edges = np.histogram(df[2013])\n",
        "\n",
        "df[2013].plot(kind='hist', figsize=(8, 5), xticks=bin_edges)\n",
        "\n",
        "plt.title('Histogram of Immigration from 195 countries in 2013')\n",
        "plt.ylabel('Number of Countries') \n",
        "plt.xlabel('Number of Immigrants') \n",
        "\n",
        "plt.show()"
      ],
      "execution_count": null,
      "outputs": []
    },
    {
      "cell_type": "code",
      "metadata": {
        "button": false,
        "new_sheet": false,
        "run_control": {
          "read_only": false
        },
        "id": "1yDJWb4G1Dqo"
      },
      "source": [
        "# Побудуємо набір даних по декількох країнах за всі роки\n",
        "df.loc[['Denmark', 'Norway', 'Sweden'], years]"
      ],
      "execution_count": null,
      "outputs": []
    },
    {
      "cell_type": "code",
      "metadata": {
        "button": false,
        "new_sheet": false,
        "run_control": {
          "read_only": false
        },
        "scrolled": false,
        "id": "dvs3DyRw1Dqo"
      },
      "source": [
        "# для побудови діаграми застосуємо до набору функцію plot.hist(), як альтернативу\n",
        "df.loc[['Denmark', 'Norway', 'Sweden'], years].plot.hist()"
      ],
      "execution_count": null,
      "outputs": []
    },
    {
      "cell_type": "markdown",
      "metadata": {
        "button": false,
        "new_sheet": false,
        "run_control": {
          "read_only": false
        },
        "id": "pMJG59R01Dqo"
      },
      "source": [
        ">Змінимо вигляд зображення, щоб частота виводилась по рокам. Для цього застосуємо транспонування даних фрейму\n"
      ]
    },
    {
      "cell_type": "code",
      "metadata": {
        "button": false,
        "new_sheet": false,
        "run_control": {
          "read_only": false
        },
        "scrolled": false,
        "id": "-0p26A521Dqo"
      },
      "source": [
        "df_t = df.loc[['Denmark', 'Norway', 'Sweden'], years].transpose()\n",
        "df_t.head()"
      ],
      "execution_count": null,
      "outputs": []
    },
    {
      "cell_type": "code",
      "metadata": {
        "button": false,
        "new_sheet": false,
        "run_control": {
          "read_only": false
        },
        "id": "NPnvlB521Dqp"
      },
      "source": [
        "# будуємо гістограму\n",
        "df_t.plot(kind='hist', figsize=(10, 6))\n",
        "\n",
        "plt.title('Histogram of Immigration from Denmark, Norway, and Sweden from 1980 - 2013')\n",
        "plt.ylabel('Number of Years')\n",
        "plt.xlabel('Number of Immigrants')\n",
        "\n",
        "plt.show()"
      ],
      "execution_count": null,
      "outputs": []
    },
    {
      "cell_type": "markdown",
      "metadata": {
        "button": false,
        "new_sheet": false,
        "run_control": {
          "read_only": false
        },
        "id": "gSjuACob1Dqp"
      },
      "source": [
        "Перетворимо зображення на більш репрезентативне:\n",
        "\n",
        "*   збільшимо кількість частотних стовпців до 15 за допомогою парамеетру `bins`;\n",
        "*   встановимо прозорість до 60% параметром `alpha`;\n",
        "*   змінимо кольори стовпців параметром `color`.\n"
      ]
    },
    {
      "cell_type": "code",
      "metadata": {
        "button": false,
        "new_sheet": false,
        "run_control": {
          "read_only": false
        },
        "scrolled": false,
        "id": "z7eMM04C1Dqp"
      },
      "source": [
        "# встановлюємо кількість частотних поділів 15\n",
        "count, bin_edges = np.histogram(df_t, 15)\n",
        "\n",
        "# будуємо гістограму\n",
        "df_t.plot(kind ='hist', \n",
        "          figsize=(10, 6),\n",
        "          bins=15,\n",
        "          alpha=0.6,\n",
        "          xticks=bin_edges,\n",
        "          color=['coral', 'darkslateblue', 'mediumseagreen']\n",
        "         )\n",
        "\n",
        "plt.title('Histogram of Immigration from Denmark, Norway, and Sweden from 1980 - 2013')\n",
        "plt.ylabel('Number of Years')\n",
        "plt.xlabel('Number of Immigrants')\n",
        "\n",
        "plt.show()"
      ],
      "execution_count": null,
      "outputs": []
    },
    {
      "cell_type": "markdown",
      "metadata": {
        "button": false,
        "new_sheet": false,
        "run_control": {
          "read_only": false
        },
        "id": "CmQgnaqC1Dqq"
      },
      "source": [
        "> Щоб діаграми не перекривали один одного використаємо параметр `stacked`\n"
      ]
    },
    {
      "cell_type": "code",
      "metadata": {
        "button": false,
        "new_sheet": false,
        "run_control": {
          "read_only": false
        },
        "id": "N0xip0Vs1Dqq"
      },
      "source": [
        "count, bin_edges = np.histogram(df_t, 15)\n",
        "\n",
        "df_t.plot(kind='hist',\n",
        "          figsize=(10, 6), \n",
        "          bins=15,\n",
        "          xticks=bin_edges,\n",
        "          color=['coral', 'darkslateblue', 'mediumseagreen'],\n",
        "          stacked=True, #додаємо параметр\n",
        "         )\n",
        "\n",
        "plt.title('Histogram of Immigration from Denmark, Norway, and Sweden from 1980 - 2013')\n",
        "plt.ylabel('Number of Years')\n",
        "plt.xlabel('Number of Immigrants') \n",
        "\n",
        "plt.show()"
      ],
      "execution_count": null,
      "outputs": []
    },
    {
      "cell_type": "markdown",
      "metadata": {
        "id": "mUnyPqN9SbnZ"
      },
      "source": [
        ">___Інші види___ `kind` ___функції___ `plot()`:\n",
        "*   `bar` вертикальна стовпчикова діаграма\n",
        "*   `barh` горизонтальна стовпчикова діаграма\n",
        "*   `kde` або `density` діаграма щільності\n",
        "*   `area` діаграма з областями\n",
        "*   `hexbin` діаграма гексбіна (карта кольорів)"
      ]
    }
  ]
}