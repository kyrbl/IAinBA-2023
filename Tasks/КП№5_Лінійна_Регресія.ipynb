{
  "nbformat": 4,
  "nbformat_minor": 0,
  "metadata": {
    "colab": {
      "name": "КП№5_Лінійна_Регресія (1).ipynb",
      "provenance": []
    },
    "kernelspec": {
      "name": "python3",
      "display_name": "Python 3"
    },
    "language_info": {
      "name": "python"
    }
  },
  "cells": [
    {
      "cell_type": "markdown",
      "metadata": {
        "id": "wNhBviOWN-YW"
      },
      "source": [
        "<center><font size=\"6\"><b>Комп'ютерний практикум 5.\n",
        "\n",
        "Лінійна регресія</b></font></center>"
      ]
    },
    {
      "cell_type": "markdown",
      "metadata": {
        "id": "jWAXRwMSyONP"
      },
      "source": [
        "<center><img src=\"https://miro.medium.com/max/943/0*QG8dIxNTaBH7Qrxq\" width=\"600\"></center>"
      ]
    },
    {
      "cell_type": "code",
      "metadata": {
        "id": "HSxaxbOfQT9K"
      },
      "source": [
        "import pandas as pd\n",
        "import numpy as np\n",
        "import matplotlib.pyplot as plt"
      ],
      "execution_count": null,
      "outputs": []
    },
    {
      "cell_type": "code",
      "metadata": {
        "id": "6fwRvv_3Np1f"
      },
      "source": [
        "path='https://cf-courses-data.s3.us.cloud-object-storage.appdomain.cloud/IBMDeveloperSkillsNetwork-DA0101EN-SkillsNetwork/labs/Data%20files/automobileEDA.csv'\n",
        "df = pd.read_csv(path)\n",
        "df.head()"
      ],
      "execution_count": null,
      "outputs": []
    },
    {
      "cell_type": "markdown",
      "metadata": {
        "id": "FPYrOLalS-lJ"
      },
      "source": [
        "##__Однофакторна лінійна регресія__\n",
        "\n",
        "<center><img src=\"https://miro.medium.com/max/2400/1*A71zTD6_QqUzLhMKj1Rgiw.png\" width=\"400\"></center>\n",
        "\n",
        "__Лінійна регресія__ дозволяє за величиною однієї ознаки (пояснювальна змінна $x$) знаходити середні (очікувані) значення іншої ознаки (пояснювана змінна $y$), зв'язаної з $x$ кореляційно. \n",
        "\n",
        "Оскільки в дослідженнях конкретний вид взаємозв'язків невідомий, одне з головних завдань регресійного аналізу полягає у доборі відповідного виразу $\\hat y=a_0+a_1x$, графік якого проходить через емпіричні точки (або досить близько до них) і таким чином зв'язує змінні $x$ і $y$.\n",
        "\n",
        "Побудувати регресійну функцію означає підібрати оптимальні оцінки параметрів моделі - коефіцієнти $a_0$ та $a_1$. Найпоширеніший метод визначення коєфіцієнтів моделі є __Метод Найменших Квадратів (МНК)__, який мінімізує сумарний квадрат залишків моделі.\n",
        "$$  \\sum_{i=1}^n (y_i-\\hat y_i)^2 =\\sum_{i=1}^n u_i^2\\to 0 ,$$ \n",
        "де $y_i=a_0+a_1x_i+u_i, i=\\overline{1, n}$ - реальні статистичні дані цільової змінної, $u_i$ - шум (залишки моделі, які статистично наближені до помилки моделі), $n$ - кількість спостережень.\n",
        "$$a_1=\\frac{\\sum_{i=1}^n(x_i-\\bar x)(y_i-\\bar y)}{\\sum_{i=1}^n(x_i-\\bar x)^2}\\\\a_0=\\bar y-a_1\\bar x$$\n"
      ]
    },
    {
      "cell_type": "markdown",
      "metadata": {
        "id": "XnqPO-D16bWA"
      },
      "source": [
        "###__Коефіцієнт детермінації $R^2$__ \n",
        "<center><img src=\"https://learnche.org/pid/_images/ANOVA-graphically.png\" width=\"400\"></center>\n",
        "\n",
        ">__RSS__ (residual sum of squares), __SSE__(sum of squared errors )\n",
        "$$  \\sum_{i=1}^n (y_i-\\hat y_i)^2 =\\sum_{i=1}^n u_i^2$$ \n",
        "\n",
        ">__RegSS__ (regression sum of square), __SSR__ (sum of squares regression ), __ESS__ (explained sum of squares)\n",
        "$$  \\sum_{i=1}^n (\\hat y_i - \\bar y_i)^2 $$\n",
        "\n",
        ">__TSS__ (total sum of squares), __SST__(Sum of Squares Total)\n",
        "$$  \\sum_{i=1}^n (y_i - \\bar y_i)^2 $$\n",
        "\n",
        "$$TSS=RSS+SSR$$\n",
        "\n",
        ">__Коефіцієнт детермінації__ - міра залежності варіації залежної змінної від варіації незалежних змінних. Приймає значення від $0$ до $1$. Чим ближче до $1$ тим залежність більш виражена, чим бличе до $0$ - навпаки \n",
        "$$R^2=\\frac{SSR}{TSS}=1-\\frac{RSS}{TSS}$$\n",
        "\n"
      ]
    },
    {
      "cell_type": "markdown",
      "metadata": {
        "id": "IEj8jp9KA5_0"
      },
      "source": [
        "Завантажимо функцію `LinearRegression` пакету `sklearn` "
      ]
    },
    {
      "cell_type": "code",
      "metadata": {
        "id": "kC8cLnyL6WT3"
      },
      "source": [
        "from sklearn.linear_model import LinearRegression"
      ],
      "execution_count": null,
      "outputs": []
    },
    {
      "cell_type": "code",
      "metadata": {
        "id": "fZ6y3CtZDEur"
      },
      "source": [
        "lm = LinearRegression()\n",
        "lm"
      ],
      "execution_count": null,
      "outputs": []
    },
    {
      "cell_type": "markdown",
      "metadata": {
        "id": "yDxLmlpFGpow"
      },
      "source": [
        "Перевіримо, чи є лінійний зв'язок між факторами `highway-mpg` та `price`"
      ]
    },
    {
      "cell_type": "code",
      "metadata": {
        "id": "TI1x7i9RDLBi"
      },
      "source": [
        "X = df[['highway-mpg']]\n",
        "Y = df['price']"
      ],
      "execution_count": null,
      "outputs": []
    },
    {
      "cell_type": "markdown",
      "metadata": {
        "id": "L9j8g-XbHC1V"
      },
      "source": [
        "Застосуємо модель лінійної регресії до обраних факторів"
      ]
    },
    {
      "cell_type": "code",
      "metadata": {
        "id": "PhwQeZdJTEFU"
      },
      "source": [
        "lm.fit(X,Y)"
      ],
      "execution_count": null,
      "outputs": []
    },
    {
      "cell_type": "markdown",
      "metadata": {
        "id": "QbcbbyLVHQr2"
      },
      "source": [
        "Спрогнозуємо перші 5 значень модельної змінної"
      ]
    },
    {
      "cell_type": "code",
      "metadata": {
        "id": "Mp0BBpCKDTxf"
      },
      "source": [
        "Yhat=lm.predict(X)\n",
        "Yhat[0:5]  "
      ],
      "execution_count": null,
      "outputs": []
    },
    {
      "cell_type": "markdown",
      "metadata": {
        "id": "ti2-hLyTHrRj"
      },
      "source": [
        "Знайдемо коефіцієнт $a_0$"
      ]
    },
    {
      "cell_type": "code",
      "metadata": {
        "id": "lCBBkfocDYGD"
      },
      "source": [
        "lm.intercept_"
      ],
      "execution_count": null,
      "outputs": []
    },
    {
      "cell_type": "markdown",
      "metadata": {
        "id": "uPDe-O3IH5UE"
      },
      "source": [
        "Знайдемо коефіцієнт $a_1$"
      ]
    },
    {
      "cell_type": "code",
      "metadata": {
        "id": "EsI-p49ZDa6P"
      },
      "source": [
        "lm.coef_"
      ],
      "execution_count": null,
      "outputs": []
    },
    {
      "cell_type": "markdown",
      "metadata": {
        "id": "bTyCvvhRIEwX"
      },
      "source": [
        "Побудуємо розподіл точок та графік моделюючої функції"
      ]
    },
    {
      "cell_type": "code",
      "metadata": {
        "id": "04lcSVyWDca1"
      },
      "source": [
        "plt.scatter(X, Y,  color='blue')\n",
        "plt.plot(X, lm.coef_*X + lm.intercept_, '-r')\n",
        "plt.xlabel(\"highway-mpg\")\n",
        "plt.ylabel(\"price\")\n",
        "plt.show()"
      ],
      "execution_count": null,
      "outputs": []
    },
    {
      "cell_type": "markdown",
      "metadata": {
        "id": "oewrXxr_NII8"
      },
      "source": [
        "Скористаємося візуалізацією пакету `seaborn`"
      ]
    },
    {
      "cell_type": "code",
      "metadata": {
        "id": "-MfGobxmMzgO"
      },
      "source": [
        "# import the visualization package: seaborn\n",
        "import seaborn as sns\n",
        "%matplotlib inline "
      ],
      "execution_count": null,
      "outputs": []
    },
    {
      "cell_type": "code",
      "metadata": {
        "id": "1pwgxbp1M2YO"
      },
      "source": [
        "sns.regplot(x=\"highway-mpg\", y=\"price\", data=df)\n",
        "plt"
      ],
      "execution_count": null,
      "outputs": []
    },
    {
      "cell_type": "markdown",
      "metadata": {
        "id": "K0RhtKq0OFNQ"
      },
      "source": [
        "Виведемо кореляційну матрицю"
      ]
    },
    {
      "cell_type": "code",
      "metadata": {
        "id": "_CvkAHPwN6oJ"
      },
      "source": [
        "df[[\"highway-mpg\",\"price\"]].corr()"
      ],
      "execution_count": null,
      "outputs": []
    },
    {
      "cell_type": "markdown",
      "metadata": {
        "id": "nRbPhj_EINh5"
      },
      "source": [
        "Оцінимо коефіцієнт детермінації моделі"
      ]
    },
    {
      "cell_type": "code",
      "metadata": {
        "id": "MCYxwTuZFCjZ"
      },
      "source": [
        "r_sq = lm.score(X,Y)\n",
        "print('coefficient of determination:', r_sq)"
      ],
      "execution_count": null,
      "outputs": []
    },
    {
      "cell_type": "markdown",
      "metadata": {
        "id": "jKZc8HukOSdW"
      },
      "source": [
        "Подивимось на графік залишків моделі"
      ]
    },
    {
      "cell_type": "code",
      "metadata": {
        "id": "1mMo3cHKOQiS"
      },
      "source": [
        "sns.residplot(df['highway-mpg'], df['price'])\n",
        "plt.show()"
      ],
      "execution_count": null,
      "outputs": []
    },
    {
      "cell_type": "markdown",
      "metadata": {
        "id": "3DRH7Bz-nvFm"
      },
      "source": [
        ">Оцінимо середньоквадратичну помилку за допомогою функції `mean_squared_error()` пакету `sklearn`"
      ]
    },
    {
      "cell_type": "code",
      "metadata": {
        "id": "Zj8CMpixln9b"
      },
      "source": [
        "from sklearn.metrics import mean_squared_error"
      ],
      "execution_count": null,
      "outputs": []
    },
    {
      "cell_type": "code",
      "metadata": {
        "id": "owtFMPk1lo_3"
      },
      "source": [
        "mse = mean_squared_error(df['price'], Yhat)\n",
        "print('Mean Squared Error is: ', mse)"
      ],
      "execution_count": null,
      "outputs": []
    },
    {
      "cell_type": "markdown",
      "metadata": {
        "id": "A87LhuAHaD8n"
      },
      "source": [
        "##__Багатофакторна лінійна регресія__\n",
        "\n",
        "$$\\hat y=a_0+a_1x_1+a_2x_2+...+a_mx_m$$\n",
        "\n",
        "пердбачає дві або більше пояснювальних змінних\n",
        "\n",
        "*Параметри (коефіцієнти)* моделі визначаються за методом МНК формулою\n",
        "\n",
        "$$A=(X^TX)^{-1}X^TY$$ \n",
        "$A=\\left( \\begin{array}{ccc}a_0\\\\ a_1 \\\\ ...\\\\ a_m\\end{array} \\right)$, $X=\\left( \\begin{array}{ccc}1&x_{11}&x_{12}&...&x_{1m}\\\\ 1&x_{21}&x_{22}&...&x_{2m} \\\\ ...\\\\ 1&x_{n1}&x_{n2}&...&x_{nm}\\end{array} \\right)$, $Y=\\left( \\begin{array}{ccc}y_1\\\\ y_2 \\\\ ...\\\\ y_n\\end{array} \\right)$\n",
        "\n"
      ]
    },
    {
      "cell_type": "markdown",
      "metadata": {
        "id": "MMiwPAwKQ2eU"
      },
      "source": [
        "> Оберемо для моделі наступні пояснювальні змінні\n",
        "<ul>\n",
        "    <li>Horsepower</li>\n",
        "    <li>Curb-weight</li>\n",
        "    <li>Engine-size</li>\n",
        "    <li>Highway-mpg</li>\n",
        "</ul>\n"
      ]
    },
    {
      "cell_type": "code",
      "metadata": {
        "id": "Wx8IoNNva86d"
      },
      "source": [
        "Z = df[['horsepower', 'curb-weight', 'engine-size', 'highway-mpg']]"
      ],
      "execution_count": null,
      "outputs": []
    },
    {
      "cell_type": "markdown",
      "metadata": {
        "id": "1Dkjho0LPgK-"
      },
      "source": [
        "Побудуємо багатофакторну модель"
      ]
    },
    {
      "cell_type": "code",
      "metadata": {
        "id": "xqWaCipERPog"
      },
      "source": [
        "lm.fit(Z, df['price'])"
      ],
      "execution_count": null,
      "outputs": []
    },
    {
      "cell_type": "markdown",
      "metadata": {
        "id": "Z4DCho3CPvWz"
      },
      "source": [
        "Знайдемо коефіцієнт $a_0$"
      ]
    },
    {
      "cell_type": "code",
      "metadata": {
        "id": "OuokDEluL_iW"
      },
      "source": [
        "lm.intercept_"
      ],
      "execution_count": null,
      "outputs": []
    },
    {
      "cell_type": "markdown",
      "metadata": {
        "id": "-tTTWBB2Pxjn"
      },
      "source": [
        "Знайдемо коефіцієнти $a_1$, $a_2$, $a_3$, $a_4$"
      ]
    },
    {
      "cell_type": "code",
      "metadata": {
        "id": "mqBgpqErMBCD"
      },
      "source": [
        "lm.coef_"
      ],
      "execution_count": null,
      "outputs": []
    },
    {
      "cell_type": "markdown",
      "metadata": {
        "id": "tbWtFvwaMF19"
      },
      "source": [
        "> Модель багатофакторної регресії має вигляд\n",
        "$$\n",
        "\\hat y = a_0 + a_1 x_1 + a_2 x_2 + a_3 x_3 + a_4 x_4\n",
        "$$\n",
        "\n",
        "<b>Price</b> = -15806.62462632922 + 53.49574423 x <b>horsepower</b> + 4.70770099 x <b>curb-weight</b> + 81.53026382 x <b>engine-size</b> + 36.05748882 x <b>highway-mpg</b>"
      ]
    },
    {
      "cell_type": "markdown",
      "metadata": {
        "id": "eDNxDCjMQlde"
      },
      "source": [
        "Побудуємо кореляційну матрицю"
      ]
    },
    {
      "cell_type": "code",
      "metadata": {
        "id": "moYFoRsmMVEk"
      },
      "source": [
        "df[['horsepower', 'curb-weight', 'engine-size', 'highway-mpg','price']].corr()"
      ],
      "execution_count": null,
      "outputs": []
    },
    {
      "cell_type": "markdown",
      "metadata": {
        "id": "SxIijEO6Qqey"
      },
      "source": [
        "Знайдемо коефіцієнт детермінації"
      ]
    },
    {
      "cell_type": "code",
      "metadata": {
        "id": "LZ8eGijEO2Nt"
      },
      "source": [
        "r_sq = lm.score(Z, df['price'])\n",
        "print('coefficient of determination:', r_sq)"
      ],
      "execution_count": null,
      "outputs": []
    },
    {
      "cell_type": "markdown",
      "metadata": {
        "id": "FKP26h3tonDr"
      },
      "source": [
        "Знайдемо модельні значення цільової змінної"
      ]
    },
    {
      "cell_type": "code",
      "metadata": {
        "id": "BpDFhAPjl8jF"
      },
      "source": [
        "Y_predict_multifit = lm.predict(Z)"
      ],
      "execution_count": null,
      "outputs": []
    },
    {
      "cell_type": "markdown",
      "metadata": {
        "id": "v9aXd8CMo-vW"
      },
      "source": [
        "Знайдемо середньоквадратичну помилку"
      ]
    },
    {
      "cell_type": "code",
      "metadata": {
        "id": "uRWD_9Lzl95G"
      },
      "source": [
        "print('The mean square error of price and predicted value using multifit is: ', \\\n",
        "      mean_squared_error(df['price'], Y_predict_multifit))"
      ],
      "execution_count": null,
      "outputs": []
    },
    {
      "cell_type": "markdown",
      "metadata": {
        "id": "X1IEO1SMS6r2"
      },
      "source": [
        "##__Поліноміальна регресія__\n",
        "\n",
        "\n",
        "<center><img src=\"https://static.javatpoint.com/tutorial/machine-learning/images/machine-learning-polynomial-regression.png\" width=\"400\"></center>\n",
        "\n",
        "*Поліноміальна регресія* є однією з форм регресійного аналізу, в якому залежність між незалежною змінною $x$ і залежною змінною $y$ моделюється як поліном від $x$ ступеню $n$, де пояснювальні (незалежні) змінні, входять в модель, як поліноміального розширення «базових» змінних в певній степені, що дає можливість користуватися лінійним алгоритмом МНК але описувати \"нелінійність\" процесу.\n",
        "\n",
        "<center><b>Квадратичний поліном (другого порядку)</b></center>\n",
        "$$\n",
        "\\hat y = a_0 + a_1 x +a_2 x^2 \n",
        "$$\n",
        "\n",
        "<center><b>Кубічний поліном (третього порядку)</b></center>\n",
        "$$\n",
        "\\hat y = a_0 + a_1 x +a_2 x^2 +a_3 x^3\\\\\\\\\n",
        "$$\n",
        "\n",
        "<center><b>Поліноми вищого порядку</b>:</center>\n",
        "$$\n",
        "\\hat y= a_0 + a_1 x +a_2 x^2 +a_3 x^3 +a_4 x^4+ ...\\\\\\\\\n",
        "$$"
      ]
    },
    {
      "cell_type": "markdown",
      "metadata": {
        "id": "g_dc257wpFui"
      },
      "source": [
        "Імпортуємо функцію `PolynomialFeatures()` пакету `sklearn`"
      ]
    },
    {
      "cell_type": "code",
      "metadata": {
        "id": "eLipV5I3VkzV"
      },
      "source": [
        "from sklearn.preprocessing import PolynomialFeatures"
      ],
      "execution_count": null,
      "outputs": []
    },
    {
      "cell_type": "markdown",
      "metadata": {
        "id": "6hL1842gpbmy"
      },
      "source": [
        "Створимо новий масив змінних для поліноміальної моделі"
      ]
    },
    {
      "cell_type": "code",
      "metadata": {
        "id": "qUSuxiKoS7i1"
      },
      "source": [
        "X_poly = PolynomialFeatures(degree=3, include_bias=False).fit_transform(X)"
      ],
      "execution_count": null,
      "outputs": []
    },
    {
      "cell_type": "code",
      "metadata": {
        "id": "KIyfyPrupVvt"
      },
      "source": [
        "X_poly"
      ],
      "execution_count": null,
      "outputs": []
    },
    {
      "cell_type": "markdown",
      "metadata": {
        "id": "QTuYOG9Vprkl"
      },
      "source": [
        "Застосуємо МНК для нового поліноміального масиву даних"
      ]
    },
    {
      "cell_type": "code",
      "metadata": {
        "id": "wm-OZf2HV2Gt"
      },
      "source": [
        "polm = LinearRegression().fit(X_poly, Y)"
      ],
      "execution_count": null,
      "outputs": []
    },
    {
      "cell_type": "markdown",
      "metadata": {
        "id": "XQMhHO6Fpyn_"
      },
      "source": [
        "Знайдемо коефіцієнт детермінації та коефіцієнти моделі"
      ]
    },
    {
      "cell_type": "code",
      "metadata": {
        "id": "pL1NHQRzV8ZG"
      },
      "source": [
        "r_sq = polm.score(X_poly, Y)\n",
        "print('coefficient of determination:', r_sq)\n",
        "print('intercept:', polm.intercept_)\n",
        "print('coefficients:', polm.coef_)"
      ],
      "execution_count": null,
      "outputs": []
    },
    {
      "cell_type": "code",
      "metadata": {
        "id": "78izzPejkRyv"
      },
      "source": [
        "from sklearn.pipeline import make_pipeline"
      ],
      "execution_count": null,
      "outputs": []
    },
    {
      "cell_type": "markdown",
      "metadata": {
        "id": "K0bym_7ap9r4"
      },
      "source": [
        "Для коректної побудови графіків відсортуємо масиви даних за значеннями"
      ]
    },
    {
      "cell_type": "code",
      "metadata": {
        "id": "H4gYradtgHDq"
      },
      "source": [
        "inds = X.values.ravel().argsort()        # Сортуємо значення Х та створюємо відповідний список індексів\n",
        "x = X.values.ravel()[inds].reshape(-1,1) # створюємо список з Х відповідно до нового списку індексів\n",
        "y = Y.values[inds]                       # створюємо список з Y відповідно до нового списку індексів\n",
        "poly_model = make_pipeline(PolynomialFeatures(3),\n",
        "                       LinearRegression())\n",
        "poly_model.fit(x, y)\n",
        "\n",
        "yfit = poly_model.predict(x)\n",
        "plt.scatter(x, y,c='#ef5423', label='Scatter Plot')\n",
        "plt.plot(x, yfit)"
      ],
      "execution_count": null,
      "outputs": []
    },
    {
      "cell_type": "markdown",
      "metadata": {
        "id": "Y7_eKp_UquZ3"
      },
      "source": [
        "Знайдемо коефіцієнт детермінації за допомогою функції `r2_score` пакету `sklearn`"
      ]
    },
    {
      "cell_type": "code",
      "metadata": {
        "id": "ELhIh0LwmXqL"
      },
      "source": [
        "from sklearn.metrics import r2_score"
      ],
      "execution_count": null,
      "outputs": []
    },
    {
      "cell_type": "code",
      "metadata": {
        "id": "_NkrMd7JWv2K"
      },
      "source": [
        "r_squared = r2_score(y, yfit)\n",
        "print('The R-square value is: ', r_squared)"
      ],
      "execution_count": null,
      "outputs": []
    },
    {
      "cell_type": "markdown",
      "metadata": {
        "id": "9ngrmX9qrLaB"
      },
      "source": [
        "Знайдемо середньоквадратичну помилку"
      ]
    },
    {
      "cell_type": "code",
      "metadata": {
        "id": "zmKe7QeGmcm8"
      },
      "source": [
        "mean_squared_error(x, yfit)\n",
        "31635042.944639888\n"
      ],
      "execution_count": null,
      "outputs": []
    },
    {
      "cell_type": "markdown",
      "metadata": {
        "id": "U0xZilE1TFpg"
      },
      "source": [
        "##<center>__Самостійні завдання__</center>\n",
        "\n",
        "> Скопіювати блок самостійних завдань в окремий файл ***LastName_CP5.ipynb***\n",
        "\n",
        "> Інсталюйте необхідні пакети бібліотек Python"
      ]
    },
    {
      "cell_type": "markdown",
      "metadata": {
        "id": "n2DcwcrSULJA"
      },
      "source": [
        "### Завдання №1\n",
        "\n",
        "Завантажте дані з ресурсу\n",
        "\n",
        "URL = 'https://cf-courses-data.s3.us.cloud-object-storage.appdomain.cloud/IBMDeveloperSkillsNetwork-DA0101EN-SkillsNetwork/labs/Data%20files/automobileEDA.csv'"
      ]
    },
    {
      "cell_type": "code",
      "metadata": {
        "id": "U43QSaHHTFOL"
      },
      "source": [
        "# МІСЦЕ ДЛЯ КОДУ"
      ],
      "execution_count": null,
      "outputs": []
    },
    {
      "cell_type": "markdown",
      "metadata": {
        "id": "NNIV6q91UW2B"
      },
      "source": [
        "### Завдання №2\n",
        "Перевірте дані на пропущені значення, та при необхідності, поповніть їх \n"
      ]
    },
    {
      "cell_type": "code",
      "metadata": {
        "id": "pfweeG1YVU_h"
      },
      "source": [
        "# МІСЦЕ ДЛЯ КОДУ"
      ],
      "execution_count": null,
      "outputs": []
    },
    {
      "cell_type": "markdown",
      "metadata": {
        "id": "rW3cLbAdGDzu"
      },
      "source": [
        "### Завдання №3\n",
        "Побудуйте кореляційну матрицю для всього датафрейму, визначте найбільш суттєві змінні по кореляційному зв'язку\n"
      ]
    },
    {
      "cell_type": "code",
      "metadata": {
        "id": "XHfQOd_PGDzv"
      },
      "source": [
        "# МІСЦЕ ДЛЯ КОДУ"
      ],
      "execution_count": null,
      "outputs": []
    },
    {
      "cell_type": "markdown",
      "metadata": {
        "id": "VGQj_Wp2GGsD"
      },
      "source": [
        "### Завдання №4\n",
        "Оберіть дві змінні, відмінні від лекційного прикладу\n",
        "* побудуйте рівняння лінійної регресії\n",
        "* виведіть коефіцієнти регресії\n",
        "* знайдіть $R^2$ \n",
        "* знайдіть $MSE$\n",
        "* побудуйте графік з точковим розподілом та рівнянням лінії регресії\n",
        "* побудуйте графік залишків моделі\n",
        "* зробіть висновки по моделі, проаналізуйте графік залишків, як ви вважаєте чи присутня автокореляція в моделі"
      ]
    },
    {
      "cell_type": "code",
      "metadata": {
        "id": "xEY9EUZGGGsE"
      },
      "source": [
        "# МІСЦЕ ДЛЯ КОДУ"
      ],
      "execution_count": null,
      "outputs": []
    },
    {
      "cell_type": "markdown",
      "metadata": {
        "id": "8cuSFSmhHJUe"
      },
      "source": [
        "### Завдання №5\n",
        "Оберіть 5 змінних, відмінних від лекційного прикладу\n",
        "* побудуйте рівняння множинної лінійної регресії\n",
        "* виведіть коефіцієнти регресії\n",
        "* знайдіть $R^2$ \n",
        "* знайдіть $MSE$\n",
        "* зробіть висновки по моделі, як ви вважаєте чи присутня мультиколінеарність в моделі"
      ]
    },
    {
      "cell_type": "code",
      "metadata": {
        "id": "_ZcrrE_KGFtY"
      },
      "source": [
        "# МІСЦЕ ДЛЯ КОДУ"
      ],
      "execution_count": null,
      "outputs": []
    },
    {
      "cell_type": "markdown",
      "metadata": {
        "id": "oa80mYsIH3-o"
      },
      "source": [
        "### Завдання №6\n",
        "Оберіть дві змінних з завдання 4\n",
        "* побудуйте поліноміальну регресію порядку 2\n",
        "* побудуйте поліноміальну регресію порядку 3\n",
        "* побудуйте поліноміальну регресію порядку 4\n",
        "* знайдіть $R^2$ для всих моделей\n",
        "* знайдіть $MSE$ для всих моделей\n",
        "* побудуйте графік з точковим розподілом та поліноміальними функціями\n",
        "* зробіть висновки по моделям, враховуючи і лінійну регресію в завданні 4, оберіть найкращу на вашу думку модель."
      ]
    },
    {
      "cell_type": "code",
      "metadata": {
        "id": "FaJJGdRIHHIc"
      },
      "source": [
        "# МІСЦЕ ДЛЯ КОДУ"
      ],
      "execution_count": null,
      "outputs": []
    }
  ]
}