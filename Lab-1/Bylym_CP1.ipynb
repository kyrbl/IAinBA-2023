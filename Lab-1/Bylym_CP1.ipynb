{
  "nbformat": 4,
  "nbformat_minor": 0,
  "metadata": {
    "colab": {
      "provenance": []
    },
    "kernelspec": {
      "name": "python3",
      "display_name": "Python 3"
    },
    "language_info": {
      "name": "python"
    }
  },
  "cells": [
    {
      "cell_type": "markdown",
      "metadata": {
        "id": "z0vqDFdl7mZx"
      },
      "source": [
        "##<center>__Самостійні завдання__</center>\n",
        "\n",
        "> Скопіювати блок самостійних завдань в окремий файл ***LastName_CP1.ipynb***"
      ]
    },
    {
      "cell_type": "markdown",
      "metadata": {
        "id": "OflG6K-YVWbw"
      },
      "source": [
        "### Завдання №1\n",
        "\n",
        "1. Створити цілочисельну змінну `x`. \n",
        "2. Змінити тип даних змінної `x` на дійсний.\n",
        "3. Створити нову числову змінну `y`. \n",
        "4. Піднести змінну `x` до степеня `y` і зберегти результат як змінну `z`. (двома способами)\n",
        "5. Вивести значення змінної `z` та її тип."
      ]
    },
    {
      "cell_type": "code",
      "metadata": {
        "id": "2vu87JoBTOfH",
        "colab": {
          "base_uri": "https://localhost:8080/"
        },
        "outputId": "55dfada6-4fbc-4d11-8d00-b386e45bb0e5"
      },
      "source": [
        "x, y = 5, 2\n",
        "x = float(x)\n",
        "z_operator, z_function = x ** y, pow(x, y)\n",
        "print(f\"Z value with ** operator {z_operator} type {type(z_operator)}\\nZ value with pow() function {z_function} type {type(z_function)}\")"
      ],
      "execution_count": 1,
      "outputs": [
        {
          "output_type": "stream",
          "name": "stdout",
          "text": [
            "Z value with ** operator 25.0 type <class 'float'>\n",
            "Z value with pow() function 25.0 type <class 'float'>\n"
          ]
        }
      ]
    },
    {
      "cell_type": "markdown",
      "metadata": {
        "id": "LirTJrM7W-cg"
      },
      "source": [
        "### Завдання №2\n",
        "\n",
        "1. Вивести запис: **\"{X} в степені {Y} дорівнює {Z}.\"**, використовуючи рядковий запис де X, Y та Z значення змінних.\n",
        "2. Перетворіть рядок так, щоб можна було прочитати лише **\"X в степені\"**, с заду наперед.\n",
        "\n",
        "> Очікуваний результат:\n",
        "```python\n",
        "x = 2\n",
        "y = 3\n",
        "\"2 в степені 3 дорівнює 8.\"\n",
        "\"інепетс в 2\"\n",
        "```"
      ]
    },
    {
      "cell_type": "code",
      "metadata": {
        "id": "8R4pqDIyW96X",
        "colab": {
          "base_uri": "https://localhost:8080/"
        },
        "outputId": "e8a39dd0-b7db-4ef8-bad7-65e76e39e603"
      },
      "source": [
        "x, y = 10, 12\n",
        "output = f\"{x} в степені {y} дорівнює {x ** y}.\"\n",
        "print(output)\n",
        "print(output[len(str(x)) + 9::-1])"
      ],
      "execution_count": 2,
      "outputs": [
        {
          "output_type": "stream",
          "name": "stdout",
          "text": [
            "10 в степені 12 дорівнює 1000000000000.\n",
            "інепетс в 01\n"
          ]
        }
      ]
    },
    {
      "cell_type": "markdown",
      "metadata": {
        "id": "TnzAtVsKZkjc"
      },
      "source": [
        "### Завдання №3\n",
        "\n",
        "1. Створіть новий список `my_list`, який містить 5 кольорів.\n",
        "2. Перевірте чи є в вашому списку колір `\"бузковий\"`. Якщо немає, то додайте його використовуючи команду `append`.\n",
        "3. Змініть перший елемент списку на `\"рожевий\"`.\n",
        "4. Видаліть другий елемент списку та виведіть результат на екран."
      ]
    },
    {
      "cell_type": "code",
      "metadata": {
        "id": "royz-qkJZmQ8",
        "colab": {
          "base_uri": "https://localhost:8080/"
        },
        "outputId": "2f895aa2-fc17-48e0-c8e3-f1c3e5a98a20"
      },
      "source": [
        "my_list = [\"червоний\", \"чорний\", \"синій\", \"жовтий\", \"малиновий\"]\n",
        "if not \"бузковий\" in my_list:\n",
        "    my_list.append(\"бузковий\")\n",
        "my_list[0] = \"рожевий\"\n",
        "del(my_list[1])\n",
        "my_list"
      ],
      "execution_count": 3,
      "outputs": [
        {
          "output_type": "execute_result",
          "data": {
            "text/plain": [
              "['рожевий', 'синій', 'жовтий', 'малиновий', 'бузковий']"
            ]
          },
          "metadata": {},
          "execution_count": 3
        }
      ]
    },
    {
      "cell_type": "markdown",
      "metadata": {
        "id": "bjIBnKjHceq4"
      },
      "source": [
        "### Завдання №4\n",
        "\n",
        "1. Створіть словник з країнами та їх столицями (країна - ключ, столиця - значення): Німеччина, Франція, Україна, США, Румунія, Італія. Виведіть результа.\n",
        "2. Додайте столицю Бельгії.\n",
        "3. Виведіть лише столиці."
      ]
    },
    {
      "cell_type": "code",
      "metadata": {
        "id": "A9WZujmvd3pd",
        "colab": {
          "base_uri": "https://localhost:8080/"
        },
        "outputId": "f7705490-aee8-442c-ca0b-0ddcf494c99c"
      },
      "source": [
        "my_dict = {\"Німеччина\": \"Берлін\", \"Франція\": \"Париж\", \"Україна\": \"Київ\", \"США\": \"Вашингтон\", \"Румунія\": \"Бухарест\", \"Італія\": \"Рим\" }\n",
        "print(my_dict)\n",
        "my_dict[\"Бельгія\"] = \"Брюссель\"\n",
        "print(my_dict.values())"
      ],
      "execution_count": 4,
      "outputs": [
        {
          "output_type": "stream",
          "name": "stdout",
          "text": [
            "{'Німеччина': 'Берлін', 'Франція': 'Париж', 'Україна': 'Київ', 'США': 'Вашингтон', 'Румунія': 'Бухарест', 'Італія': 'Рим'}\n",
            "dict_values(['Берлін', 'Париж', 'Київ', 'Вашингтон', 'Бухарест', 'Рим', 'Брюссель'])\n"
          ]
        }
      ]
    },
    {
      "cell_type": "markdown",
      "metadata": {
        "id": "2QuFFg1KTP-t"
      },
      "source": [
        "### Завдання №5\n",
        "\n",
        "Виведіть значення списку_1, що не містяться в списку_2.\n",
        "\n",
        "> Очікуваний результат:\n",
        "```python\n",
        "[1,4,6,7]\n",
        "```"
      ]
    },
    {
      "cell_type": "code",
      "metadata": {
        "id": "spnHiR02TdSL",
        "colab": {
          "base_uri": "https://localhost:8080/"
        },
        "outputId": "c73c0a74-f751-4358-bc2f-a92893a6a0dc"
      },
      "source": [
        "list_1 = [1,2,3,4,5,6,7]\n",
        "list_2 = [2,5,3]\n",
        "\n",
        "output = [res for res in list_1 if not res in list_2]\n",
        "print(output)"
      ],
      "execution_count": 5,
      "outputs": [
        {
          "output_type": "stream",
          "name": "stdout",
          "text": [
            "[1, 4, 6, 7]\n"
          ]
        }
      ]
    },
    {
      "cell_type": "markdown",
      "metadata": {
        "id": "5uXdDpjET7eA"
      },
      "source": [
        "### Завдання №6\n",
        "\n",
        "порахуйте всі входження слова \"Наука\" в рядок, без урахування регістру\n",
        "\n",
        "> Очікуваний результат:\n",
        "```python\n",
        "3\n",
        "```"
      ]
    },
    {
      "cell_type": "code",
      "source": [
        "import re"
      ],
      "metadata": {
        "id": "czALuzIxaW7c"
      },
      "execution_count": 6,
      "outputs": []
    },
    {
      "cell_type": "code",
      "metadata": {
        "id": "-yLtDPyVTdrG",
        "colab": {
          "base_uri": "https://localhost:8080/"
        },
        "outputId": "fb6aab77-a769-4bdd-ac3b-a173ddd85ad0"
      },
      "source": [
        "string = \"Наука про дані – це наука про методи аналізу даних і вилучення\\\n",
        " з них цінної інформації та знань. Вона тісно пов’язана з такими галузями, \\\n",
        " як машинне навчання, наука про мислення, а також з технологіями для роботи \\\n",
        " з великими даними.\"\n",
        "\n",
        "# МІСЦЕ ДЛЯ КОДУ\n",
        "string.lower().count(\"наука\")"
      ],
      "execution_count": 7,
      "outputs": [
        {
          "output_type": "execute_result",
          "data": {
            "text/plain": [
              "3"
            ]
          },
          "metadata": {},
          "execution_count": 7
        }
      ]
    },
    {
      "cell_type": "markdown",
      "metadata": {
        "id": "lORkhbauVchI"
      },
      "source": [
        "### Завдання №7\n",
        "\n",
        "Видаліть повтори зі списку та створіть кортеж. Знайдіть мінімальне та максимальне значення."
      ]
    },
    {
      "cell_type": "code",
      "metadata": {
        "id": "57Gp1maMWDWh",
        "colab": {
          "base_uri": "https://localhost:8080/"
        },
        "outputId": "896a32a2-6365-494e-b672-162d68a3c128"
      },
      "source": [
        "my_list = [1, 4, 5, 10, 1, 3, 30, 100, 5]\n",
        "\n",
        "# МІСЦЕ ДЛЯ КОДУ\n",
        "my_tuple = tuple(set(my_list))\n",
        "print(f\"{my_tuple} - resulting tuple\\nMin value {min(my_tuple)}\\nMax value {max(my_tuple)}\")"
      ],
      "execution_count": 8,
      "outputs": [
        {
          "output_type": "stream",
          "name": "stdout",
          "text": [
            "(1, 3, 4, 5, 100, 10, 30) - resulting tuple\n",
            "Min value 1\n",
            "Max value 100\n"
          ]
        }
      ]
    },
    {
      "cell_type": "markdown",
      "metadata": {
        "id": "alRgo8HIWg14"
      },
      "source": [
        "### Завдання №8\n",
        "\n",
        "Дано дві множини  \n",
        "1. перевірити чи є перша множина підмножиною другої\n",
        "2. знайти об'єднання, перетин, різницю та симетричну різницю цих множин\n"
      ]
    },
    {
      "cell_type": "code",
      "metadata": {
        "id": "RxfbsbqsW8Up",
        "colab": {
          "base_uri": "https://localhost:8080/"
        },
        "outputId": "63808485-d3c7-46f6-fa4b-add7fd4ac117"
      },
      "source": [
        "set_1 = {57, 83, 29}\n",
        "set_2 = {67, 73, 43, 48, 83, 57, 29}\n",
        "\n",
        "# МІСЦЕ ДЛЯ КОДУ\n",
        "print(f\"Is set_1 subset of set_2 {set_1.issubset(set_2)}\\nUnion is {set_1.union(set_2)}\\nIntersection is {set_1.intersection(set_2)}\\nSymmentric difference is {set_1.symmetric_difference(set_2)}\")\n",
        "\n"
      ],
      "execution_count": 9,
      "outputs": [
        {
          "output_type": "stream",
          "name": "stdout",
          "text": [
            "Is set_1 subset of set_2 True\n",
            "Union is {67, 73, 43, 48, 83, 57, 29}\n",
            "Intersection is {57, 83, 29}\n",
            "Symmentric difference is {48, 67, 73, 43}\n"
          ]
        }
      ]
    },
    {
      "cell_type": "markdown",
      "metadata": {
        "id": "5HlthU73XbMO"
      },
      "source": [
        "### Завдання №9\n",
        "\n",
        "Дано рядок `string`, порахувати кількість входжень літер \"а\", \"д\" та \"н\" та створити словник з цих літер та кількістю їх входжень. Вивести пари ключ-значення на екран\n",
        "\n",
        "> Очікуваний результат:\n",
        "```python\n",
        "dict_items([('а', 24), ('д', 5), ('н', 25)])\n",
        "```"
      ]
    },
    {
      "cell_type": "code",
      "metadata": {
        "id": "fbzuRDZujnhF",
        "colab": {
          "base_uri": "https://localhost:8080/"
        },
        "outputId": "cb0b0268-4871-4e57-b13d-bf9e85c3c1da"
      },
      "source": [
        "string = \"Наука про дані – це наука про методи аналізу даних і вилучення\\\n",
        " з них цінної інформації та знань. Вона тісно пов’язана з такими галузями, \\\n",
        " як машинне навчання, наука про мислення, а також з технологіями для роботи \\\n",
        " з великими даними.\"\n",
        "\n",
        "# МІСЦЕ ДЛЯ КОДУ\n",
        "# Результат отриманий лише для маленьких літер\n",
        "res_dict = {'а': string.count('а'), 'д': string.count('д'), 'н': string.count('н')}\n",
        "res_dict"
      ],
      "execution_count": 10,
      "outputs": [
        {
          "output_type": "execute_result",
          "data": {
            "text/plain": [
              "{'а': 24, 'д': 5, 'н': 25}"
            ]
          },
          "metadata": {},
          "execution_count": 10
        }
      ]
    },
    {
      "cell_type": "markdown",
      "metadata": {
        "id": "frXoXi52twFQ"
      },
      "source": [
        "### Завдання №10\n",
        "\n",
        "Знайти суму всих елеменів словника\n",
        "\n",
        "> використайте функцію `map()`, яка використовується для застосування функції до кожного елементу итеруючого об'єкту (наприклад, списку чи словника) та повернення нового ітератора для отримання результів.\n",
        "\n",
        "> Функция `map()` имеет следующий синтаксис:\n",
        "```\n",
        "map(function, iterable, [iterable 2, iterable 3, ...])\n",
        "\n",
        "> Очікуваний результат\n",
        "```python\n",
        "390\n",
        "```"
      ]
    },
    {
      "cell_type": "code",
      "metadata": {
        "id": "JH7g50AbfVp-",
        "colab": {
          "base_uri": "https://localhost:8080/"
        },
        "outputId": "0ae30a2c-3b70-401b-96b6-777249dc0bf1"
      },
      "source": [
        "my_dict = {'a': [10, 20, 30, 40],\n",
        "           'b': [22, 11, 33, 44],\n",
        "           'c': [12, 34, 56, 78]}\n",
        "\n",
        "# МІСЦЕ ДЛЯ КОДУ\n",
        "print(sum(list(map(lambda input: sum(input), my_dict.values()))))"
      ],
      "execution_count": 11,
      "outputs": [
        {
          "output_type": "stream",
          "name": "stdout",
          "text": [
            "390\n"
          ]
        }
      ]
    },
    {
      "cell_type": "markdown",
      "metadata": {
        "id": "pvVHWUF4gSm8"
      },
      "source": [
        "### Завдання №11\n",
        "\n",
        "Знайдіть друге найменше та друге найбільше значення в списку та виведіть на екран такий запис:\n",
        "\n",
        "```python\n",
        "\"Друге найменше значення - 1 та друге найбільше значення - 398.\"\n",
        "```"
      ]
    },
    {
      "cell_type": "code",
      "metadata": {
        "id": "HFL0NALUf2RG",
        "colab": {
          "base_uri": "https://localhost:8080/"
        },
        "outputId": "28928a45-5394-4c58-e842-fe99f7a42494"
      },
      "source": [
        "my_list = [1,200, 34, 65, 499, 11, -4, 42, 398, 12, 3, 100]\n",
        "\n",
        "# МІСЦЕ ДЛЯ КОДУ\n",
        "new_list = list(set(my_list))\n",
        "new_list.sort()\n",
        "print(f\"Друге найменше значення - {new_list[1]} та друге найбільше значення - {new_list[-2]}.\")"
      ],
      "execution_count": 12,
      "outputs": [
        {
          "output_type": "stream",
          "name": "stdout",
          "text": [
            "Друге найменше значення - 1 та друге найбільше значення - 398.\n"
          ]
        }
      ]
    },
    {
      "cell_type": "markdown",
      "metadata": {
        "id": "yK8b3Mf0guPD"
      },
      "source": [
        "### Завдання №12\n",
        "\n",
        "Об'єднайте наступні словники в один.\n",
        "\n",
        "> Очікуваний результат:\n",
        "```python\n",
        "{1: 10, 2: 20, 3: 30, 4: 40, 5: 50, 6: 60}\n",
        "```"
      ]
    },
    {
      "cell_type": "code",
      "metadata": {
        "id": "NCTujRJdg6n_",
        "colab": {
          "base_uri": "https://localhost:8080/"
        },
        "outputId": "8ab83ac4-2823-4da6-c32e-f9efe4e9901c"
      },
      "source": [
        "dic1 = {1:10, 2:20}\n",
        "dic2 = {3:30, 4:40}\n",
        "dic3 = {5:50, 6:60}\n",
        "\n",
        "# МІСЦЕ ДЛЯ КОДУ\n",
        "dic1.update(dic2)\n",
        "dic1.update(dic3)\n",
        "print(dic1)"
      ],
      "execution_count": 13,
      "outputs": [
        {
          "output_type": "stream",
          "name": "stdout",
          "text": [
            "{1: 10, 2: 20, 3: 30, 4: 40, 5: 50, 6: 60}\n"
          ]
        }
      ]
    },
    {
      "cell_type": "markdown",
      "metadata": {
        "id": "32h8Qu3ShOVM"
      },
      "source": [
        "### Завдання №13\n",
        "Створіть словник з наступних списків. Використайте функцію`zip()`\n",
        "\n",
        ">Функція `zip(a, b)` створює об'єкт-ітератор, з якого при кожному обороті циклу створюється кортеж - впорядкована пара $(a_i, b_i)$ \n",
        "\n",
        ">Очікуваний результат:\n",
        "```python\n",
        "{'червоний': '#FF0000', 'зелений': '#008000', 'синій': '#0000FF'} \n",
        "```"
      ]
    },
    {
      "cell_type": "code",
      "metadata": {
        "id": "ZBbgGomchYa3",
        "colab": {
          "base_uri": "https://localhost:8080/"
        },
        "outputId": "b6e62e7d-7c06-47df-8799-721325d978f3"
      },
      "source": [
        "keys = ['червоний', 'зелений', 'синій']\n",
        "values = ['#FF0000','#008000', '#0000FF']\n",
        "\n",
        "# МІСЦЕ ДЛЯ КОДУ\n",
        "dict(zip(keys, values))"
      ],
      "execution_count": 14,
      "outputs": [
        {
          "output_type": "execute_result",
          "data": {
            "text/plain": [
              "{'червоний': '#FF0000', 'зелений': '#008000', 'синій': '#0000FF'}"
            ]
          },
          "metadata": {},
          "execution_count": 14
        }
      ]
    }
  ]
}