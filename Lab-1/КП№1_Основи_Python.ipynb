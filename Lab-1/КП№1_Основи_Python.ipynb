{
  "nbformat": 4,
  "nbformat_minor": 0,
  "metadata": {
    "colab": {
      "provenance": []
    },
    "kernelspec": {
      "name": "python3",
      "display_name": "Python 3"
    }
  },
  "cells": [
    {
      "cell_type": "markdown",
      "metadata": {
        "id": "4jLE0nxT_P19"
      },
      "source": [
        "\n",
        "<center><font size=\"6\"><b>Комп'ютерний практикум 1.\n",
        "\n",
        " Основи Python</b></font></center>\n",
        "\n",
        "\n",
        "***"
      ]
    },
    {
      "cell_type": "markdown",
      "metadata": {
        "id": "nb_WlwqB8hrg"
      },
      "source": [
        "> Для запуску коду в Python обираємо комбінацію <kbd>Ctrl</kbd> + <kbd>Enter</kbd> або натискаємо стрілку, що з'являється на квадратних дужках [ ]  \n",
        "\n",
        "> Для виводу результату використовується функція <code>print()</code>, аргумент якої записується в дужках. Якщо аргументів декілька, вони вказуються через кому."
      ]
    },
    {
      "cell_type": "markdown",
      "metadata": {
        "id": "97rJQSzw61Hk"
      },
      "source": [
        "Базові *типи даних* в Python є:\n",
        "\n",
        "\n",
        "| Тип | Приклад | функція в Python |\n",
        "|:-:|:-:|:-:|\n",
        "| Цілі числа (integers) | 1, 10, 42 | `int()`\n",
        "| Дійсні числа (floating-point numbers) | 1.0, 20.65, 12e5 | `float()`\n",
        "|Комплексні числа (complex numbers) | (4+8j) | `complex(re, im)`\n",
        "| Строковий (strings) | “Hello, Python!”, “Data Science” | `str()`\n",
        "| Логічний (Boolean) | True, False | `bool()`\n",
        "\n",
        "> Функція <code>type()</code> виводить тип даних"
      ]
    },
    {
      "cell_type": "markdown",
      "metadata": {
        "id": "Sq8Nkqkk7tdm"
      },
      "source": [
        "### <i> Наприклад </i>"
      ]
    },
    {
      "cell_type": "code",
      "metadata": {
        "id": "tgYEg7Pl7g7A",
        "colab": {
          "base_uri": "https://localhost:8080/"
        },
        "outputId": "6b7c1d2b-0745-400d-e055-35cac1a37c1c"
      },
      "source": [
        "x = 2\n",
        "print(x, type(x))\n",
        "\n",
        "x = 42.42\n",
        "print(x, type(x))\n",
        "\n",
        "x = complex(1,5)\n",
        "print(x, type(x))\n",
        "\n",
        "x = 'Hello, Python!'\n",
        "print(x, type(x))\n",
        "\n",
        "x = True\n",
        "print(x, type(x))"
      ],
      "execution_count": 62,
      "outputs": [
        {
          "output_type": "stream",
          "name": "stdout",
          "text": [
            "2 <class 'int'>\n",
            "42.42 <class 'float'>\n",
            "(1+5j) <class 'complex'>\n",
            "Hello, Python! <class 'str'>\n",
            "True <class 'bool'>\n"
          ]
        }
      ]
    },
    {
      "cell_type": "markdown",
      "metadata": {
        "id": "MHZ9JQ5w-RKf"
      },
      "source": [
        "> <code>sys</code> це модуль, який містить низку системних параметрів та функцій, включаючи поточну версію Python. Для використання цього модуля, його необхідно імпортувати, що забезпечує команда <code>import</code>."
      ]
    },
    {
      "cell_type": "code",
      "metadata": {
        "id": "8r6bYJSB-klj",
        "colab": {
          "base_uri": "https://localhost:8080/"
        },
        "outputId": "6b8235d9-7082-4591-d4be-c1998c23f502"
      },
      "source": [
        "# Перевіримо версію Python\n",
        "\n",
        "import sys\n",
        "print(sys.version)"
      ],
      "execution_count": 63,
      "outputs": [
        {
          "output_type": "stream",
          "name": "stdout",
          "text": [
            "3.8.10 (default, Nov 14 2022, 12:59:47) \n",
            "[GCC 9.4.0]\n"
          ]
        }
      ]
    },
    {
      "cell_type": "markdown",
      "metadata": {
        "id": "BU2tJIv8E2f-"
      },
      "source": [
        "### Алгебраїчні операції:\n",
        "\n",
        "| Operation | Note |\n",
        "|:-:|:-:|\n",
        "| x + y | сума  x та y |\n",
        "| x - y | різниця x та y |\n",
        "| x * y | добуток x та y |\n",
        "| x / y | частка x та y |\n",
        "| x // y | ділення без остачі x та y |\n",
        "| x % y | залишок від ділення x / y |\n",
        "| -x | протилежне до x  |\n",
        "| abs(x) | модуль x |\n",
        "| pow(x, y) | x в степені y |\n",
        "| x ** y | x в степені y |"
      ]
    },
    {
      "cell_type": "markdown",
      "metadata": {
        "id": "nDI9VURQGqW8"
      },
      "source": [
        "### <i> Наприклад </i>"
      ]
    },
    {
      "cell_type": "code",
      "metadata": {
        "id": "mUzyKlWFGK58",
        "colab": {
          "base_uri": "https://localhost:8080/"
        },
        "outputId": "e9c60435-d8b2-4906-e1bd-43f17d341103"
      },
      "source": [
        "-5**3"
      ],
      "execution_count": 64,
      "outputs": [
        {
          "output_type": "execute_result",
          "data": {
            "text/plain": [
              "-125"
            ]
          },
          "metadata": {},
          "execution_count": 64
        }
      ]
    },
    {
      "cell_type": "code",
      "metadata": {
        "id": "26FqJETCGVqO",
        "colab": {
          "base_uri": "https://localhost:8080/"
        },
        "outputId": "bfac340d-4c6b-4dec-df40-5d8a8b08abc9"
      },
      "source": [
        "x = 7\n",
        "y = 3\n",
        "print('залишок від {} / {} є {}'.format(x, y, x % y))\n",
        "\n",
        "x = 4\n",
        "y = 5\n",
        "print('{} в степені {} є {}'.format(x, y, pow(x, y)))"
      ],
      "execution_count": 65,
      "outputs": [
        {
          "output_type": "stream",
          "name": "stdout",
          "text": [
            "залишок від 7 / 3 є 1\n",
            "4 в степені 5 є 1024\n"
          ]
        }
      ]
    },
    {
      "cell_type": "markdown",
      "metadata": {
        "id": "IUwJrZIaG4Qg"
      },
      "source": [
        "### Логічні оператори та оператори порівняння:\n",
        "\n",
        "| Оператори | Пояснення |\n",
        "|:-:|:-:|\n",
        "| x or y | True, якщо хочаб одне значення True |\n",
        "| x and y | False, якщо хочаб одне значення False|\n",
        "| not x | True, якщо х False |\n",
        "|x > y| x більше за у|\n",
        "|x < y| х менше за у |\n",
        "|x >= y|х більше або рівне у|\n",
        "|x <= y|х менше або рівне у|\n",
        "|x == y|х рівне у|\n",
        "|x!= y|х не рівне у|\n",
        "|||\n"
      ]
    },
    {
      "cell_type": "markdown",
      "metadata": {
        "id": "gvkX8BGSdcl4"
      },
      "source": [
        "### <i> Наприклад </i>"
      ]
    },
    {
      "cell_type": "code",
      "metadata": {
        "id": "EnZkwpMidS4c",
        "colab": {
          "base_uri": "https://localhost:8080/"
        },
        "outputId": "2d93ce4d-4f9b-4ae9-8923-2e54c8e30e19"
      },
      "source": [
        "x, y = True, False\n",
        "print(not y)"
      ],
      "execution_count": 66,
      "outputs": [
        {
          "output_type": "stream",
          "name": "stdout",
          "text": [
            "True\n"
          ]
        }
      ]
    },
    {
      "cell_type": "code",
      "metadata": {
        "id": "1oxGe7nXdhH7",
        "colab": {
          "base_uri": "https://localhost:8080/"
        },
        "outputId": "f580eca4-7e2f-4bf9-dd04-062830880275"
      },
      "source": [
        "8 < 14"
      ],
      "execution_count": 67,
      "outputs": [
        {
          "output_type": "execute_result",
          "data": {
            "text/plain": [
              "True"
            ]
          },
          "metadata": {},
          "execution_count": 67
        }
      ]
    },
    {
      "cell_type": "code",
      "metadata": {
        "id": "lFIfXzxhdoJ2",
        "colab": {
          "base_uri": "https://localhost:8080/"
        },
        "outputId": "59df7125-616d-424c-c4c7-06a4491849c1"
      },
      "source": [
        "'man' is not 'woman'"
      ],
      "execution_count": 68,
      "outputs": [
        {
          "output_type": "stream",
          "name": "stderr",
          "text": [
            "<>:1: SyntaxWarning: \"is not\" with a literal. Did you mean \"!=\"?\n",
            "<>:1: SyntaxWarning: \"is not\" with a literal. Did you mean \"!=\"?\n",
            "<ipython-input-68-b148db5af8ee>:1: SyntaxWarning: \"is not\" with a literal. Did you mean \"!=\"?\n",
            "  'man' is not 'woman'\n"
          ]
        },
        {
          "output_type": "execute_result",
          "data": {
            "text/plain": [
              "True"
            ]
          },
          "metadata": {},
          "execution_count": 68
        }
      ]
    },
    {
      "cell_type": "code",
      "metadata": {
        "id": "qishRTVcdrF0",
        "colab": {
          "base_uri": "https://localhost:8080/"
        },
        "outputId": "d78ac823-35e7-4987-a147-2f4692fd386c"
      },
      "source": [
        "10 == 10"
      ],
      "execution_count": 69,
      "outputs": [
        {
          "output_type": "execute_result",
          "data": {
            "text/plain": [
              "True"
            ]
          },
          "metadata": {},
          "execution_count": 69
        }
      ]
    },
    {
      "cell_type": "markdown",
      "metadata": {
        "id": "FtCgnbuIeHoq"
      },
      "source": [
        "### Рядки (Strings) \n",
        "\n",
        "__Рядки__ - це послідовність символів в Unicode."
      ]
    },
    {
      "cell_type": "code",
      "metadata": {
        "id": "JWFqTAV8ef2p",
        "colab": {
          "base_uri": "https://localhost:8080/"
        },
        "outputId": "b3955c62-55f9-4275-f538-74df58d184c4"
      },
      "source": [
        "raw_string = \"Привіт!\"\n",
        "print(raw_string)"
      ],
      "execution_count": 70,
      "outputs": [
        {
          "output_type": "stream",
          "name": "stdout",
          "text": [
            "Привіт!\n"
          ]
        }
      ]
    },
    {
      "cell_type": "code",
      "metadata": {
        "id": "lezXGWboegp_",
        "colab": {
          "base_uri": "https://localhost:8080/"
        },
        "outputId": "7d7cdd51-6080-4856-b6be-7695d7f9c18e"
      },
      "source": [
        "print(\"Ти \" + \"можеш \" + \"додавати \" + \"рядки!\")\n",
        "print(\"та множити! \"*7)\n",
        "print(\"Довжина рядка 'Рядочок' = \" ,len(\"Рядочок\"))"
      ],
      "execution_count": 71,
      "outputs": [
        {
          "output_type": "stream",
          "name": "stdout",
          "text": [
            "Ти можеш додавати рядки!\n",
            "та множити! та множити! та множити! та множити! та множити! та множити! та множити! \n",
            "Довжина рядка 'Рядочок' =  7\n"
          ]
        }
      ]
    },
    {
      "cell_type": "markdown",
      "metadata": {
        "id": "H_gyEuJterjr"
      },
      "source": [
        "# Python дозволяє викликати частину тексту\n",
        "\n",
        "```python\n",
        "string[start:end:step]\n",
        "```\n",
        "\n",
        "* `start` - індекс, де ти хочешь почати виклик (включно)\n",
        "* `end` - індекс, де ти хочеш закінчити виклик (не включно)\n",
        "* `step` - крок включення (наприклад, кожне друге значення)"
      ]
    },
    {
      "cell_type": "code",
      "metadata": {
        "id": "o2LH8mVde8DO",
        "colab": {
          "base_uri": "https://localhost:8080/"
        },
        "outputId": "a6904e6d-c3ba-4fb8-ff4e-4ee82835a29e"
      },
      "source": [
        "my_string = \"Методи інтелектуального аналізу економічних даних\"\n",
        "\n",
        "print(my_string[0:23])\n",
        "print(my_string[:6])\n",
        "print(my_string[::2])\n",
        "print(my_string[::-1])"
      ],
      "execution_count": 72,
      "outputs": [
        {
          "output_type": "stream",
          "name": "stdout",
          "text": [
            "Методи інтелектуального\n",
            "Методи\n",
            "Мтд неетаьооааіуеооінхднх\n",
            "хинад хинчімоноке узілана огоньлауткелетні идотеМ\n"
          ]
        }
      ]
    },
    {
      "cell_type": "markdown",
      "metadata": {
        "id": "HnCsHqgyewO0"
      },
      "source": [
        "> Можна перевірити чи входять одні строкові дані в інші оператором `in`. "
      ]
    },
    {
      "cell_type": "code",
      "metadata": {
        "id": "Q5ghMWqueggC",
        "colab": {
          "base_uri": "https://localhost:8080/"
        },
        "outputId": "a0d0cbc4-f727-453b-ced3-589fb9a88b0c"
      },
      "source": [
        "print('Методи' not in my_string)\n",
        "print('дані' in my_string)"
      ],
      "execution_count": 73,
      "outputs": [
        {
          "output_type": "stream",
          "name": "stdout",
          "text": [
            "False\n",
            "False\n"
          ]
        }
      ]
    },
    {
      "cell_type": "code",
      "metadata": {
        "id": "yoUNxCmffRam"
      },
      "source": [
        "s = 'Великі дані'\n"
      ],
      "execution_count": 74,
      "outputs": []
    },
    {
      "cell_type": "markdown",
      "metadata": {
        "id": "viK6NEOtBPGV"
      },
      "source": [
        "### Базові методи роботи з рядками\n",
        "\n",
        "* `s.lower()`  повертає рядок в нижньому регістрі 'великі дані'\n",
        "\n",
        "* `s.upper()` повертає рядок у верхньому регістрі 'ВЕЛИКІ ДАНІ'\n",
        "\n",
        "* `s.startswith('Великі')` повертає True, якщо рядок починається з вказаного фрагменту\n",
        "\n",
        "* `s.endswith('дані')` повертає True, якщо рядок закінчується вказаним фрагментом\n",
        "\n",
        "* `s.isdigit()` повертає True якщо кожна позиція в рядку цифрова (False)\n",
        "\n",
        "* `s.find('дані')` повертає індекс першого входження (7)\n",
        "\n",
        "* `s.find('масив')` повертає -1 якщо не знаходить\n",
        "\n",
        "* `s.replace('Великі','Малі')` заміняє всі входження першого фрагменту на другий ('Великі' на 'малі')\n",
        "* `s.count('s1')` рахує кількість входжень фрагменту `s1` в рядок `s`"
      ]
    },
    {
      "cell_type": "code",
      "metadata": {
        "id": "_mEQrp6zfVh-",
        "colab": {
          "base_uri": "https://localhost:8080/",
          "height": 35
        },
        "outputId": "1dfc1fa3-0bae-424c-ed19-3c6bc6b130af"
      },
      "source": [
        "s.replace('Великі','Малі')"
      ],
      "execution_count": 75,
      "outputs": [
        {
          "output_type": "execute_result",
          "data": {
            "text/plain": [
              "'Малі дані'"
            ],
            "application/vnd.google.colaboratory.intrinsic+json": {
              "type": "string"
            }
          },
          "metadata": {},
          "execution_count": 75
        }
      ]
    },
    {
      "cell_type": "markdown",
      "metadata": {
        "id": "bAz5ALWHfcBW"
      },
      "source": [
        "#### Форматування рядків"
      ]
    },
    {
      "cell_type": "code",
      "metadata": {
        "id": "bCkp0Xajfbo-",
        "colab": {
          "base_uri": "https://localhost:8080/"
        },
        "outputId": "bf58d155-6b55-4f2e-8a23-111814d95619"
      },
      "source": [
        "# Варіант №1\n",
        "my_string = \"Привіт, Моє ім'я {}. Я з університету {}.\".format('Маша', 'КПІ')\n",
        "print(my_string)\n",
        "\n",
        "# Варіант №2\n",
        "my_string = \"Привіт, Моє ім'я {name}. Я з університету {univer}.\".format(univer='КНУ', name='Аня')\n",
        "print(my_string)\n",
        "\n",
        "# Варіант №3: f-strings (for python >= 3.6)\n",
        "name = 'Вітя'\n",
        "univer = 'НаУКМА'\n",
        "my_string = f\"Привіт, Моє ім'я {name}. Я з університету {univer}.\"\n",
        "print(my_string)"
      ],
      "execution_count": 76,
      "outputs": [
        {
          "output_type": "stream",
          "name": "stdout",
          "text": [
            "Привіт, Моє ім'я Маша. Я з університету КПІ.\n",
            "Привіт, Моє ім'я Аня. Я з університету КНУ.\n",
            "Привіт, Моє ім'я Вітя. Я з університету НаУКМА.\n"
          ]
        }
      ]
    },
    {
      "cell_type": "markdown",
      "metadata": {
        "id": "X83fTbkRf003"
      },
      "source": [
        "### Списки (Lists)\n",
        "\n",
        "__Список__ - це впорядкований набір, який можна змінювати, в ньому можлива наявність повторних значень\n",
        "\n",
        "<img src=\"https://cf-courses-data.s3.us.cloud-object-storage.appdomain.cloud/IBMDeveloperSkillsNetwork-PY0101EN-SkillsNetwork/labs/Module%202/images/ListsIndex.png\" width=\"500\" />\n",
        "\n",
        "> Створюється список переліком елементів в квадратних дужках `[ ]` через кому.\n",
        "\n",
        "> Список може містити елементи різних типів."
      ]
    },
    {
      "cell_type": "code",
      "metadata": {
        "id": "f_al0DMqf14M",
        "colab": {
          "base_uri": "https://localhost:8080/"
        },
        "outputId": "870d85b2-4dac-40a3-8d61-ede3a1e96c18"
      },
      "source": [
        "# lists\n",
        "my_list = [1, 2, 3, 4, 5, 6, 7]\n",
        "print(my_list, type(my_list))\n",
        "\n",
        "# вивести останній елемент списку (перший з кінця)\n",
        "print(my_list[-1])\n",
        "\n",
        "# надрукувати список в зворотньому порядку\n",
        "print(my_list[::-1])\n",
        "\n",
        "# видалення другого з кінця елемента списку\n",
        "del my_list[-5]\n",
        "print(my_list)\n",
        "\n",
        "# заміна першого елементу списку на 100\n",
        "my_list[0] = 100\n",
        "\n",
        "# вивід відсортованого списку\n",
        "print(sorted(my_list))"
      ],
      "execution_count": 77,
      "outputs": [
        {
          "output_type": "stream",
          "name": "stdout",
          "text": [
            "[1, 2, 3, 4, 5, 6, 7] <class 'list'>\n",
            "7\n",
            "[7, 6, 5, 4, 3, 2, 1]\n",
            "[1, 2, 4, 5, 6, 7]\n",
            "[2, 4, 5, 6, 7, 100]\n"
          ]
        }
      ]
    },
    {
      "cell_type": "code",
      "metadata": {
        "id": "LaatSzK0f_49",
        "colab": {
          "base_uri": "https://localhost:8080/"
        },
        "outputId": "35c9561d-ded1-4e83-8f73-ae732ad06cfb"
      },
      "source": [
        "# вивести довжину списку\n",
        "print(len(my_list))\n",
        "\n",
        "# вивести мінімальний елемент списку\n",
        "print(min(my_list))\n",
        "\n",
        "# вивести максимальний елемент списку\n",
        "print(max(my_list))\n",
        "\n",
        "# вивести суму всих елементів списку\n",
        "print(sum(my_list))"
      ],
      "execution_count": 78,
      "outputs": [
        {
          "output_type": "stream",
          "name": "stdout",
          "text": [
            "6\n",
            "2\n",
            "100\n",
            "124\n"
          ]
        }
      ]
    },
    {
      "cell_type": "code",
      "metadata": {
        "id": "I5WO899kGwII",
        "colab": {
          "base_uri": "https://localhost:8080/"
        },
        "outputId": "b0845ba8-fc8c-4a34-b2ae-4b5a81f0350f"
      },
      "source": [
        "# створюємо список\n",
        "universities = ['KPI', 'KNU', 'NAU']\n",
        "universities"
      ],
      "execution_count": 79,
      "outputs": [
        {
          "output_type": "execute_result",
          "data": {
            "text/plain": [
              "['KPI', 'KNU', 'NAU']"
            ]
          },
          "metadata": {},
          "execution_count": 79
        }
      ]
    },
    {
      "cell_type": "markdown",
      "metadata": {
        "id": "cFtJWJwgq263"
      },
      "source": [
        "###Деякі команди для модифікації списку"
      ]
    },
    {
      "cell_type": "code",
      "metadata": {
        "id": "KjBlmk0uga0E",
        "colab": {
          "base_uri": "https://localhost:8080/"
        },
        "outputId": "521f38a2-100f-43d0-8769-ffc29f6c10a3"
      },
      "source": [
        "#додавання елементу в список (останнім)\n",
        "universities.append('KNUCA')\n",
        "print(universities) \n",
        "\n",
        "#додавання декількох елементів в список (останніми)\n",
        "universities.extend(['KNEU', 'UKMA']) \n",
        "print(universities)\n",
        "\n",
        "#додавання елементу в список в певне місце за індексом (наприклад, першим - з індексом 0)\n",
        "universities.insert(0, 'KNUTE') \n",
        "print(universities)\n",
        "\n",
        "#видалення елементу за першим входженням\n",
        "universities.remove('UKMA') \n",
        "print(universities)\n",
        "\n",
        "#видалення елементу за індексом\n",
        "universities.pop(0) \n",
        "print(universities)\n",
        "\n",
        "#кількість входжень елемнту в список\n",
        "print(universities.count('KNEU'))\n",
        "\n",
        "#повертає індекс першого входження\n",
        "print(universities.index('KNEU')) # returns index of first instance"
      ],
      "execution_count": 80,
      "outputs": [
        {
          "output_type": "stream",
          "name": "stdout",
          "text": [
            "['KPI', 'KNU', 'NAU', 'KNUCA']\n",
            "['KPI', 'KNU', 'NAU', 'KNUCA', 'KNEU', 'UKMA']\n",
            "['KNUTE', 'KPI', 'KNU', 'NAU', 'KNUCA', 'KNEU', 'UKMA']\n",
            "['KNUTE', 'KPI', 'KNU', 'NAU', 'KNUCA', 'KNEU']\n",
            "['KPI', 'KNU', 'NAU', 'KNUCA', 'KNEU']\n",
            "1\n",
            "4\n"
          ]
        }
      ]
    },
    {
      "cell_type": "markdown",
      "metadata": {
        "id": "fpvSDuegg2oX"
      },
      "source": [
        "### Кортежі (Tuples)\n",
        "\n",
        "__Кортежі__ - впорядковані незміні списки, в яких можливі повтори елементів."
      ]
    },
    {
      "cell_type": "code",
      "metadata": {
        "id": "HtiM5Ml0gkbo",
        "colab": {
          "base_uri": "https://localhost:8080/"
        },
        "outputId": "1637cc48-a32f-4a89-8f29-91c1986f1f3d"
      },
      "source": [
        "# tuples\n",
        "my_tuple = (\"KPI\", \"KNU\", \"KNEU\")\n",
        "print(my_tuple, type(my_tuple))"
      ],
      "execution_count": 81,
      "outputs": [
        {
          "output_type": "stream",
          "name": "stdout",
          "text": [
            "('KPI', 'KNU', 'KNEU') <class 'tuple'>\n"
          ]
        }
      ]
    },
    {
      "cell_type": "markdown",
      "metadata": {
        "id": "ieO5dh1AkC1I"
      },
      "source": [
        "***Увага!***\n",
        "\n",
        ">Не можна змінювати елементи кортежу"
      ]
    },
    {
      "cell_type": "code",
      "metadata": {
        "id": "T1oYjoBGkCZt",
        "colab": {
          "base_uri": "https://localhost:8080/",
          "height": 165
        },
        "outputId": "cc412fd7-77e0-478b-bc62-bc2a6c2b64d5"
      },
      "source": [
        "my_tuple[0] = \"KNTU\""
      ],
      "execution_count": 83,
      "outputs": [
        {
          "output_type": "error",
          "ename": "TypeError",
          "evalue": "ignored",
          "traceback": [
            "\u001b[0;31m---------------------------------------------------------------------------\u001b[0m",
            "\u001b[0;31mTypeError\u001b[0m                                 Traceback (most recent call last)",
            "\u001b[0;32m<ipython-input-83-d6f3bb19ac05>\u001b[0m in \u001b[0;36m<module>\u001b[0;34m\u001b[0m\n\u001b[0;32m----> 1\u001b[0;31m \u001b[0mmy_tuple\u001b[0m\u001b[0;34m[\u001b[0m\u001b[0;36m0\u001b[0m\u001b[0;34m]\u001b[0m \u001b[0;34m=\u001b[0m \u001b[0;34m\"KNTU\"\u001b[0m\u001b[0;34m\u001b[0m\u001b[0;34m\u001b[0m\u001b[0m\n\u001b[0m",
            "\u001b[0;31mTypeError\u001b[0m: 'tuple' object does not support item assignment"
          ]
        }
      ]
    },
    {
      "cell_type": "markdown",
      "metadata": {
        "id": "qpbYv-oKhAjB"
      },
      "source": [
        "### Множини (Sets)\n",
        "\n",
        "__Множина__ - це набір невпорядкованих елементів, в якому не допускається повторювань.\n"
      ]
    },
    {
      "cell_type": "code",
      "metadata": {
        "id": "3BRP20wKg4eC",
        "colab": {
          "base_uri": "https://localhost:8080/"
        },
        "outputId": "f0e83d59-f3f7-460e-aef6-fea93029a821"
      },
      "source": [
        "# створюємо множину (set)\n",
        "my_set = {\"KPI\", \"KNU\", \"KNEU\"}\n",
        "print(my_set, type(my_set))\n",
        "\n",
        "#перевіряємо чи входить елемент в список\n",
        "print('KPI' in my_set)"
      ],
      "execution_count": 84,
      "outputs": [
        {
          "output_type": "stream",
          "name": "stdout",
          "text": [
            "{'KNEU', 'KNU', 'KPI'} <class 'set'>\n",
            "True\n"
          ]
        }
      ]
    },
    {
      "cell_type": "code",
      "metadata": {
        "id": "2kVHwExZhFJT",
        "colab": {
          "base_uri": "https://localhost:8080/"
        },
        "outputId": "a889523e-e90f-4feb-c59e-aa3ba13833ff"
      },
      "source": [
        "#додаємо елемент в список\n",
        "my_set.add(\"KNTU\")\n",
        "my_set"
      ],
      "execution_count": 85,
      "outputs": [
        {
          "output_type": "execute_result",
          "data": {
            "text/plain": [
              "{'KNEU', 'KNTU', 'KNU', 'KPI'}"
            ]
          },
          "metadata": {},
          "execution_count": 85
        }
      ]
    },
    {
      "cell_type": "markdown",
      "metadata": {
        "id": "56e4z2Q3q3R5"
      },
      "source": [
        "###Створюємо множину\n",
        "<img src=\"https://s3-api.us-geo.objectstorage.softlayer.net/cf-courses-data/CognitiveClass/PY0101EN/Chapter%202/Images/SetsUnique.png\" width=\"500\" />\n",
        "\n",
        "> якщо є дублікати елементів при створенні множини, в множину елемент буде входити лише один раз"
      ]
    },
    {
      "cell_type": "code",
      "metadata": {
        "id": "Ixun1OREhJNM"
      },
      "source": [
        "# створюємо списки\n",
        "languages = {'python', 'r', 'java'}"
      ],
      "execution_count": 86,
      "outputs": []
    },
    {
      "cell_type": "markdown",
      "metadata": {
        "id": "TwJ_fUpMr3as"
      },
      "source": [
        "> створюємо множину за допомогою команди `set` зі списку\n"
      ]
    },
    {
      "cell_type": "code",
      "metadata": {
        "id": "Q-guosZhr4JR"
      },
      "source": [
        "snakes = set(['cobra', 'viper', 'python', 'python'])"
      ],
      "execution_count": 87,
      "outputs": []
    },
    {
      "cell_type": "code",
      "metadata": {
        "id": "K8JNJQgShNNh",
        "colab": {
          "base_uri": "https://localhost:8080/"
        },
        "outputId": "6341647e-bee5-4e71-83bc-899aa8b5252d"
      },
      "source": [
        "snakes"
      ],
      "execution_count": 88,
      "outputs": [
        {
          "output_type": "execute_result",
          "data": {
            "text/plain": [
              "{'cobra', 'python', 'viper'}"
            ]
          },
          "metadata": {},
          "execution_count": 88
        }
      ]
    },
    {
      "cell_type": "markdown",
      "metadata": {
        "id": "oImx_nBrgCQu"
      },
      "source": [
        "### Операції з множинами\n",
        "\n",
        "\n",
        "*   `len(set)` - кількість елементів в множині (розмірнісь множини).\n",
        "\n",
        "* `element in set` - True, якщо `element` належить множині `set`.\n",
        "* `set1.isdisjoint(set2)` - True, якщо `set1` та `set2` не мають спільних елементів\n",
        "* `set1 == set2` - рівність множин `set1` та `set2`.\n",
        "* `set1.issubset(set2)` або `set1 <= set2` - всі елементи `set1` належать `set2`.\n",
        "* `set1.issuperset(set2)` або `set1 >= set2` - аналогічно.\n",
        "* `set1.union(set2, ...)` або `set1 | set2 | ...` - об'єднання множин.\n",
        "* `set1.intersection(set2, ...)` або `set1 & set2 & ...` - перетин множин.\n",
        "* `set1.difference(ser2, ...)` або `set1 - set2 - ...` - множина зі всих елементів `set1`, які не належать жодному з `set_і ...`.\n",
        "* `set1.symmetric_difference(set2)`; `set1 ^ set2 `- множина з елементів, які зустрічаються в одній множині, проте не містяться в обох одночасно.\n",
        "* `set.copy()` - копія множини `set`. "
      ]
    },
    {
      "cell_type": "markdown",
      "metadata": {
        "id": "V1vzBIwPvzre"
      },
      "source": [
        "### <i> Наприклад </i>"
      ]
    },
    {
      "cell_type": "code",
      "metadata": {
        "id": "_ON-1j-Avqaj",
        "colab": {
          "base_uri": "https://localhost:8080/"
        },
        "outputId": "7e7a63b7-b167-4e71-afec-577e17d5feb6"
      },
      "source": [
        "len(languages)"
      ],
      "execution_count": 89,
      "outputs": [
        {
          "output_type": "execute_result",
          "data": {
            "text/plain": [
              "3"
            ]
          },
          "metadata": {},
          "execution_count": 89
        }
      ]
    },
    {
      "cell_type": "code",
      "metadata": {
        "id": "JGeh534fv_0k",
        "colab": {
          "base_uri": "https://localhost:8080/"
        },
        "outputId": "7a59640e-c7f8-4e76-f858-47a699e311de"
      },
      "source": [
        "languages.isdisjoint(snakes)"
      ],
      "execution_count": 90,
      "outputs": [
        {
          "output_type": "execute_result",
          "data": {
            "text/plain": [
              "False"
            ]
          },
          "metadata": {},
          "execution_count": 90
        }
      ]
    },
    {
      "cell_type": "code",
      "metadata": {
        "id": "efM_qPiIwVNP",
        "colab": {
          "base_uri": "https://localhost:8080/"
        },
        "outputId": "8078927c-07d0-4f44-9b54-4a4bc227d11b"
      },
      "source": [
        "SET = languages.union(snakes)\n",
        "print(SET)"
      ],
      "execution_count": 91,
      "outputs": [
        {
          "output_type": "stream",
          "name": "stdout",
          "text": [
            "{'java', 'r', 'python', 'cobra', 'viper'}\n"
          ]
        }
      ]
    },
    {
      "cell_type": "code",
      "metadata": {
        "id": "iUKHHHPmwhXM",
        "colab": {
          "base_uri": "https://localhost:8080/"
        },
        "outputId": "8cc01ad8-3237-42a9-f7a7-0e38480ba01a"
      },
      "source": [
        "SET = languages.intersection(snakes)\n",
        "print(SET)"
      ],
      "execution_count": 92,
      "outputs": [
        {
          "output_type": "stream",
          "name": "stdout",
          "text": [
            "{'python'}\n"
          ]
        }
      ]
    },
    {
      "cell_type": "code",
      "metadata": {
        "id": "ToxsTTqdws6B",
        "colab": {
          "base_uri": "https://localhost:8080/"
        },
        "outputId": "76524184-9cfd-4bec-a5f6-80f4976f6702"
      },
      "source": [
        "SET1 = languages.difference(snakes)\n",
        "print(SET1)\n",
        "\n",
        "SET2 = snakes - languages\n",
        "print(SET2) "
      ],
      "execution_count": 93,
      "outputs": [
        {
          "output_type": "stream",
          "name": "stdout",
          "text": [
            "{'java', 'r'}\n",
            "{'cobra', 'viper'}\n"
          ]
        }
      ]
    },
    {
      "cell_type": "code",
      "metadata": {
        "id": "kwsfm6c1xQ7I",
        "colab": {
          "base_uri": "https://localhost:8080/"
        },
        "outputId": "af54bb38-dea9-4053-f2fb-6a0ffdcd88f1"
      },
      "source": [
        "SET = languages ^ snakes\n",
        "print(SET)"
      ],
      "execution_count": 94,
      "outputs": [
        {
          "output_type": "stream",
          "name": "stdout",
          "text": [
            "{'r', 'cobra', 'viper', 'java'}\n"
          ]
        }
      ]
    },
    {
      "cell_type": "markdown",
      "metadata": {
        "id": "IwRISPPS17_-"
      },
      "source": [
        "### Словники (Dictionaries)\n",
        "\n",
        "__Словники__ - це невпорядковані набори довільних об'єктів різного типу, доступ до яких відбувається не за індексом, а за унікальним ключем, який також може бути різного типу даних.\n",
        "\n",
        "> створювати словники можна різними способами, але обов'язкова прив'язка до ключа `key:value`\n",
        "\n",
        "<img src=\"https://cf-courses-data.s3.us.cloud-object-storage.appdomain.cloud/IBMDeveloperSkillsNetwork-PY0101EN-SkillsNetwork/labs/Module%202/images/DictsList.png\" width=\"500\" />"
      ]
    },
    {
      "cell_type": "code",
      "metadata": {
        "id": "JvTEFyIHK9Fu",
        "colab": {
          "base_uri": "https://localhost:8080/"
        },
        "outputId": "c0de7887-c8bb-4dc7-a611-0ad866840951"
      },
      "source": [
        "# створення словника (dictionaries)\n",
        "my_dict = {\n",
        "    'name': 'Masha',\n",
        "    'university': 'KPI',\n",
        "    'age': 19\n",
        "}\n",
        "print(my_dict, type(my_dict))\n",
        "print(my_dict['name'])\n",
        "\n",
        "my_dict2=dict(name = 'Max', university = 'KNU', age = '21')\n",
        "print(my_dict2)"
      ],
      "execution_count": 95,
      "outputs": [
        {
          "output_type": "stream",
          "name": "stdout",
          "text": [
            "{'name': 'Masha', 'university': 'KPI', 'age': 19} <class 'dict'>\n",
            "Masha\n",
            "{'name': 'Max', 'university': 'KNU', 'age': '21'}\n"
          ]
        }
      ]
    },
    {
      "cell_type": "markdown",
      "metadata": {
        "id": "ql53JvxG0jYe"
      },
      "source": [
        "###Функції словника\n",
        "* `dict.clear()` - очищає словник.\n",
        "\n",
        "* `dict.copy()` - повертає копію словника.\n",
        "\n",
        "* `classmethod dict.fromkeys(seq[, value])` - створює  словник з ключами з `seq` та значеннями `value` (по замовчуванню `None`).\n",
        "\n",
        "* `dict.get(key[, default])` - повертає значення ключа, якщо відсутній, то повертає `default` (по замовчуванню `None`).\n",
        "\n",
        "* `dict.items()` - повертає пари (ключ, значення).\n",
        "\n",
        "* `dict.keys()` - повертає ключі в словнику.\n",
        "\n",
        "* `dict.pop(key[, default])` - видаляє ключ і повертає значення. Якщо ключа немає, повертає `default`.\n",
        "\n",
        "* `dict.popitem()` - видаляє та повертає пару (ключ, значення). Якщо словник пустий, виводить `KeyError`. \n",
        "\n",
        "* `dict.update([other])` - оновлює словник, додає пари (ключ, значення) з `other`. Існуючі ключі перезаписуються. Повертає `None` (не новий словник!)\n",
        "\n",
        "* `dict.values()` - повертає значення словника."
      ]
    },
    {
      "cell_type": "code",
      "metadata": {
        "id": "TILcyXXQLiy7",
        "colab": {
          "base_uri": "https://localhost:8080/",
          "height": 165
        },
        "outputId": "080c8596-2f4c-4dc6-a169-df521df00e18"
      },
      "source": [
        "print(my_dict['last_name']) #намагаємось знайти рядок з прізвищем,"
      ],
      "execution_count": 96,
      "outputs": [
        {
          "output_type": "error",
          "ename": "KeyError",
          "evalue": "ignored",
          "traceback": [
            "\u001b[0;31m---------------------------------------------------------------------------\u001b[0m",
            "\u001b[0;31mKeyError\u001b[0m                                  Traceback (most recent call last)",
            "\u001b[0;32m<ipython-input-96-88d0939acb4d>\u001b[0m in \u001b[0;36m<module>\u001b[0;34m\u001b[0m\n\u001b[0;32m----> 1\u001b[0;31m \u001b[0mprint\u001b[0m\u001b[0;34m(\u001b[0m\u001b[0mmy_dict\u001b[0m\u001b[0;34m[\u001b[0m\u001b[0;34m'last_name'\u001b[0m\u001b[0;34m]\u001b[0m\u001b[0;34m)\u001b[0m \u001b[0;31m#намагаємось знайти рядок з прізвищем,\u001b[0m\u001b[0;34m\u001b[0m\u001b[0;34m\u001b[0m\u001b[0m\n\u001b[0m",
            "\u001b[0;31mKeyError\u001b[0m: 'last_name'"
          ]
        }
      ]
    },
    {
      "cell_type": "code",
      "metadata": {
        "id": "x5Ijpq5NLqQ2",
        "colab": {
          "base_uri": "https://localhost:8080/"
        },
        "outputId": "6b675802-c6b9-4b9b-bf9c-39be74fdcbbf"
      },
      "source": [
        "my_dict['last_name'] = 'Ivanenko' #додаємо новий рядок в словник\n",
        "del my_dict['age'] #видаляємо вік зі словника\n",
        "print(my_dict)"
      ],
      "execution_count": 97,
      "outputs": [
        {
          "output_type": "stream",
          "name": "stdout",
          "text": [
            "{'name': 'Masha', 'university': 'KPI', 'last_name': 'Ivanenko'}\n"
          ]
        }
      ]
    },
    {
      "cell_type": "code",
      "metadata": {
        "id": "8gjICeDTIivL",
        "colab": {
          "base_uri": "https://localhost:8080/"
        },
        "outputId": "fc95fa99-21f9-4dff-9b14-b2c0a119a291"
      },
      "source": [
        "my_dict.pop('last_name')\n",
        "my_dict"
      ],
      "execution_count": 98,
      "outputs": [
        {
          "output_type": "execute_result",
          "data": {
            "text/plain": [
              "{'name': 'Masha', 'university': 'KPI'}"
            ]
          },
          "metadata": {},
          "execution_count": 98
        }
      ]
    },
    {
      "cell_type": "code",
      "metadata": {
        "id": "leqaUaMBIpgs",
        "colab": {
          "base_uri": "https://localhost:8080/"
        },
        "outputId": "58ce9fe0-9e89-48db-e354-5c71c2e4c3b0"
      },
      "source": [
        "my_dict.update({'last_name': 'Ivanenko', 'age': 19})\n",
        "my_dict"
      ],
      "execution_count": 99,
      "outputs": [
        {
          "output_type": "execute_result",
          "data": {
            "text/plain": [
              "{'name': 'Masha', 'university': 'KPI', 'last_name': 'Ivanenko', 'age': 19}"
            ]
          },
          "metadata": {},
          "execution_count": 99
        }
      ]
    },
    {
      "cell_type": "code",
      "metadata": {
        "id": "7nF_4jzrL2xg",
        "colab": {
          "base_uri": "https://localhost:8080/"
        },
        "outputId": "1e54ba62-d4bf-4c3f-8c6d-73d196f43339"
      },
      "source": [
        "my_dict.items()"
      ],
      "execution_count": 100,
      "outputs": [
        {
          "output_type": "execute_result",
          "data": {
            "text/plain": [
              "dict_items([('name', 'Masha'), ('university', 'KPI'), ('last_name', 'Ivanenko'), ('age', 19)])"
            ]
          },
          "metadata": {},
          "execution_count": 100
        }
      ]
    },
    {
      "cell_type": "code",
      "metadata": {
        "id": "p7kYn2zvI0IQ",
        "colab": {
          "base_uri": "https://localhost:8080/"
        },
        "outputId": "0f2c0acb-c0fd-4b01-8fe5-3e2b964c1390"
      },
      "source": [
        "my_dict.keys()"
      ],
      "execution_count": 101,
      "outputs": [
        {
          "output_type": "execute_result",
          "data": {
            "text/plain": [
              "dict_keys(['name', 'university', 'last_name', 'age'])"
            ]
          },
          "metadata": {},
          "execution_count": 101
        }
      ]
    },
    {
      "cell_type": "code",
      "metadata": {
        "id": "3v3nfb5vUyII",
        "colab": {
          "base_uri": "https://localhost:8080/"
        },
        "outputId": "4d90869d-18dc-4a34-9430-de6e0ba99c5f"
      },
      "source": [
        "my_dict.values()"
      ],
      "execution_count": 102,
      "outputs": [
        {
          "output_type": "execute_result",
          "data": {
            "text/plain": [
              "dict_values(['Masha', 'KPI', 'Ivanenko', 19])"
            ]
          },
          "metadata": {},
          "execution_count": 102
        }
      ]
    },
    {
      "cell_type": "markdown",
      "metadata": {
        "id": "z0vqDFdl7mZx"
      },
      "source": [
        "##<center>__Самостійні завдання__</center>\n",
        "\n",
        "> Скопіювати блок самостійних завдань в окремий файл ***LastName_CP1.ipynb***"
      ]
    },
    {
      "cell_type": "markdown",
      "metadata": {
        "id": "OflG6K-YVWbw"
      },
      "source": [
        "### Завдання №1\n",
        "\n",
        "1. Створити цілочисельну змінну `x`. \n",
        "2. Змінити тип даних змінної `x` на дійсний.\n",
        "3. Створити нову числову змінну `y`. \n",
        "4. Піднести змінну `x` до степеня `y` і зберегти результат як змінну `z`. (двома способами)\n",
        "5. Вивести значення змінної `z` та її тип."
      ]
    },
    {
      "cell_type": "code",
      "metadata": {
        "id": "2vu87JoBTOfH",
        "colab": {
          "base_uri": "https://localhost:8080/"
        },
        "outputId": "106d6341-f39c-4380-a5c6-af18d7e7a86a"
      },
      "source": [
        "x, y = 5, 2\n",
        "x = float(x)\n",
        "z_operator, z_function = x ** y, pow(x, y)\n",
        "print(f\"Z value with ** operator {z_operator} type {type(z_operator)}\\nZ value with pow() function {z_function} type {type(z_function)}\")"
      ],
      "execution_count": 103,
      "outputs": [
        {
          "output_type": "stream",
          "name": "stdout",
          "text": [
            "Z value with ** operator 25.0 type <class 'float'>\n",
            "Z value with pow() function 25.0 type <class 'float'>\n"
          ]
        }
      ]
    },
    {
      "cell_type": "markdown",
      "metadata": {
        "id": "LirTJrM7W-cg"
      },
      "source": [
        "### Завдання №2\n",
        "\n",
        "1. Вивести запис: **\"{X} в степені {Y} дорівнює {Z}.\"**, використовуючи рядковий запис де X, Y та Z значення змінних.\n",
        "2. Перетворіть рядок так, щоб можна було прочитати лише **\"X в степені\"**, с заду наперед.\n",
        "\n",
        "> Очікуваний результат:\n",
        "```python\n",
        "x = 2\n",
        "y = 3\n",
        "\"2 в степені 3 дорівнює 8.\"\n",
        "\"інепетс в 2\"\n",
        "```"
      ]
    },
    {
      "cell_type": "code",
      "metadata": {
        "id": "8R4pqDIyW96X",
        "colab": {
          "base_uri": "https://localhost:8080/"
        },
        "outputId": "6f978ebb-6ecd-4a27-b8b9-f280141cf2b7"
      },
      "source": [
        "x, y = 10, 12\n",
        "output = f\"{x} в степені {y} дорівнює {x ** y}.\"\n",
        "print(output)\n",
        "print(output[len(str(x)) + 9::-1])"
      ],
      "execution_count": 104,
      "outputs": [
        {
          "output_type": "stream",
          "name": "stdout",
          "text": [
            "10 в степені 12 дорівнює 1000000000000.\n",
            "інепетс в 01\n"
          ]
        }
      ]
    },
    {
      "cell_type": "markdown",
      "metadata": {
        "id": "TnzAtVsKZkjc"
      },
      "source": [
        "### Завдання №3\n",
        "\n",
        "1. Створіть новий список `my_list`, який містить 5 кольорів.\n",
        "2. Перевірте чи є в вашому списку колір `\"бузковий\"`. Якщо немає, то додайте його використовуючи команду `append`.\n",
        "3. Змініть перший елемент списку на `\"рожевий\"`.\n",
        "4. Видаліть другий елемент списку та виведіть результат на екран."
      ]
    },
    {
      "cell_type": "code",
      "metadata": {
        "id": "royz-qkJZmQ8",
        "colab": {
          "base_uri": "https://localhost:8080/"
        },
        "outputId": "1645b40b-1542-47e8-ede9-d8de5f4b5bf7"
      },
      "source": [
        "my_list = [\"червоний\", \"чорний\", \"синій\", \"жовтий\", \"малиновий\"]\n",
        "if not \"бузковий\" in my_list:\n",
        "    my_list.append(\"бузковий\")\n",
        "my_list[0] = \"рожевий\"\n",
        "del(my_list[1])\n",
        "my_list"
      ],
      "execution_count": 105,
      "outputs": [
        {
          "output_type": "execute_result",
          "data": {
            "text/plain": [
              "['рожевий', 'синій', 'жовтий', 'малиновий', 'бузковий']"
            ]
          },
          "metadata": {},
          "execution_count": 105
        }
      ]
    },
    {
      "cell_type": "markdown",
      "metadata": {
        "id": "bjIBnKjHceq4"
      },
      "source": [
        "### Завдання №4\n",
        "\n",
        "1. Створіть словник з країнами та їх столицями (країна - ключ, столиця - значення): Німеччина, Франція, Україна, США, Румунія, Італія. Виведіть результа.\n",
        "2. Додайте столицю Бельгії.\n",
        "3. Виведіть лише столиці."
      ]
    },
    {
      "cell_type": "code",
      "metadata": {
        "id": "A9WZujmvd3pd",
        "colab": {
          "base_uri": "https://localhost:8080/"
        },
        "outputId": "8b3c99da-d2af-4f69-c48c-b60fac062e8e"
      },
      "source": [
        "my_dict = {\"Німеччина\": \"Берлін\", \"Франція\": \"Париж\", \"Україна\": \"Київ\", \"США\": \"Вашингтон\", \"Румунія\": \"Бухарест\", \"Італія\": \"Рим\" }\n",
        "print(my_dict)\n",
        "my_dict[\"Бельгія\"] = \"Брюссель\"\n",
        "print(my_dict.values())"
      ],
      "execution_count": 106,
      "outputs": [
        {
          "output_type": "stream",
          "name": "stdout",
          "text": [
            "{'Німеччина': 'Берлін', 'Франція': 'Париж', 'Україна': 'Київ', 'США': 'Вашингтон', 'Румунія': 'Бухарест', 'Італія': 'Рим'}\n",
            "dict_values(['Берлін', 'Париж', 'Київ', 'Вашингтон', 'Бухарест', 'Рим', 'Брюссель'])\n"
          ]
        }
      ]
    },
    {
      "cell_type": "markdown",
      "metadata": {
        "id": "2QuFFg1KTP-t"
      },
      "source": [
        "### Завдання №5\n",
        "\n",
        "Виведіть значення списку_1, що не містяться в списку_2.\n",
        "\n",
        "> Очікуваний результат:\n",
        "```python\n",
        "[1,4,6,7]\n",
        "```"
      ]
    },
    {
      "cell_type": "code",
      "metadata": {
        "id": "spnHiR02TdSL",
        "colab": {
          "base_uri": "https://localhost:8080/"
        },
        "outputId": "d7fea88a-660e-416b-ca80-9425bbe95a66"
      },
      "source": [
        "list_1 = [1,2,3,4,5,6,7]\n",
        "list_2 = [2,5,3]\n",
        "\n",
        "output = [res for res in list_1 if not res in list_2]\n",
        "print(output)"
      ],
      "execution_count": 107,
      "outputs": [
        {
          "output_type": "stream",
          "name": "stdout",
          "text": [
            "[1, 4, 6, 7]\n"
          ]
        }
      ]
    },
    {
      "cell_type": "markdown",
      "metadata": {
        "id": "5uXdDpjET7eA"
      },
      "source": [
        "### Завдання №6\n",
        "\n",
        "порахуйте всі входження слова \"Наука\" в рядок, без урахування регістру\n",
        "\n",
        "> Очікуваний результат:\n",
        "```python\n",
        "3\n",
        "```"
      ]
    },
    {
      "cell_type": "code",
      "source": [
        "import re"
      ],
      "metadata": {
        "id": "czALuzIxaW7c"
      },
      "execution_count": 108,
      "outputs": []
    },
    {
      "cell_type": "code",
      "metadata": {
        "id": "-yLtDPyVTdrG",
        "colab": {
          "base_uri": "https://localhost:8080/"
        },
        "outputId": "2ac289a0-f607-4896-b6df-c6c7ed0d8a32"
      },
      "source": [
        "string = \"Наука про дані – це наука про методи аналізу даних і вилучення\\\n",
        " з них цінної інформації та знань. Вона тісно пов’язана з такими галузями, \\\n",
        " як машинне навчання, наука про мислення, а також з технологіями для роботи \\\n",
        " з великими даними.\"\n",
        "\n",
        "# МІСЦЕ ДЛЯ КОДУ\n",
        "string.lower().count(\"наука\")"
      ],
      "execution_count": 109,
      "outputs": [
        {
          "output_type": "execute_result",
          "data": {
            "text/plain": [
              "3"
            ]
          },
          "metadata": {},
          "execution_count": 109
        }
      ]
    },
    {
      "cell_type": "markdown",
      "metadata": {
        "id": "lORkhbauVchI"
      },
      "source": [
        "### Завдання №7\n",
        "\n",
        "Видаліть повтори зі списку та створіть кортеж. Знайдіть мінімальне та максимальне значення."
      ]
    },
    {
      "cell_type": "code",
      "metadata": {
        "id": "57Gp1maMWDWh",
        "colab": {
          "base_uri": "https://localhost:8080/"
        },
        "outputId": "f78f321a-92c3-4524-d717-a037e39e5923"
      },
      "source": [
        "my_list = [1, 4, 5, 10, 1, 3, 30, 100, 5]\n",
        "\n",
        "# МІСЦЕ ДЛЯ КОДУ\n",
        "my_tuple = tuple(set(my_list))\n",
        "print(f\"{my_tuple} - resulting tuple\\nMin value {min(my_tuple)}\\nMax value {max(my_tuple)}\")"
      ],
      "execution_count": 110,
      "outputs": [
        {
          "output_type": "stream",
          "name": "stdout",
          "text": [
            "(1, 3, 4, 5, 100, 10, 30) - resulting tuple\n",
            "Min value 1\n",
            "Max value 100\n"
          ]
        }
      ]
    },
    {
      "cell_type": "markdown",
      "metadata": {
        "id": "alRgo8HIWg14"
      },
      "source": [
        "### Завдання №8\n",
        "\n",
        "Дано дві множини  \n",
        "1. перевірити чи є перша множина підмножиною другої\n",
        "2. знайти об'єднання, перетин, різницю та симетричну різницю цих множин\n"
      ]
    },
    {
      "cell_type": "code",
      "metadata": {
        "id": "RxfbsbqsW8Up",
        "colab": {
          "base_uri": "https://localhost:8080/"
        },
        "outputId": "7d81fd40-a135-41a8-8e35-a60fd2b0f983"
      },
      "source": [
        "set_1 = {57, 83, 29}\n",
        "set_2 = {67, 73, 43, 48, 83, 57, 29}\n",
        "\n",
        "# МІСЦЕ ДЛЯ КОДУ\n",
        "print(f\"Is set_1 subset of set_2 {set_1.issubset(set_2)}\\nUnion is {set_1.union(set_2)}\\nIntersection is {set_1.intersection(set_2)}\\nSymmentric difference is {set_1.symmetric_difference(set_2)}\")\n",
        "\n"
      ],
      "execution_count": 111,
      "outputs": [
        {
          "output_type": "stream",
          "name": "stdout",
          "text": [
            "Is set_1 subset of set_2 True\n",
            "Union is {67, 73, 43, 48, 83, 57, 29}\n",
            "Intersection is {57, 83, 29}\n",
            "Symmentric difference is {48, 67, 73, 43}\n"
          ]
        }
      ]
    },
    {
      "cell_type": "markdown",
      "metadata": {
        "id": "5HlthU73XbMO"
      },
      "source": [
        "### Завдання №9\n",
        "\n",
        "Дано рядок `string`, порахувати кількість входжень літер \"а\", \"д\" та \"н\" та створити словник з цих літер та кількістю їх входжень. Вивести пари ключ-значення на екран\n",
        "\n",
        "> Очікуваний результат:\n",
        "```python\n",
        "dict_items([('а', 24), ('д', 5), ('н', 25)])\n",
        "```"
      ]
    },
    {
      "cell_type": "code",
      "metadata": {
        "id": "fbzuRDZujnhF",
        "colab": {
          "base_uri": "https://localhost:8080/"
        },
        "outputId": "db9cfd41-cb1a-44cb-bf94-df0d5810d81a"
      },
      "source": [
        "string = \"Наука про дані – це наука про методи аналізу даних і вилучення\\\n",
        " з них цінної інформації та знань. Вона тісно пов’язана з такими галузями, \\\n",
        " як машинне навчання, наука про мислення, а також з технологіями для роботи \\\n",
        " з великими даними.\"\n",
        "\n",
        "# МІСЦЕ ДЛЯ КОДУ\n",
        "# Результат отриманий лише для маленьких літер\n",
        "res_dict = {'а': string.count('а'), 'д': string.count('д'), 'н': string.count('н')}\n",
        "res_dict"
      ],
      "execution_count": 112,
      "outputs": [
        {
          "output_type": "execute_result",
          "data": {
            "text/plain": [
              "{'а': 24, 'д': 5, 'н': 25}"
            ]
          },
          "metadata": {},
          "execution_count": 112
        }
      ]
    },
    {
      "cell_type": "markdown",
      "metadata": {
        "id": "frXoXi52twFQ"
      },
      "source": [
        "### Завдання №10\n",
        "\n",
        "Знайти суму всих елеменів словника\n",
        "\n",
        "> використайте функцію `map()`, яка використовується для застосування функції до кожного елементу итеруючого об'єкту (наприклад, списку чи словника) та повернення нового ітератора для отримання результів.\n",
        "\n",
        "> Функция `map()` имеет следующий синтаксис:\n",
        "```\n",
        "map(function, iterable, [iterable 2, iterable 3, ...])\n",
        "\n",
        "> Очікуваний результат\n",
        "```python\n",
        "390\n",
        "```"
      ]
    },
    {
      "cell_type": "code",
      "metadata": {
        "id": "JH7g50AbfVp-",
        "colab": {
          "base_uri": "https://localhost:8080/"
        },
        "outputId": "871ca32d-763f-4ec1-942f-bf42fd3c8efe"
      },
      "source": [
        "my_dict = {'a': [10, 20, 30, 40],\n",
        "           'b': [22, 11, 33, 44],\n",
        "           'c': [12, 34, 56, 78]}\n",
        "\n",
        "# МІСЦЕ ДЛЯ КОДУ\n",
        "print(sum(list(map(lambda input: sum(input), my_dict.values()))))"
      ],
      "execution_count": 113,
      "outputs": [
        {
          "output_type": "stream",
          "name": "stdout",
          "text": [
            "390\n"
          ]
        }
      ]
    },
    {
      "cell_type": "markdown",
      "metadata": {
        "id": "pvVHWUF4gSm8"
      },
      "source": [
        "### Завдання №11\n",
        "\n",
        "Знайдіть друге найменше та друге найбільше значення в списку та виведіть на екран такий запис:\n",
        "\n",
        "```python\n",
        "\"Друге найменше значення - 1 та друге найбільше значення - 398.\"\n",
        "```"
      ]
    },
    {
      "cell_type": "code",
      "metadata": {
        "id": "HFL0NALUf2RG",
        "colab": {
          "base_uri": "https://localhost:8080/"
        },
        "outputId": "08388e32-660d-4d10-95e3-2d5877cea53f"
      },
      "source": [
        "my_list = [1,200, 34, 65, 499, 11, -4, 42, 398, 12, 3, 100]\n",
        "\n",
        "# МІСЦЕ ДЛЯ КОДУ\n",
        "new_list = list(set(my_list))\n",
        "new_list.sort()\n",
        "print(f\"Друге найменше значення - {new_list[1]} та друге найбільше значення - {new_list[-2]}.\")"
      ],
      "execution_count": 114,
      "outputs": [
        {
          "output_type": "stream",
          "name": "stdout",
          "text": [
            "Друге найменше значення - 1 та друге найбільше значення - 398.\n"
          ]
        }
      ]
    },
    {
      "cell_type": "markdown",
      "metadata": {
        "id": "yK8b3Mf0guPD"
      },
      "source": [
        "### Завдання №12\n",
        "\n",
        "Об'єднайте наступні словники в один.\n",
        "\n",
        "> Очікуваний результат:\n",
        "```python\n",
        "{1: 10, 2: 20, 3: 30, 4: 40, 5: 50, 6: 60}\n",
        "```"
      ]
    },
    {
      "cell_type": "code",
      "metadata": {
        "id": "NCTujRJdg6n_",
        "colab": {
          "base_uri": "https://localhost:8080/"
        },
        "outputId": "19f7cba1-bd87-477f-cd76-a976e0f69f65"
      },
      "source": [
        "dic1 = {1:10, 2:20}\n",
        "dic2 = {3:30, 4:40}\n",
        "dic3 = {5:50, 6:60}\n",
        "\n",
        "# МІСЦЕ ДЛЯ КОДУ\n",
        "dic1.update(dic2)\n",
        "dic1.update(dic3)\n",
        "print(dic1)"
      ],
      "execution_count": 115,
      "outputs": [
        {
          "output_type": "stream",
          "name": "stdout",
          "text": [
            "{1: 10, 2: 20, 3: 30, 4: 40, 5: 50, 6: 60}\n"
          ]
        }
      ]
    },
    {
      "cell_type": "markdown",
      "metadata": {
        "id": "32h8Qu3ShOVM"
      },
      "source": [
        "### Завдання №13\n",
        "Створіть словник з наступних списків. Використайте функцію`zip()`\n",
        "\n",
        ">Функція `zip(a, b)` створює об'єкт-ітератор, з якого при кожному обороті циклу створюється кортеж - впорядкована пара $(a_i, b_i)$ \n",
        "\n",
        ">Очікуваний результат:\n",
        "```python\n",
        "{'червоний': '#FF0000', 'зелений': '#008000', 'синій': '#0000FF'} \n",
        "```"
      ]
    },
    {
      "cell_type": "code",
      "metadata": {
        "id": "ZBbgGomchYa3",
        "colab": {
          "base_uri": "https://localhost:8080/"
        },
        "outputId": "5514bcbe-518f-4bd5-aa47-781bb964f796"
      },
      "source": [
        "keys = ['червоний', 'зелений', 'синій']\n",
        "values = ['#FF0000','#008000', '#0000FF']\n",
        "\n",
        "# МІСЦЕ ДЛЯ КОДУ\n",
        "dict(zip(keys, values))"
      ],
      "execution_count": 116,
      "outputs": [
        {
          "output_type": "execute_result",
          "data": {
            "text/plain": [
              "{'червоний': '#FF0000', 'зелений': '#008000', 'синій': '#0000FF'}"
            ]
          },
          "metadata": {},
          "execution_count": 116
        }
      ]
    }
  ]
}